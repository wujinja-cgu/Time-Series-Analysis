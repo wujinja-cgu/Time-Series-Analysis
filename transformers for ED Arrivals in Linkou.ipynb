{
  "metadata": {
    "kernelspec": {
      "language": "python",
      "display_name": "Python 3",
      "name": "python3"
    },
    "language_info": {
      "pygments_lexer": "ipython3",
      "nbconvert_exporter": "python",
      "version": "3.6.4",
      "file_extension": ".py",
      "codemirror_mode": {
        "name": "ipython",
        "version": 3
      },
      "name": "python",
      "mimetype": "text/x-python"
    },
    "kaggle": {
      "accelerator": "gpu",
      "dataSources": [
        {
          "sourceId": 3216581,
          "sourceType": "datasetVersion",
          "datasetId": 1863963
        }
      ],
      "dockerImageVersionId": 30158,
      "isInternetEnabled": true,
      "language": "python",
      "sourceType": "notebook",
      "isGpuEnabled": true
    },
    "colab": {
      "provenance": []
    }
  },
  "nbformat_minor": 0,
  "nbformat": 4,
  "cells": [
    {
      "cell_type": "code",
      "source": [
        "import numpy as np\n",
        "import tensorflow as tf\n",
        "from tensorflow import keras\n",
        "from keras import layers\n",
        "from keras.layers import Flatten\n",
        "from keras import backend as K\n",
        "from sklearn.preprocessing import MinMaxScaler\n",
        "from sklearn.metrics import mean_squared_error\n",
        "import sqlite3\n",
        "import pandas as pd\n",
        "import math\n",
        "import matplotlib.pyplot as plt\n",
        "plt.style.use('seaborn')\n",
        "from datetime import datetime\n",
        "\n",
        "#For reproducability\n",
        "from numpy.random import seed\n",
        "seed(1)\n",
        "tf.random.set_seed(2)\n",
        "\n",
        "# Some functions to help out with\n",
        "def plot_predictions(test,predicted,symbol):\n",
        "    plt.plot(test, color='red',label=f'Real {symbol} ED Arrivals')\n",
        "    plt.plot(predicted, color='blue',label=f'Predicted {symbol} ED Arrivals')\n",
        "    plt.title(f'{symbol} ED Arrivals Prediction')\n",
        "    plt.xlabel('Date')\n",
        "    plt.ylabel(f'{symbol} ED Arrivals')\n",
        "    plt.legend()\n",
        "    plt.show()\n",
        "\n",
        "def plot_return_predictions(test,predicted,symbol):\n",
        "    plt.plot(test, color='red',label=f'Real {symbol} ED Arrivals Returns')\n",
        "    plt.plot(predicted, color='blue',label=f'Predicted {symbol} ED Arrivals Returns')\n",
        "    plt.title(f'{symbol} ED Arrivals Return Prediction')\n",
        "    plt.xlabel('Date')\n",
        "    plt.ylabel(f'{symbol} ED Arrivals Returns')\n",
        "    plt.legend()\n",
        "    plt.show()\n",
        "\n",
        "def return_rmse(test,predicted):\n",
        "    rmse = math.sqrt(mean_squared_error(test, predicted))\n",
        "    print(\"The root mean squared error is {}.\".format(rmse))\n",
        "    return rmse\n",
        "\n",
        "#def get_ticker_data(ticker: str, param_start_date, param_end_date) -> dict:\n",
        "#    raw_data = YahooFinancials(ticker)\n",
        "#    return raw_data.get_historical_price_data(param_start_date, param_end_date, \"daily\").copy()\n",
        "\n",
        "#def fetch_ticker_data(ticker: str, start_date, end_date) -> pd.DataFrame:\n",
        "#    date_range = pd.bdate_range(start=start_date, end=end_date)\n",
        "#    values = pd.DataFrame({'Date': date_range})\n",
        "#    values['Date'] = pd.to_datetime(values['Date'])\n",
        "#    raw_data = get_ticker_data(ticker, start_date, end_date)\n",
        "#    return pd.DataFrame(raw_data[ticker][\"prices\"])[['date', 'open', 'high', 'low', 'adjclose', 'volume']]\n",
        "\n",
        "def shift(xs, n):\n",
        "    e = np.empty_like(xs)\n",
        "    if n >= 0:\n",
        "        e[:n] = np.nan\n",
        "        e[n:] = xs[:-n]\n",
        "    else:\n",
        "        e[n:] = np.nan\n",
        "        e[:n] = xs[-n:]\n",
        "    return e"
      ],
      "metadata": {
        "_uuid": "8f2839f25d086af736a60e9eeb907d3b93b6e0e5",
        "_cell_guid": "b1076dfc-b9ad-4769-8c92-a6c4dae69d19",
        "_kg_hide-input": true,
        "_kg_hide-output": true,
        "execution": {
          "iopub.status.busy": "2022-02-25T18:12:44.121639Z",
          "iopub.execute_input": "2022-02-25T18:12:44.122057Z",
          "iopub.status.idle": "2022-02-25T18:12:51.377303Z",
          "shell.execute_reply.started": "2022-02-25T18:12:44.122019Z",
          "shell.execute_reply": "2022-02-25T18:12:51.376495Z"
        },
        "trusted": true,
        "id": "ojqgT53oIe9p",
        "outputId": "d0dbcaa3-f820-4b9b-813b-4aa9aad68d82",
        "colab": {
          "base_uri": "https://localhost:8080/"
        }
      },
      "execution_count": 2,
      "outputs": [
        {
          "output_type": "stream",
          "name": "stderr",
          "text": [
            "<ipython-input-2-4d8924b4580d>:13: MatplotlibDeprecationWarning: The seaborn styles shipped by Matplotlib are deprecated since 3.6, as they no longer correspond to the styles shipped by seaborn. However, they will remain available as 'seaborn-v0_8-<style>'. Alternatively, directly use the seaborn API instead.\n",
            "  plt.style.use('seaborn')\n"
          ]
        }
      ]
    },
    {
      "cell_type": "markdown",
      "source": [
        "# Get the Data"
      ],
      "metadata": {
        "id": "gkmy5PvUIe9r"
      }
    },
    {
      "cell_type": "code",
      "source": [
        "import pandas as pd\n",
        "url='https://raw.githubusercontent.com/wujinja-cgu/Time-Series-Analysis/main/time%20series%20data.csv'\n",
        "df = pd.read_csv(url, index_col='DATE', parse_dates=[\"DATE\"])\n",
        "df.head()"
      ],
      "metadata": {
        "_kg_hide-input": true,
        "_kg_hide-output": true,
        "execution": {
          "iopub.status.busy": "2022-02-25T18:12:51.379936Z",
          "iopub.execute_input": "2022-02-25T18:12:51.380474Z",
          "iopub.status.idle": "2022-02-25T18:12:51.672505Z",
          "shell.execute_reply.started": "2022-02-25T18:12:51.380434Z",
          "shell.execute_reply": "2022-02-25T18:12:51.671806Z"
        },
        "trusted": true,
        "id": "BDV1dfD0Ie9r",
        "outputId": "cdc9b152-0ac5-4440-b6a5-a52f3ae892f1",
        "colab": {
          "base_uri": "https://localhost:8080/",
          "height": 237
        }
      },
      "execution_count": 3,
      "outputs": [
        {
          "output_type": "execute_result",
          "data": {
            "text/plain": [
              "             No\n",
              "DATE           \n",
              "2007-10-09  325\n",
              "2007-10-10  417\n",
              "2007-10-11  556\n",
              "2007-10-12  467\n",
              "2007-10-13  430"
            ],
            "text/html": [
              "\n",
              "  <div id=\"df-69f12d36-e4ba-4f28-ad43-aff7a1dba1e4\" class=\"colab-df-container\">\n",
              "    <div>\n",
              "<style scoped>\n",
              "    .dataframe tbody tr th:only-of-type {\n",
              "        vertical-align: middle;\n",
              "    }\n",
              "\n",
              "    .dataframe tbody tr th {\n",
              "        vertical-align: top;\n",
              "    }\n",
              "\n",
              "    .dataframe thead th {\n",
              "        text-align: right;\n",
              "    }\n",
              "</style>\n",
              "<table border=\"1\" class=\"dataframe\">\n",
              "  <thead>\n",
              "    <tr style=\"text-align: right;\">\n",
              "      <th></th>\n",
              "      <th>No</th>\n",
              "    </tr>\n",
              "    <tr>\n",
              "      <th>DATE</th>\n",
              "      <th></th>\n",
              "    </tr>\n",
              "  </thead>\n",
              "  <tbody>\n",
              "    <tr>\n",
              "      <th>2007-10-09</th>\n",
              "      <td>325</td>\n",
              "    </tr>\n",
              "    <tr>\n",
              "      <th>2007-10-10</th>\n",
              "      <td>417</td>\n",
              "    </tr>\n",
              "    <tr>\n",
              "      <th>2007-10-11</th>\n",
              "      <td>556</td>\n",
              "    </tr>\n",
              "    <tr>\n",
              "      <th>2007-10-12</th>\n",
              "      <td>467</td>\n",
              "    </tr>\n",
              "    <tr>\n",
              "      <th>2007-10-13</th>\n",
              "      <td>430</td>\n",
              "    </tr>\n",
              "  </tbody>\n",
              "</table>\n",
              "</div>\n",
              "    <div class=\"colab-df-buttons\">\n",
              "\n",
              "  <div class=\"colab-df-container\">\n",
              "    <button class=\"colab-df-convert\" onclick=\"convertToInteractive('df-69f12d36-e4ba-4f28-ad43-aff7a1dba1e4')\"\n",
              "            title=\"Convert this dataframe to an interactive table.\"\n",
              "            style=\"display:none;\">\n",
              "\n",
              "  <svg xmlns=\"http://www.w3.org/2000/svg\" height=\"24px\" viewBox=\"0 -960 960 960\">\n",
              "    <path d=\"M120-120v-720h720v720H120Zm60-500h600v-160H180v160Zm220 220h160v-160H400v160Zm0 220h160v-160H400v160ZM180-400h160v-160H180v160Zm440 0h160v-160H620v160ZM180-180h160v-160H180v160Zm440 0h160v-160H620v160Z\"/>\n",
              "  </svg>\n",
              "    </button>\n",
              "\n",
              "  <style>\n",
              "    .colab-df-container {\n",
              "      display:flex;\n",
              "      gap: 12px;\n",
              "    }\n",
              "\n",
              "    .colab-df-convert {\n",
              "      background-color: #E8F0FE;\n",
              "      border: none;\n",
              "      border-radius: 50%;\n",
              "      cursor: pointer;\n",
              "      display: none;\n",
              "      fill: #1967D2;\n",
              "      height: 32px;\n",
              "      padding: 0 0 0 0;\n",
              "      width: 32px;\n",
              "    }\n",
              "\n",
              "    .colab-df-convert:hover {\n",
              "      background-color: #E2EBFA;\n",
              "      box-shadow: 0px 1px 2px rgba(60, 64, 67, 0.3), 0px 1px 3px 1px rgba(60, 64, 67, 0.15);\n",
              "      fill: #174EA6;\n",
              "    }\n",
              "\n",
              "    .colab-df-buttons div {\n",
              "      margin-bottom: 4px;\n",
              "    }\n",
              "\n",
              "    [theme=dark] .colab-df-convert {\n",
              "      background-color: #3B4455;\n",
              "      fill: #D2E3FC;\n",
              "    }\n",
              "\n",
              "    [theme=dark] .colab-df-convert:hover {\n",
              "      background-color: #434B5C;\n",
              "      box-shadow: 0px 1px 3px 1px rgba(0, 0, 0, 0.15);\n",
              "      filter: drop-shadow(0px 1px 2px rgba(0, 0, 0, 0.3));\n",
              "      fill: #FFFFFF;\n",
              "    }\n",
              "  </style>\n",
              "\n",
              "    <script>\n",
              "      const buttonEl =\n",
              "        document.querySelector('#df-69f12d36-e4ba-4f28-ad43-aff7a1dba1e4 button.colab-df-convert');\n",
              "      buttonEl.style.display =\n",
              "        google.colab.kernel.accessAllowed ? 'block' : 'none';\n",
              "\n",
              "      async function convertToInteractive(key) {\n",
              "        const element = document.querySelector('#df-69f12d36-e4ba-4f28-ad43-aff7a1dba1e4');\n",
              "        const dataTable =\n",
              "          await google.colab.kernel.invokeFunction('convertToInteractive',\n",
              "                                                    [key], {});\n",
              "        if (!dataTable) return;\n",
              "\n",
              "        const docLinkHtml = 'Like what you see? Visit the ' +\n",
              "          '<a target=\"_blank\" href=https://colab.research.google.com/notebooks/data_table.ipynb>data table notebook</a>'\n",
              "          + ' to learn more about interactive tables.';\n",
              "        element.innerHTML = '';\n",
              "        dataTable['output_type'] = 'display_data';\n",
              "        await google.colab.output.renderOutput(dataTable, element);\n",
              "        const docLink = document.createElement('div');\n",
              "        docLink.innerHTML = docLinkHtml;\n",
              "        element.appendChild(docLink);\n",
              "      }\n",
              "    </script>\n",
              "  </div>\n",
              "\n",
              "\n",
              "<div id=\"df-e7eabc51-9b40-4fb6-b44c-b17ec5803dbd\">\n",
              "  <button class=\"colab-df-quickchart\" onclick=\"quickchart('df-e7eabc51-9b40-4fb6-b44c-b17ec5803dbd')\"\n",
              "            title=\"Suggest charts\"\n",
              "            style=\"display:none;\">\n",
              "\n",
              "<svg xmlns=\"http://www.w3.org/2000/svg\" height=\"24px\"viewBox=\"0 0 24 24\"\n",
              "     width=\"24px\">\n",
              "    <g>\n",
              "        <path d=\"M19 3H5c-1.1 0-2 .9-2 2v14c0 1.1.9 2 2 2h14c1.1 0 2-.9 2-2V5c0-1.1-.9-2-2-2zM9 17H7v-7h2v7zm4 0h-2V7h2v10zm4 0h-2v-4h2v4z\"/>\n",
              "    </g>\n",
              "</svg>\n",
              "  </button>\n",
              "\n",
              "<style>\n",
              "  .colab-df-quickchart {\n",
              "      --bg-color: #E8F0FE;\n",
              "      --fill-color: #1967D2;\n",
              "      --hover-bg-color: #E2EBFA;\n",
              "      --hover-fill-color: #174EA6;\n",
              "      --disabled-fill-color: #AAA;\n",
              "      --disabled-bg-color: #DDD;\n",
              "  }\n",
              "\n",
              "  [theme=dark] .colab-df-quickchart {\n",
              "      --bg-color: #3B4455;\n",
              "      --fill-color: #D2E3FC;\n",
              "      --hover-bg-color: #434B5C;\n",
              "      --hover-fill-color: #FFFFFF;\n",
              "      --disabled-bg-color: #3B4455;\n",
              "      --disabled-fill-color: #666;\n",
              "  }\n",
              "\n",
              "  .colab-df-quickchart {\n",
              "    background-color: var(--bg-color);\n",
              "    border: none;\n",
              "    border-radius: 50%;\n",
              "    cursor: pointer;\n",
              "    display: none;\n",
              "    fill: var(--fill-color);\n",
              "    height: 32px;\n",
              "    padding: 0;\n",
              "    width: 32px;\n",
              "  }\n",
              "\n",
              "  .colab-df-quickchart:hover {\n",
              "    background-color: var(--hover-bg-color);\n",
              "    box-shadow: 0 1px 2px rgba(60, 64, 67, 0.3), 0 1px 3px 1px rgba(60, 64, 67, 0.15);\n",
              "    fill: var(--button-hover-fill-color);\n",
              "  }\n",
              "\n",
              "  .colab-df-quickchart-complete:disabled,\n",
              "  .colab-df-quickchart-complete:disabled:hover {\n",
              "    background-color: var(--disabled-bg-color);\n",
              "    fill: var(--disabled-fill-color);\n",
              "    box-shadow: none;\n",
              "  }\n",
              "\n",
              "  .colab-df-spinner {\n",
              "    border: 2px solid var(--fill-color);\n",
              "    border-color: transparent;\n",
              "    border-bottom-color: var(--fill-color);\n",
              "    animation:\n",
              "      spin 1s steps(1) infinite;\n",
              "  }\n",
              "\n",
              "  @keyframes spin {\n",
              "    0% {\n",
              "      border-color: transparent;\n",
              "      border-bottom-color: var(--fill-color);\n",
              "      border-left-color: var(--fill-color);\n",
              "    }\n",
              "    20% {\n",
              "      border-color: transparent;\n",
              "      border-left-color: var(--fill-color);\n",
              "      border-top-color: var(--fill-color);\n",
              "    }\n",
              "    30% {\n",
              "      border-color: transparent;\n",
              "      border-left-color: var(--fill-color);\n",
              "      border-top-color: var(--fill-color);\n",
              "      border-right-color: var(--fill-color);\n",
              "    }\n",
              "    40% {\n",
              "      border-color: transparent;\n",
              "      border-right-color: var(--fill-color);\n",
              "      border-top-color: var(--fill-color);\n",
              "    }\n",
              "    60% {\n",
              "      border-color: transparent;\n",
              "      border-right-color: var(--fill-color);\n",
              "    }\n",
              "    80% {\n",
              "      border-color: transparent;\n",
              "      border-right-color: var(--fill-color);\n",
              "      border-bottom-color: var(--fill-color);\n",
              "    }\n",
              "    90% {\n",
              "      border-color: transparent;\n",
              "      border-bottom-color: var(--fill-color);\n",
              "    }\n",
              "  }\n",
              "</style>\n",
              "\n",
              "  <script>\n",
              "    async function quickchart(key) {\n",
              "      const quickchartButtonEl =\n",
              "        document.querySelector('#' + key + ' button');\n",
              "      quickchartButtonEl.disabled = true;  // To prevent multiple clicks.\n",
              "      quickchartButtonEl.classList.add('colab-df-spinner');\n",
              "      try {\n",
              "        const charts = await google.colab.kernel.invokeFunction(\n",
              "            'suggestCharts', [key], {});\n",
              "      } catch (error) {\n",
              "        console.error('Error during call to suggestCharts:', error);\n",
              "      }\n",
              "      quickchartButtonEl.classList.remove('colab-df-spinner');\n",
              "      quickchartButtonEl.classList.add('colab-df-quickchart-complete');\n",
              "    }\n",
              "    (() => {\n",
              "      let quickchartButtonEl =\n",
              "        document.querySelector('#df-e7eabc51-9b40-4fb6-b44c-b17ec5803dbd button');\n",
              "      quickchartButtonEl.style.display =\n",
              "        google.colab.kernel.accessAllowed ? 'block' : 'none';\n",
              "    })();\n",
              "  </script>\n",
              "</div>\n",
              "    </div>\n",
              "  </div>\n"
            ]
          },
          "metadata": {},
          "execution_count": 3
        }
      ]
    },
    {
      "cell_type": "code",
      "source": [
        "import matplotlib.pyplot as plt\n",
        "# Plot the training set\n",
        "df[\"No\"][:'2014'].plot(figsize=(16, 4), legend=True)\n",
        "# Plot the test set\n",
        "df[\"No\"]['2015':].plot(figsize=(16, 4), legend=True)\n",
        "plt.legend(['Training set (Before 2014)', 'Test set (2015 and beyond)'])\n",
        "plt.title('Linkou')\n",
        "plt.show()"
      ],
      "metadata": {
        "id": "KtFxsUatLgRn",
        "outputId": "d412ea0d-e3f9-4171-8109-a558196efd6e",
        "colab": {
          "base_uri": "https://localhost:8080/",
          "height": 408
        }
      },
      "execution_count": 4,
      "outputs": [
        {
          "output_type": "display_data",
          "data": {
            "text/plain": [
              "<Figure size 1600x400 with 1 Axes>"
            ],
            "image/png": "[encoded data removed]"
          },
          "metadata": {}
        }
      ]
    },
    {
      "cell_type": "code",
      "source": [
        "# We have chosen the target as 'Close' attribute for prices. Let's see what it looks like\n",
        "# here we are seperating the data\n",
        "training_set = df[:'2014'].iloc[:,0:1].values\n",
        "test_set = df['2015':].iloc[:,0:1].values\n",
        "\n",
        "print(training_set.shape)\n",
        "print(test_set.shape)"
      ],
      "metadata": {
        "_kg_hide-input": true,
        "execution": {
          "iopub.status.busy": "2022-02-25T18:12:51.679989Z",
          "iopub.execute_input": "2022-02-25T18:12:51.680801Z",
          "iopub.status.idle": "2022-02-25T18:12:51.698018Z",
          "shell.execute_reply.started": "2022-02-25T18:12:51.680762Z",
          "shell.execute_reply": "2022-02-25T18:12:51.697321Z"
        },
        "trusted": true,
        "id": "iRZB5DpJIe9s",
        "outputId": "eecda525-80d5-4d9b-ca3d-a4fdd8210acb",
        "colab": {
          "base_uri": "https://localhost:8080/"
        }
      },
      "execution_count": 5,
      "outputs": [
        {
          "output_type": "stream",
          "name": "stdout",
          "text": [
            "(2641, 1)\n",
            "(355, 1)\n"
          ]
        }
      ]
    },
    {
      "cell_type": "code",
      "source": [
        "# Scaling the training set - I've tried it without scaling and results are very poor.\n",
        "sc = MinMaxScaler(feature_range=(0,1))\n",
        "training_set_scaled = sc.fit_transform(training_set)\n"
      ],
      "metadata": {
        "_kg_hide-input": true,
        "execution": {
          "iopub.status.busy": "2022-02-25T18:12:52.009411Z",
          "iopub.execute_input": "2022-02-25T18:12:52.009755Z",
          "iopub.status.idle": "2022-02-25T18:12:52.015173Z",
          "shell.execute_reply.started": "2022-02-25T18:12:52.009723Z",
          "shell.execute_reply": "2022-02-25T18:12:52.014419Z"
        },
        "trusted": true,
        "id": "-5AlY3sZIe9u"
      },
      "execution_count": 6,
      "outputs": []
    },
    {
      "cell_type": "code",
      "source": [
        "timesteps = 30\n",
        "# First, we create data sets where each sample has with 8 timesteps and 1 output\n",
        "# So for each element of training set, we have 8 previous training set elements\n",
        "x_train = []\n",
        "y_train = []\n",
        "for i in range(timesteps,training_set.shape[0]):\n",
        "    x_train.append(training_set_scaled[i-timesteps:i,0])\n",
        "    y_train.append(training_set_scaled[i,0])\n",
        "x_train, y_train = np.array(x_train), np.array(y_train)\n",
        "\n",
        "print(x_train[0], y_train[0])\n",
        "print(x_train[1], y_train[1])"
      ],
      "metadata": {
        "execution": {
          "iopub.status.busy": "2022-02-25T18:12:52.016684Z",
          "iopub.execute_input": "2022-02-25T18:12:52.016953Z",
          "iopub.status.idle": "2022-02-25T18:12:52.029432Z",
          "shell.execute_reply.started": "2022-02-25T18:12:52.016917Z",
          "shell.execute_reply": "2022-02-25T18:12:52.028706Z"
        },
        "trusted": true,
        "id": "ttKE9OxcIe9u",
        "outputId": "f9aef78d-dbec-4199-f0e7-8464ff8c88d1",
        "colab": {
          "base_uri": "https://localhost:8080/"
        }
      },
      "execution_count": 7,
      "outputs": [
        {
          "output_type": "stream",
          "name": "stdout",
          "text": [
            "[0.         0.15944541 0.40034662 0.24610052 0.18197574 0.18890815\n",
            " 0.18890815 0.15771231 0.24263432 0.43327556 0.18544194 0.25823224\n",
            " 0.19237435 0.06759099 0.05892548 0.14904679 0.28596187 0.14384749\n",
            " 0.09358752 0.12651646 0.14731369 0.08492201 0.13171577 0.27556326\n",
            " 0.20797227 0.13864818 0.12305026 0.10571924 0.24783362 0.2322357 ] 0.31369150779896005\n",
            "[0.15944541 0.40034662 0.24610052 0.18197574 0.18890815 0.18890815\n",
            " 0.15771231 0.24263432 0.43327556 0.18544194 0.25823224 0.19237435\n",
            " 0.06759099 0.05892548 0.14904679 0.28596187 0.14384749 0.09358752\n",
            " 0.12651646 0.14731369 0.08492201 0.13171577 0.27556326 0.20797227\n",
            " 0.13864818 0.12305026 0.10571924 0.24783362 0.2322357  0.31369151] 0.23743500866551115\n"
          ]
        }
      ]
    },
    {
      "cell_type": "markdown",
      "source": [
        "### The choice of the number of timesteps is the first thing worth noting. This is also true with RNNs, but with transformers - the optimum choice is often much lower. Three stocks are shown below. With RNNs the number ranges much higher. For ConvLSTMs the optimum is usually between 40-90 timesteps, with transformers it is usually under 10."
      ],
      "metadata": {
        "id": "ZexrtaRuIe9v"
      }
    },
    {
      "cell_type": "code",
      "source": [
        "print(x_train.shape, y_train.shape)\n",
        "x_train = x_train.reshape((x_train.shape[0], x_train.shape[1], 1))\n",
        "print(x_train.shape, y_train.shape)"
      ],
      "metadata": {
        "_kg_hide-input": true,
        "execution": {
          "iopub.status.busy": "2022-02-25T18:12:52.030596Z",
          "iopub.execute_input": "2022-02-25T18:12:52.031354Z",
          "iopub.status.idle": "2022-02-25T18:12:52.039379Z",
          "shell.execute_reply.started": "2022-02-25T18:12:52.031309Z",
          "shell.execute_reply": "2022-02-25T18:12:52.038612Z"
        },
        "trusted": true,
        "id": "j1qyQ6orIe9v",
        "outputId": "8d61d554-7559-4479-b971-8c9b2f7ec5c3",
        "colab": {
          "base_uri": "https://localhost:8080/"
        }
      },
      "execution_count": 8,
      "outputs": [
        {
          "output_type": "stream",
          "name": "stdout",
          "text": [
            "(2611, 30) (2611,)\n",
            "(2611, 30, 1) (2611,)\n"
          ]
        }
      ]
    },
    {
      "cell_type": "code",
      "source": [
        "print(x_train.shape, y_train.shape)\n",
        "idx = np.random.permutation(len(x_train))\n",
        "x_train = x_train[idx]\n",
        "y_train = y_train[idx]"
      ],
      "metadata": {
        "_uuid": "8f2839f25d086af736a60e9eeb907d3b93b6e0e5",
        "_cell_guid": "b1076dfc-b9ad-4769-8c92-a6c4dae69d19",
        "_kg_hide-input": true,
        "execution": {
          "iopub.status.busy": "2022-02-25T18:12:52.04109Z",
          "iopub.execute_input": "2022-02-25T18:12:52.041747Z",
          "iopub.status.idle": "2022-02-25T18:12:52.049591Z",
          "shell.execute_reply.started": "2022-02-25T18:12:52.041703Z",
          "shell.execute_reply": "2022-02-25T18:12:52.048884Z"
        },
        "trusted": true,
        "id": "VGfQmYffIe9v",
        "outputId": "283e3862-f030-4af2-d345-abfa5516678f",
        "colab": {
          "base_uri": "https://localhost:8080/"
        }
      },
      "execution_count": 9,
      "outputs": [
        {
          "output_type": "stream",
          "name": "stdout",
          "text": [
            "(2611, 30, 1) (2611,)\n"
          ]
        }
      ]
    },
    {
      "cell_type": "markdown",
      "source": [
        "# Build the model\n",
        "\n",
        "### Our model processes a tensor of shape [batch size, sequence length, features], where sequence length is the number of time steps in your sample and features is the number of elements you are trying to predict. If we are only trying to predict one thing, such as closing price - then features is 1. When it comes to describing tensor shapes, I am going to refer to batch size as \"#samples\" so as not to confuse it with batch_size when fitting the model.\n",
        "\n",
        "### Fortunately, with recurrent neural nets (such as LSTMs) for timeseries analysis, the inputs [#samples, timesteps, features] are compatible with transformers!\n",
        "#### The image below is for a single transformer encoder block. For our purposes, the embedding is removed and limited to only to a LayerNormalization layer (which does work better than a BatchNormalization layer). The positional embedding is an option, but frankly - I have tried three diferent time2vec implementations and although the code works, the results are worse (If you can implement a time2vec function which actually improves the rmse score then please share with me). The multi-head attention is already coded for in keras. The feed forward part can be almost anything. We will use a Conv1D layer(because results are good) but you could get away with almost anything, dense layers, another LSTM, whatever you want. You could also stick an LSTM in the embedding layer - it works, if your return_sequences = True, it just give worse results."
      ],
      "metadata": {
        "id": "MUMW2mgTIe9v"
      }
    },
    {
      "cell_type": "markdown",
      "source": [
        "<center><img src = \"data:image/png;base64,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\"></center>"
      ],
      "metadata": {
        "id": "o6Z9Vb-RIe9v"
      }
    },
    {
      "cell_type": "code",
      "source": [
        "def transformer_encoder(inputs, head_size, num_heads, ff_dim, dropout=0):\n",
        "\n",
        "    # Normalization and Attention\n",
        "    # \"EMBEDDING LAYER\"\n",
        "    x = layers.LayerNormalization(epsilon=1e-6)(inputs)\n",
        "\n",
        "    # \"ATTENTION LAYER\"\n",
        "    x = layers.MultiHeadAttention(\n",
        "        key_dim=head_size, num_heads=num_heads, dropout=dropout\n",
        "    )(x, x)\n",
        "    x = layers.Dropout(dropout)(x)\n",
        "    res = x + inputs\n",
        "\n",
        "    # FEED FORWARD Part - you can stick anything here or just delete the whole section - it will still work.\n",
        "    x = layers.LayerNormalization(epsilon=1e-6)(res)\n",
        "    x = layers.Conv1D(filters=ff_dim, kernel_size=1, activation = \"relu\")(x)\n",
        "    x = layers.Dropout(dropout)(x)\n",
        "    x = layers.Conv1D(filters=inputs.shape[-1], kernel_size=1)(x)\n",
        "    return x + res"
      ],
      "metadata": {
        "execution": {
          "iopub.status.busy": "2022-02-25T18:12:52.050724Z",
          "iopub.execute_input": "2022-02-25T18:12:52.05124Z",
          "iopub.status.idle": "2022-02-25T18:12:52.059401Z",
          "shell.execute_reply.started": "2022-02-25T18:12:52.051204Z",
          "shell.execute_reply": "2022-02-25T18:12:52.058632Z"
        },
        "trusted": true,
        "id": "aJRjtvfsIe9w"
      },
      "execution_count": 10,
      "outputs": []
    },
    {
      "cell_type": "markdown",
      "source": [
        "### The main part of our model is now complete.\n",
        "### We can stack multiple of those transformer_encoder blocks and we can also proceed to add the final Multi-Layer Perceptron/ DNN head.\n",
        "\n",
        "### Apart from a stack of Dense layers, we need to reduce the output tensor of the TransformerEncoder part of our model down to a vector of features for each data point in the current batch. A pooling layer like GlobalAveragePooling1D layer will do this."
      ],
      "metadata": {
        "id": "wT7n19LEIe9w"
      }
    },
    {
      "cell_type": "code",
      "source": [
        "def build_model(\n",
        "    input_shape,\n",
        "    head_size,\n",
        "    num_heads,\n",
        "    ff_dim,\n",
        "    num_transformer_blocks,\n",
        "    mlp_units,\n",
        "    dropout=0,\n",
        "    mlp_dropout=0,\n",
        "):\n",
        "    inputs = keras.Input(shape=input_shape)\n",
        "    x = inputs\n",
        "\n",
        "    for _ in range(num_transformer_blocks):  # This is what stacks our transformer blocks\n",
        "        x = transformer_encoder(x, head_size, num_heads, ff_dim, dropout)\n",
        "\n",
        "    x = layers.GlobalAveragePooling1D(data_format=\"channels_first\")(x)\n",
        "    for dim in mlp_units:\n",
        "        x = layers.Dense(dim, activation=\"elu\")(x)\n",
        "        x = layers.Dropout(mlp_dropout)(x)\n",
        "    outputs = layers.Dense(1, activation=\"linear\")(x) #this is a pass-through\n",
        "    return keras.Model(inputs, outputs)"
      ],
      "metadata": {
        "execution": {
          "iopub.status.busy": "2022-02-25T18:12:52.060591Z",
          "iopub.execute_input": "2022-02-25T18:12:52.060894Z",
          "iopub.status.idle": "2022-02-25T18:12:52.069247Z",
          "shell.execute_reply.started": "2022-02-25T18:12:52.060856Z",
          "shell.execute_reply": "2022-02-25T18:12:52.068512Z"
        },
        "trusted": true,
        "id": "suIkIXtLIe9w"
      },
      "execution_count": 11,
      "outputs": []
    },
    {
      "cell_type": "markdown",
      "source": [
        "### Another note - the activation function above makes a difference, elu is best : elu > selu > tanh > relu > gelu > swish. I am curious if serlu would out perform them but I can't figure out how to add the custom activation function."
      ],
      "metadata": {
        "id": "delcKu91Ie9x"
      }
    },
    {
      "cell_type": "code",
      "source": [
        "def lr_scheduler(epoch, lr, warmup_epochs=30, decay_epochs=100, initial_lr=1e-6, base_lr=1e-3, min_lr=5e-5):\n",
        "    if epoch <= warmup_epochs:\n",
        "        pct = epoch / warmup_epochs\n",
        "        return ((base_lr - initial_lr) * pct) + initial_lr\n",
        "\n",
        "    if epoch > warmup_epochs and epoch < warmup_epochs+decay_epochs:\n",
        "        pct = 1 - ((epoch - warmup_epochs) / decay_epochs)\n",
        "        return ((base_lr - min_lr) * pct) + min_lr\n",
        "\n",
        "    return min_lr"
      ],
      "metadata": {
        "_kg_hide-input": true,
        "execution": {
          "iopub.status.busy": "2022-02-25T18:12:52.070141Z",
          "iopub.execute_input": "2022-02-25T18:12:52.071864Z",
          "iopub.status.idle": "2022-02-25T18:12:52.080252Z",
          "shell.execute_reply.started": "2022-02-25T18:12:52.071826Z",
          "shell.execute_reply": "2022-02-25T18:12:52.079536Z"
        },
        "trusted": true,
        "id": "YB6_V7rxIe9x"
      },
      "execution_count": 12,
      "outputs": []
    },
    {
      "cell_type": "code",
      "source": [
        "callbacks = [\n",
        "        keras.callbacks.EarlyStopping(patience=10, restore_best_weights=True),\n",
        "        keras.callbacks.LearningRateScheduler(lr_scheduler)\n",
        "      ]"
      ],
      "metadata": {
        "execution": {
          "iopub.status.busy": "2022-02-25T18:13:50.942774Z",
          "iopub.execute_input": "2022-02-25T18:13:50.943025Z",
          "iopub.status.idle": "2022-02-25T18:13:50.947467Z",
          "shell.execute_reply.started": "2022-02-25T18:13:50.942998Z",
          "shell.execute_reply": "2022-02-25T18:13:50.946616Z"
        },
        "trusted": true,
        "id": "QVH4pUQeIe9x"
      },
      "execution_count": 13,
      "outputs": []
    },
    {
      "cell_type": "code",
      "source": [
        "input_shape = x_train.shape[1:]\n",
        "print(input_shape)"
      ],
      "metadata": {
        "execution": {
          "iopub.status.busy": "2022-02-25T18:20:23.155012Z",
          "iopub.execute_input": "2022-02-25T18:20:23.155312Z",
          "iopub.status.idle": "2022-02-25T18:20:23.160449Z",
          "shell.execute_reply.started": "2022-02-25T18:20:23.155264Z",
          "shell.execute_reply": "2022-02-25T18:20:23.15962Z"
        },
        "trusted": true,
        "id": "XGayP5GmIe9x",
        "outputId": "7ad97a45-e9f1-4799-a5b5-dd422517ec5c",
        "colab": {
          "base_uri": "https://localhost:8080/"
        }
      },
      "execution_count": 14,
      "outputs": [
        {
          "output_type": "stream",
          "name": "stdout",
          "text": [
            "(30, 1)\n"
          ]
        }
      ]
    },
    {
      "cell_type": "code",
      "source": [
        "model = build_model(\n",
        "    input_shape,\n",
        "    head_size=60,  # Embedding size for attention\n",
        "    num_heads=60,  # Number of attention heads\n",
        "    ff_dim=60,   # Hidden layer size in feed forward network inside transformer\n",
        "    num_transformer_blocks=5,\n",
        "    mlp_units=[256],\n",
        "    mlp_dropout=0.4,\n",
        "    dropout=0.1\n",
        "    )"
      ],
      "metadata": {
        "id": "EEbfMaBUqoWA"
      },
      "execution_count": 15,
      "outputs": []
    },
    {
      "cell_type": "code",
      "source": [
        "model.compile(\n",
        "       loss=\"mean_squared_error\",\n",
        "       optimizer=keras.optimizers.Adam(learning_rate=1e-4),\n",
        "       metrics=[\"mean_squared_error\"]\n",
        ")"
      ],
      "metadata": {
        "id": "nFWl6HjLqwIp"
      },
      "execution_count": 16,
      "outputs": []
    },
    {
      "cell_type": "code",
      "source": [
        "model.summary()"
      ],
      "metadata": {
        "id": "_QjawfVMq11V",
        "outputId": "095aec48-a2e5-42ab-ee13-276f2b4dd235",
        "colab": {
          "base_uri": "https://localhost:8080/"
        }
      },
      "execution_count": 17,
      "outputs": [
        {
          "output_type": "stream",
          "name": "stdout",
          "text": [
            "Model: \"model\"\n",
            "__________________________________________________________________________________________________\n",
            " Layer (type)                Output Shape                 Param #   Connected to                  \n",
            "==================================================================================================\n",
            " input_1 (InputLayer)        [(None, 30, 1)]              0         []                            \n",
            "                                                                                                  \n",
            " layer_normalization (Layer  (None, 30, 1)                2         ['input_1[0][0]']             \n",
            " Normalization)                                                                                   \n",
            "                                                                                                  \n",
            " multi_head_attention (Mult  (None, 30, 1)                25201     ['layer_normalization[0][0]', \n",
            " iHeadAttention)                                                     'layer_normalization[0][0]'] \n",
            "                                                                                                  \n",
            " dropout (Dropout)           (None, 30, 1)                0         ['multi_head_attention[0][0]']\n",
            "                                                                                                  \n",
            " tf.__operators__.add (TFOp  (None, 30, 1)                0         ['dropout[0][0]',             \n",
            " Lambda)                                                             'input_1[0][0]']             \n",
            "                                                                                                  \n",
            " layer_normalization_1 (Lay  (None, 30, 1)                2         ['tf.__operators__.add[0][0]']\n",
            " erNormalization)                                                                                 \n",
            "                                                                                                  \n",
            " conv1d (Conv1D)             (None, 30, 60)               120       ['layer_normalization_1[0][0]'\n",
            "                                                                    ]                             \n",
            "                                                                                                  \n",
            " dropout_1 (Dropout)         (None, 30, 60)               0         ['conv1d[0][0]']              \n",
            "                                                                                                  \n",
            " conv1d_1 (Conv1D)           (None, 30, 1)                61        ['dropout_1[0][0]']           \n",
            "                                                                                                  \n",
            " tf.__operators__.add_1 (TF  (None, 30, 1)                0         ['conv1d_1[0][0]',            \n",
            " OpLambda)                                                           'tf.__operators__.add[0][0]']\n",
            "                                                                                                  \n",
            " layer_normalization_2 (Lay  (None, 30, 1)                2         ['tf.__operators__.add_1[0][0]\n",
            " erNormalization)                                                   ']                            \n",
            "                                                                                                  \n",
            " multi_head_attention_1 (Mu  (None, 30, 1)                25201     ['layer_normalization_2[0][0]'\n",
            " ltiHeadAttention)                                                  , 'layer_normalization_2[0][0]\n",
            "                                                                    ']                            \n",
            "                                                                                                  \n",
            " dropout_2 (Dropout)         (None, 30, 1)                0         ['multi_head_attention_1[0][0]\n",
            "                                                                    ']                            \n",
            "                                                                                                  \n",
            " tf.__operators__.add_2 (TF  (None, 30, 1)                0         ['dropout_2[0][0]',           \n",
            " OpLambda)                                                           'tf.__operators__.add_1[0][0]\n",
            "                                                                    ']                            \n",
            "                                                                                                  \n",
            " layer_normalization_3 (Lay  (None, 30, 1)                2         ['tf.__operators__.add_2[0][0]\n",
            " erNormalization)                                                   ']                            \n",
            "                                                                                                  \n",
            " conv1d_2 (Conv1D)           (None, 30, 60)               120       ['layer_normalization_3[0][0]'\n",
            "                                                                    ]                             \n",
            "                                                                                                  \n",
            " dropout_3 (Dropout)         (None, 30, 60)               0         ['conv1d_2[0][0]']            \n",
            "                                                                                                  \n",
            " conv1d_3 (Conv1D)           (None, 30, 1)                61        ['dropout_3[0][0]']           \n",
            "                                                                                                  \n",
            " tf.__operators__.add_3 (TF  (None, 30, 1)                0         ['conv1d_3[0][0]',            \n",
            " OpLambda)                                                           'tf.__operators__.add_2[0][0]\n",
            "                                                                    ']                            \n",
            "                                                                                                  \n",
            " layer_normalization_4 (Lay  (None, 30, 1)                2         ['tf.__operators__.add_3[0][0]\n",
            " erNormalization)                                                   ']                            \n",
            "                                                                                                  \n",
            " multi_head_attention_2 (Mu  (None, 30, 1)                25201     ['layer_normalization_4[0][0]'\n",
            " ltiHeadAttention)                                                  , 'layer_normalization_4[0][0]\n",
            "                                                                    ']                            \n",
            "                                                                                                  \n",
            " dropout_4 (Dropout)         (None, 30, 1)                0         ['multi_head_attention_2[0][0]\n",
            "                                                                    ']                            \n",
            "                                                                                                  \n",
            " tf.__operators__.add_4 (TF  (None, 30, 1)                0         ['dropout_4[0][0]',           \n",
            " OpLambda)                                                           'tf.__operators__.add_3[0][0]\n",
            "                                                                    ']                            \n",
            "                                                                                                  \n",
            " layer_normalization_5 (Lay  (None, 30, 1)                2         ['tf.__operators__.add_4[0][0]\n",
            " erNormalization)                                                   ']                            \n",
            "                                                                                                  \n",
            " conv1d_4 (Conv1D)           (None, 30, 60)               120       ['layer_normalization_5[0][0]'\n",
            "                                                                    ]                             \n",
            "                                                                                                  \n",
            " dropout_5 (Dropout)         (None, 30, 60)               0         ['conv1d_4[0][0]']            \n",
            "                                                                                                  \n",
            " conv1d_5 (Conv1D)           (None, 30, 1)                61        ['dropout_5[0][0]']           \n",
            "                                                                                                  \n",
            " tf.__operators__.add_5 (TF  (None, 30, 1)                0         ['conv1d_5[0][0]',            \n",
            " OpLambda)                                                           'tf.__operators__.add_4[0][0]\n",
            "                                                                    ']                            \n",
            "                                                                                                  \n",
            " layer_normalization_6 (Lay  (None, 30, 1)                2         ['tf.__operators__.add_5[0][0]\n",
            " erNormalization)                                                   ']                            \n",
            "                                                                                                  \n",
            " multi_head_attention_3 (Mu  (None, 30, 1)                25201     ['layer_normalization_6[0][0]'\n",
            " ltiHeadAttention)                                                  , 'layer_normalization_6[0][0]\n",
            "                                                                    ']                            \n",
            "                                                                                                  \n",
            " dropout_6 (Dropout)         (None, 30, 1)                0         ['multi_head_attention_3[0][0]\n",
            "                                                                    ']                            \n",
            "                                                                                                  \n",
            " tf.__operators__.add_6 (TF  (None, 30, 1)                0         ['dropout_6[0][0]',           \n",
            " OpLambda)                                                           'tf.__operators__.add_5[0][0]\n",
            "                                                                    ']                            \n",
            "                                                                                                  \n",
            " layer_normalization_7 (Lay  (None, 30, 1)                2         ['tf.__operators__.add_6[0][0]\n",
            " erNormalization)                                                   ']                            \n",
            "                                                                                                  \n",
            " conv1d_6 (Conv1D)           (None, 30, 60)               120       ['layer_normalization_7[0][0]'\n",
            "                                                                    ]                             \n",
            "                                                                                                  \n",
            " dropout_7 (Dropout)         (None, 30, 60)               0         ['conv1d_6[0][0]']            \n",
            "                                                                                                  \n",
            " conv1d_7 (Conv1D)           (None, 30, 1)                61        ['dropout_7[0][0]']           \n",
            "                                                                                                  \n",
            " tf.__operators__.add_7 (TF  (None, 30, 1)                0         ['conv1d_7[0][0]',            \n",
            " OpLambda)                                                           'tf.__operators__.add_6[0][0]\n",
            "                                                                    ']                            \n",
            "                                                                                                  \n",
            " layer_normalization_8 (Lay  (None, 30, 1)                2         ['tf.__operators__.add_7[0][0]\n",
            " erNormalization)                                                   ']                            \n",
            "                                                                                                  \n",
            " multi_head_attention_4 (Mu  (None, 30, 1)                25201     ['layer_normalization_8[0][0]'\n",
            " ltiHeadAttention)                                                  , 'layer_normalization_8[0][0]\n",
            "                                                                    ']                            \n",
            "                                                                                                  \n",
            " dropout_8 (Dropout)         (None, 30, 1)                0         ['multi_head_attention_4[0][0]\n",
            "                                                                    ']                            \n",
            "                                                                                                  \n",
            " tf.__operators__.add_8 (TF  (None, 30, 1)                0         ['dropout_8[0][0]',           \n",
            " OpLambda)                                                           'tf.__operators__.add_7[0][0]\n",
            "                                                                    ']                            \n",
            "                                                                                                  \n",
            " layer_normalization_9 (Lay  (None, 30, 1)                2         ['tf.__operators__.add_8[0][0]\n",
            " erNormalization)                                                   ']                            \n",
            "                                                                                                  \n",
            " conv1d_8 (Conv1D)           (None, 30, 60)               120       ['layer_normalization_9[0][0]'\n",
            "                                                                    ]                             \n",
            "                                                                                                  \n",
            " dropout_9 (Dropout)         (None, 30, 60)               0         ['conv1d_8[0][0]']            \n",
            "                                                                                                  \n",
            " conv1d_9 (Conv1D)           (None, 30, 1)                61        ['dropout_9[0][0]']           \n",
            "                                                                                                  \n",
            " tf.__operators__.add_9 (TF  (None, 30, 1)                0         ['conv1d_9[0][0]',            \n",
            " OpLambda)                                                           'tf.__operators__.add_8[0][0]\n",
            "                                                                    ']                            \n",
            "                                                                                                  \n",
            " global_average_pooling1d (  (None, 30)                   0         ['tf.__operators__.add_9[0][0]\n",
            " GlobalAveragePooling1D)                                            ']                            \n",
            "                                                                                                  \n",
            " dense (Dense)               (None, 256)                  7936      ['global_average_pooling1d[0][\n",
            "                                                                    0]']                          \n",
            "                                                                                                  \n",
            " dropout_10 (Dropout)        (None, 256)                  0         ['dense[0][0]']               \n",
            "                                                                                                  \n",
            " dense_1 (Dense)             (None, 1)                    257       ['dropout_10[0][0]']          \n",
            "                                                                                                  \n",
            "==================================================================================================\n",
            "Total params: 135123 (527.82 KB)\n",
            "Trainable params: 135123 (527.82 KB)\n",
            "Non-trainable params: 0 (0.00 Byte)\n",
            "__________________________________________________________________________________________________\n"
          ]
        }
      ]
    },
    {
      "cell_type": "code",
      "source": [
        "history = model.fit(\n",
        "            x_train,\n",
        "            y_train,\n",
        "            validation_split=0.3,\n",
        "            epochs=100,\n",
        "            batch_size=64,\n",
        "            callbacks=callbacks\n",
        ")"
      ],
      "metadata": {
        "execution": {
          "iopub.status.busy": "2022-02-25T18:13:54.628058Z",
          "iopub.execute_input": "2022-02-25T18:13:54.628705Z",
          "iopub.status.idle": "2022-02-25T18:14:39.683131Z",
          "shell.execute_reply.started": "2022-02-25T18:13:54.628665Z",
          "shell.execute_reply": "2022-02-25T18:14:39.682343Z"
        },
        "trusted": true,
        "id": "0Lauq9VNIe9x",
        "outputId": "7a7e8f53-715b-4be3-d5e7-a6d8dbe6a908",
        "colab": {
          "base_uri": "https://localhost:8080/"
        }
      },
      "execution_count": 18,
      "outputs": [
        {
          "output_type": "stream",
          "name": "stdout",
          "text": [
            "Epoch 1/100\n",
            "29/29 [==============================] - 157s 5s/step - loss: 0.0455 - mean_squared_error: 0.0455 - val_loss: 0.0382 - val_mean_squared_error: 0.0382 - lr: 1.0000e-06\n",
            "Epoch 2/100\n",
            "29/29 [==============================] - 127s 4s/step - loss: 0.0302 - mean_squared_error: 0.0302 - val_loss: 0.0184 - val_mean_squared_error: 0.0184 - lr: 3.4300e-05\n",
            "Epoch 3/100\n",
            "29/29 [==============================] - 144s 5s/step - loss: 0.0208 - mean_squared_error: 0.0208 - val_loss: 0.0154 - val_mean_squared_error: 0.0154 - lr: 6.7600e-05\n",
            "Epoch 4/100\n",
            "29/29 [==============================] - 145s 5s/step - loss: 0.0172 - mean_squared_error: 0.0172 - val_loss: 0.0150 - val_mean_squared_error: 0.0150 - lr: 1.0090e-04\n",
            "Epoch 5/100\n",
            "29/29 [==============================] - 125s 4s/step - loss: 0.0163 - mean_squared_error: 0.0163 - val_loss: 0.0136 - val_mean_squared_error: 0.0136 - lr: 1.3420e-04\n",
            "Epoch 6/100\n",
            "29/29 [==============================] - 145s 5s/step - loss: 0.0137 - mean_squared_error: 0.0137 - val_loss: 0.0110 - val_mean_squared_error: 0.0110 - lr: 1.6750e-04\n",
            "Epoch 7/100\n",
            "29/29 [==============================] - 145s 5s/step - loss: 0.0129 - mean_squared_error: 0.0129 - val_loss: 0.0105 - val_mean_squared_error: 0.0105 - lr: 2.0080e-04\n",
            "Epoch 8/100\n",
            "29/29 [==============================] - 143s 5s/step - loss: 0.0116 - mean_squared_error: 0.0116 - val_loss: 0.0088 - val_mean_squared_error: 0.0088 - lr: 2.3410e-04\n",
            "Epoch 9/100\n",
            "29/29 [==============================] - 143s 5s/step - loss: 0.0096 - mean_squared_error: 0.0096 - val_loss: 0.0078 - val_mean_squared_error: 0.0078 - lr: 2.6740e-04\n",
            "Epoch 10/100\n",
            "29/29 [==============================] - 144s 5s/step - loss: 0.0097 - mean_squared_error: 0.0097 - val_loss: 0.0072 - val_mean_squared_error: 0.0072 - lr: 3.0070e-04\n",
            "Epoch 11/100\n",
            "29/29 [==============================] - 143s 5s/step - loss: 0.0082 - mean_squared_error: 0.0082 - val_loss: 0.0069 - val_mean_squared_error: 0.0069 - lr: 3.3400e-04\n",
            "Epoch 12/100\n",
            "29/29 [==============================] - 144s 5s/step - loss: 0.0080 - mean_squared_error: 0.0080 - val_loss: 0.0063 - val_mean_squared_error: 0.0063 - lr: 3.6730e-04\n",
            "Epoch 13/100\n",
            "29/29 [==============================] - 143s 5s/step - loss: 0.0076 - mean_squared_error: 0.0076 - val_loss: 0.0062 - val_mean_squared_error: 0.0062 - lr: 4.0060e-04\n",
            "Epoch 14/100\n",
            "29/29 [==============================] - 144s 5s/step - loss: 0.0077 - mean_squared_error: 0.0077 - val_loss: 0.0058 - val_mean_squared_error: 0.0058 - lr: 4.3390e-04\n",
            "Epoch 15/100\n",
            "29/29 [==============================] - 143s 5s/step - loss: 0.0074 - mean_squared_error: 0.0074 - val_loss: 0.0057 - val_mean_squared_error: 0.0057 - lr: 4.6720e-04\n",
            "Epoch 16/100\n",
            "29/29 [==============================] - 143s 5s/step - loss: 0.0069 - mean_squared_error: 0.0069 - val_loss: 0.0053 - val_mean_squared_error: 0.0053 - lr: 5.0050e-04\n",
            "Epoch 17/100\n",
            "29/29 [==============================] - 144s 5s/step - loss: 0.0077 - mean_squared_error: 0.0077 - val_loss: 0.0054 - val_mean_squared_error: 0.0054 - lr: 5.3380e-04\n",
            "Epoch 18/100\n",
            "29/29 [==============================] - 126s 4s/step - loss: 0.0067 - mean_squared_error: 0.0067 - val_loss: 0.0052 - val_mean_squared_error: 0.0052 - lr: 5.6710e-04\n",
            "Epoch 19/100\n",
            "29/29 [==============================] - 145s 5s/step - loss: 0.0067 - mean_squared_error: 0.0067 - val_loss: 0.0053 - val_mean_squared_error: 0.0053 - lr: 6.0040e-04\n",
            "Epoch 20/100\n",
            "29/29 [==============================] - 145s 5s/step - loss: 0.0060 - mean_squared_error: 0.0060 - val_loss: 0.0050 - val_mean_squared_error: 0.0050 - lr: 6.3370e-04\n",
            "Epoch 21/100\n",
            "29/29 [==============================] - 148s 5s/step - loss: 0.0064 - mean_squared_error: 0.0064 - val_loss: 0.0048 - val_mean_squared_error: 0.0048 - lr: 6.6700e-04\n",
            "Epoch 22/100\n",
            "29/29 [==============================] - 149s 5s/step - loss: 0.0065 - mean_squared_error: 0.0065 - val_loss: 0.0050 - val_mean_squared_error: 0.0050 - lr: 7.0030e-04\n",
            "Epoch 23/100\n",
            "29/29 [==============================] - 148s 5s/step - loss: 0.0063 - mean_squared_error: 0.0063 - val_loss: 0.0048 - val_mean_squared_error: 0.0048 - lr: 7.3360e-04\n",
            "Epoch 24/100\n",
            "29/29 [==============================] - 146s 5s/step - loss: 0.0060 - mean_squared_error: 0.0060 - val_loss: 0.0049 - val_mean_squared_error: 0.0049 - lr: 7.6690e-04\n",
            "Epoch 25/100\n",
            "29/29 [==============================] - 147s 5s/step - loss: 0.0059 - mean_squared_error: 0.0059 - val_loss: 0.0048 - val_mean_squared_error: 0.0048 - lr: 8.0020e-04\n",
            "Epoch 26/100\n",
            "29/29 [==============================] - 148s 5s/step - loss: 0.0058 - mean_squared_error: 0.0058 - val_loss: 0.0046 - val_mean_squared_error: 0.0046 - lr: 8.3350e-04\n",
            "Epoch 27/100\n",
            "29/29 [==============================] - 127s 4s/step - loss: 0.0059 - mean_squared_error: 0.0059 - val_loss: 0.0048 - val_mean_squared_error: 0.0048 - lr: 8.6680e-04\n",
            "Epoch 28/100\n",
            "29/29 [==============================] - 148s 5s/step - loss: 0.0055 - mean_squared_error: 0.0055 - val_loss: 0.0048 - val_mean_squared_error: 0.0048 - lr: 9.0010e-04\n",
            "Epoch 29/100\n",
            "29/29 [==============================] - 146s 5s/step - loss: 0.0055 - mean_squared_error: 0.0055 - val_loss: 0.0047 - val_mean_squared_error: 0.0047 - lr: 9.3340e-04\n",
            "Epoch 30/100\n",
            "29/29 [==============================] - 144s 5s/step - loss: 0.0054 - mean_squared_error: 0.0054 - val_loss: 0.0045 - val_mean_squared_error: 0.0045 - lr: 9.6670e-04\n",
            "Epoch 31/100\n",
            "29/29 [==============================] - 124s 4s/step - loss: 0.0051 - mean_squared_error: 0.0051 - val_loss: 0.0047 - val_mean_squared_error: 0.0047 - lr: 0.0010\n",
            "Epoch 32/100\n",
            "29/29 [==============================] - 144s 5s/step - loss: 0.0053 - mean_squared_error: 0.0053 - val_loss: 0.0046 - val_mean_squared_error: 0.0046 - lr: 9.9050e-04\n",
            "Epoch 33/100\n",
            "29/29 [==============================] - 124s 4s/step - loss: 0.0052 - mean_squared_error: 0.0052 - val_loss: 0.0045 - val_mean_squared_error: 0.0045 - lr: 9.8100e-04\n",
            "Epoch 34/100\n",
            "29/29 [==============================] - 144s 5s/step - loss: 0.0054 - mean_squared_error: 0.0054 - val_loss: 0.0048 - val_mean_squared_error: 0.0048 - lr: 9.7150e-04\n",
            "Epoch 35/100\n",
            "29/29 [==============================] - 144s 5s/step - loss: 0.0052 - mean_squared_error: 0.0052 - val_loss: 0.0048 - val_mean_squared_error: 0.0048 - lr: 9.6200e-04\n",
            "Epoch 36/100\n",
            "29/29 [==============================] - 145s 5s/step - loss: 0.0051 - mean_squared_error: 0.0051 - val_loss: 0.0046 - val_mean_squared_error: 0.0046 - lr: 9.5250e-04\n",
            "Epoch 37/100\n",
            "29/29 [==============================] - 144s 5s/step - loss: 0.0051 - mean_squared_error: 0.0051 - val_loss: 0.0047 - val_mean_squared_error: 0.0047 - lr: 9.4300e-04\n",
            "Epoch 38/100\n",
            "29/29 [==============================] - 125s 4s/step - loss: 0.0050 - mean_squared_error: 0.0050 - val_loss: 0.0051 - val_mean_squared_error: 0.0051 - lr: 9.3350e-04\n",
            "Epoch 39/100\n",
            "29/29 [==============================] - 144s 5s/step - loss: 0.0048 - mean_squared_error: 0.0048 - val_loss: 0.0045 - val_mean_squared_error: 0.0045 - lr: 9.2400e-04\n",
            "Epoch 40/100\n",
            "29/29 [==============================] - 144s 5s/step - loss: 0.0048 - mean_squared_error: 0.0048 - val_loss: 0.0049 - val_mean_squared_error: 0.0049 - lr: 9.1450e-04\n",
            "Epoch 41/100\n",
            "29/29 [==============================] - 143s 5s/step - loss: 0.0050 - mean_squared_error: 0.0050 - val_loss: 0.0046 - val_mean_squared_error: 0.0046 - lr: 9.0500e-04\n",
            "Epoch 42/100\n",
            "29/29 [==============================] - 144s 5s/step - loss: 0.0047 - mean_squared_error: 0.0047 - val_loss: 0.0046 - val_mean_squared_error: 0.0046 - lr: 8.9550e-04\n",
            "Epoch 43/100\n",
            "29/29 [==============================] - 144s 5s/step - loss: 0.0048 - mean_squared_error: 0.0048 - val_loss: 0.0046 - val_mean_squared_error: 0.0046 - lr: 8.8600e-04\n"
          ]
        }
      ]
    },
    {
      "cell_type": "markdown",
      "source": [
        "# Evaluate model"
      ],
      "metadata": {
        "id": "U51XlcHiIe9x"
      }
    },
    {
      "cell_type": "code",
      "source": [
        "dataset_total = pd.concat((df['No'][:2641],df['No'][2641:]),axis=0)\n",
        "inputs = dataset_total[len(dataset_total)-len(test_set) - timesteps:].values\n",
        "inputs = inputs.reshape(-1,1)\n",
        "inputs  = sc.fit_transform(inputs)"
      ],
      "metadata": {
        "id": "VC9-f-oCTdzz"
      },
      "execution_count": 19,
      "outputs": []
    },
    {
      "cell_type": "code",
      "source": [
        "dataset_total"
      ],
      "metadata": {
        "id": "x4x_vYlLTgfw",
        "outputId": "a35ee89d-66a4-4a26-ea35-539b65676639",
        "colab": {
          "base_uri": "https://localhost:8080/"
        }
      },
      "execution_count": 20,
      "outputs": [
        {
          "output_type": "execute_result",
          "data": {
            "text/plain": [
              "DATE\n",
              "2007-10-09    325\n",
              "2007-10-10    417\n",
              "2007-10-11    556\n",
              "2007-10-12    467\n",
              "2007-10-13    430\n",
              "             ... \n",
              "2015-12-17    503\n",
              "2015-12-18    444\n",
              "2015-12-19    438\n",
              "2015-12-20    471\n",
              "2015-12-21    452\n",
              "Name: No, Length: 2996, dtype: int64"
            ]
          },
          "metadata": {},
          "execution_count": 20
        }
      ]
    },
    {
      "cell_type": "code",
      "source": [
        "X_test = []\n",
        "for i in range(timesteps,test_set.shape[0] + timesteps):\n",
        "    X_test.append(inputs[i-timesteps:i,0])\n",
        "X_test = np.array(X_test)\n",
        "X_test = np.reshape(X_test, (X_test.shape[0],X_test.shape[1],1))\n",
        "predicted_ED_Arrivals = model.predict(X_test)\n",
        "predicted_ED_Arrivals = sc.inverse_transform(predicted_ED_Arrivals)\n",
        "predicted_ED_Arrivals"
      ],
      "metadata": {
        "id": "zRBwPOsPTzTj",
        "outputId": "bd36eab5-42bd-4a65-f074-120f0b926a3d",
        "colab": {
          "base_uri": "https://localhost:8080/"
        }
      },
      "execution_count": 21,
      "outputs": [
        {
          "output_type": "stream",
          "name": "stdout",
          "text": [
            "12/12 [==============================] - 8s 655ms/step\n"
          ]
        },
        {
          "output_type": "execute_result",
          "data": {
            "text/plain": [
              "array([[466.09637],\n",
              "       [457.31183],\n",
              "       [422.90048],\n",
              "       [421.7819 ],\n",
              "       [461.1853 ],\n",
              "       [424.78018],\n",
              "       [452.32022],\n",
              "       [455.61816],\n",
              "       [459.44882],\n",
              "       [447.5004 ],\n",
              "       [448.50436],\n",
              "       [400.90762],\n",
              "       [391.59338],\n",
              "       [447.279  ],\n",
              "       [502.57635],\n",
              "       [441.0225 ],\n",
              "       [439.5407 ],\n",
              "       [447.17218],\n",
              "       [460.6738 ],\n",
              "       [456.6474 ],\n",
              "       [459.86093],\n",
              "       [496.32886],\n",
              "       [477.69385],\n",
              "       [460.9791 ],\n",
              "       [452.2593 ],\n",
              "       [433.16733],\n",
              "       [424.79825],\n",
              "       [438.3635 ],\n",
              "       [491.47217],\n",
              "       [469.51154],\n",
              "       [451.05685],\n",
              "       [428.64072],\n",
              "       [441.395  ],\n",
              "       [459.72232],\n",
              "       [450.4069 ],\n",
              "       [476.5366 ],\n",
              "       [511.4521 ],\n",
              "       [506.00455],\n",
              "       [466.22662],\n",
              "       [452.83038],\n",
              "       [597.0594 ],\n",
              "       [689.39246],\n",
              "       [712.81555],\n",
              "       [624.4119 ],\n",
              "       [534.62286],\n",
              "       [470.70743],\n",
              "       [478.52695],\n",
              "       [501.01553],\n",
              "       [524.31616],\n",
              "       [514.1436 ],\n",
              "       [506.48874],\n",
              "       [457.19376],\n",
              "       [472.8766 ],\n",
              "       [482.85492],\n",
              "       [490.95227],\n",
              "       [487.22916],\n",
              "       [480.42166],\n",
              "       [465.58817],\n",
              "       [450.6955 ],\n",
              "       [429.7746 ],\n",
              "       [426.4191 ],\n",
              "       [443.19867],\n",
              "       [501.15607],\n",
              "       [483.71222],\n",
              "       [465.92392],\n",
              "       [448.7057 ],\n",
              "       [441.80423],\n",
              "       [476.81516],\n",
              "       [483.16806],\n",
              "       [506.9774 ],\n",
              "       [486.0187 ],\n",
              "       [488.76633],\n",
              "       [465.2835 ],\n",
              "       [413.72064],\n",
              "       [426.91595],\n",
              "       [449.28647],\n",
              "       [441.7324 ],\n",
              "       [475.72974],\n",
              "       [464.60498],\n",
              "       [456.73117],\n",
              "       [443.601  ],\n",
              "       [466.0981 ],\n",
              "       [443.95728],\n",
              "       [482.52487],\n",
              "       [565.5543 ],\n",
              "       [521.4336 ],\n",
              "       [480.1976 ],\n",
              "       [450.9592 ],\n",
              "       [437.33963],\n",
              "       [452.27872],\n",
              "       [459.05054],\n",
              "       [502.9836 ],\n",
              "       [484.37204],\n",
              "       [441.1198 ],\n",
              "       [427.66064],\n",
              "       [418.51224],\n",
              "       [462.98114],\n",
              "       [446.08252],\n",
              "       [491.8654 ],\n",
              "       [513.7274 ],\n",
              "       [458.12585],\n",
              "       [436.90668],\n",
              "       [431.06595],\n",
              "       [464.70023],\n",
              "       [457.5998 ],\n",
              "       [518.0447 ],\n",
              "       [532.2304 ],\n",
              "       [471.40546],\n",
              "       [456.5026 ],\n",
              "       [444.99426],\n",
              "       [473.13467],\n",
              "       [509.58545],\n",
              "       [502.32004],\n",
              "       [490.05692],\n",
              "       [465.2984 ],\n",
              "       [447.70306],\n",
              "       [432.3337 ],\n",
              "       [459.3521 ],\n",
              "       [467.74207],\n",
              "       [510.1524 ],\n",
              "       [504.5904 ],\n",
              "       [485.56274],\n",
              "       [448.09952],\n",
              "       [461.93842],\n",
              "       [450.70343],\n",
              "       [486.46063],\n",
              "       [539.76654],\n",
              "       [517.889  ],\n",
              "       [497.23166],\n",
              "       [487.06546],\n",
              "       [454.15106],\n",
              "       [444.7269 ],\n",
              "       [488.6226 ],\n",
              "       [539.60956],\n",
              "       [492.11902],\n",
              "       [461.3382 ],\n",
              "       [453.38974],\n",
              "       [465.8012 ],\n",
              "       [496.45987],\n",
              "       [508.94553],\n",
              "       [548.466  ],\n",
              "       [549.2504 ],\n",
              "       [477.36063],\n",
              "       [509.2094 ],\n",
              "       [478.293  ],\n",
              "       [491.87054],\n",
              "       [499.21686],\n",
              "       [546.6289 ],\n",
              "       [527.0629 ],\n",
              "       [499.2222 ],\n",
              "       [456.961  ],\n",
              "       [472.35284],\n",
              "       [506.37656],\n",
              "       [528.9483 ],\n",
              "       [517.7506 ],\n",
              "       [529.46826],\n",
              "       [510.36655],\n",
              "       [469.89243],\n",
              "       [481.182  ],\n",
              "       [480.07925],\n",
              "       [529.00336],\n",
              "       [553.9005 ],\n",
              "       [545.51544],\n",
              "       [522.62885],\n",
              "       [483.02454],\n",
              "       [501.5141 ],\n",
              "       [468.2297 ],\n",
              "       [497.7828 ],\n",
              "       [535.31494],\n",
              "       [509.46783],\n",
              "       [457.19513],\n",
              "       [410.83374],\n",
              "       [427.04312],\n",
              "       [440.16022],\n",
              "       [444.8199 ],\n",
              "       [471.24005],\n",
              "       [423.64374],\n",
              "       [397.9204 ],\n",
              "       [412.39404],\n",
              "       [392.96457],\n",
              "       [407.24017],\n",
              "       [460.50052],\n",
              "       [486.9836 ],\n",
              "       [458.05124],\n",
              "       [443.9477 ],\n",
              "       [444.8359 ],\n",
              "       [408.45096],\n",
              "       [436.0169 ],\n",
              "       [449.63443],\n",
              "       [470.66196],\n",
              "       [439.40976],\n",
              "       [415.30957],\n",
              "       [404.11792],\n",
              "       [406.91666],\n",
              "       [439.12793],\n",
              "       [456.33017],\n",
              "       [467.07437],\n",
              "       [447.67023],\n",
              "       [409.2328 ],\n",
              "       [417.33676],\n",
              "       [416.6299 ],\n",
              "       [418.12988],\n",
              "       [431.64835],\n",
              "       [453.72525],\n",
              "       [450.5196 ],\n",
              "       [421.70587],\n",
              "       [452.0223 ],\n",
              "       [430.64505],\n",
              "       [436.2557 ],\n",
              "       [452.30307],\n",
              "       [488.30453],\n",
              "       [501.7477 ],\n",
              "       [473.66342],\n",
              "       [436.25134],\n",
              "       [422.74814],\n",
              "       [413.82   ],\n",
              "       [461.88275],\n",
              "       [505.91705],\n",
              "       [469.221  ],\n",
              "       [428.63107],\n",
              "       [405.4784 ],\n",
              "       [414.668  ],\n",
              "       [435.83508],\n",
              "       [448.14474],\n",
              "       [486.81754],\n",
              "       [464.43808],\n",
              "       [440.41174],\n",
              "       [422.78018],\n",
              "       [425.49564],\n",
              "       [428.71436],\n",
              "       [441.41345],\n",
              "       [473.0099 ],\n",
              "       [441.48428],\n",
              "       [418.35345],\n",
              "       [416.18066],\n",
              "       [393.89148],\n",
              "       [421.22293],\n",
              "       [441.13815],\n",
              "       [486.08887],\n",
              "       [479.462  ],\n",
              "       [429.59326],\n",
              "       [434.06216],\n",
              "       [413.16248],\n",
              "       [430.5926 ],\n",
              "       [465.90677],\n",
              "       [477.5053 ],\n",
              "       [446.85364],\n",
              "       [449.53403],\n",
              "       [440.74213],\n",
              "       [423.35712],\n",
              "       [428.68954],\n",
              "       [455.9221 ],\n",
              "       [508.55136],\n",
              "       [472.11627],\n",
              "       [433.91406],\n",
              "       [419.16586],\n",
              "       [434.90103],\n",
              "       [442.7073 ],\n",
              "       [482.09964],\n",
              "       [496.55362],\n",
              "       [470.23257],\n",
              "       [478.86902],\n",
              "       [535.8015 ],\n",
              "       [499.61896],\n",
              "       [486.08743],\n",
              "       [490.66083],\n",
              "       [533.89996],\n",
              "       [493.48523],\n",
              "       [485.11978],\n",
              "       [446.79617],\n",
              "       [443.07755],\n",
              "       [454.59097],\n",
              "       [496.77197],\n",
              "       [501.40558],\n",
              "       [464.30615],\n",
              "       [451.51645],\n",
              "       [423.98862],\n",
              "       [427.38458],\n",
              "       [428.91592],\n",
              "       [465.6602 ],\n",
              "       [497.3634 ],\n",
              "       [441.65088],\n",
              "       [470.55914],\n",
              "       [422.97852],\n",
              "       [417.2231 ],\n",
              "       [440.9628 ],\n",
              "       [441.47742],\n",
              "       [470.77438],\n",
              "       [442.69025],\n",
              "       [452.07825],\n",
              "       [429.07285],\n",
              "       [441.1398 ],\n",
              "       [435.3028 ],\n",
              "       [430.58176],\n",
              "       [468.83954],\n",
              "       [462.10147],\n",
              "       [399.36685],\n",
              "       [418.5012 ],\n",
              "       [424.9751 ],\n",
              "       [453.92435],\n",
              "       [455.67676],\n",
              "       [467.64838],\n",
              "       [451.33804],\n",
              "       [436.35092],\n",
              "       [449.10184],\n",
              "       [460.00986],\n",
              "       [424.79202],\n",
              "       [465.24075],\n",
              "       [464.58392],\n",
              "       [492.8399 ],\n",
              "       [466.411  ],\n",
              "       [469.56317],\n",
              "       [473.51184],\n",
              "       [447.48196],\n",
              "       [480.21655],\n",
              "       [498.50467],\n",
              "       [468.84592],\n",
              "       [470.65778],\n",
              "       [447.0682 ],\n",
              "       [427.3909 ],\n",
              "       [410.4882 ],\n",
              "       [461.39047],\n",
              "       [482.7572 ],\n",
              "       [431.155  ],\n",
              "       [446.80496],\n",
              "       [428.17178],\n",
              "       [422.8266 ],\n",
              "       [416.4819 ],\n",
              "       [424.6102 ],\n",
              "       [470.3697 ],\n",
              "       [461.1975 ],\n",
              "       [419.1664 ],\n",
              "       [431.5546 ],\n",
              "       [432.90887],\n",
              "       [435.36008],\n",
              "       [414.58484],\n",
              "       [441.70505],\n",
              "       [459.18484],\n",
              "       [445.1142 ],\n",
              "       [436.94794],\n",
              "       [387.97928],\n",
              "       [385.7025 ],\n",
              "       [414.68484],\n",
              "       [466.72757],\n",
              "       [470.6094 ],\n",
              "       [424.30084],\n",
              "       [415.61136],\n",
              "       [425.43195],\n",
              "       [418.21866],\n",
              "       [450.41797],\n",
              "       [457.76526],\n",
              "       [481.45316],\n",
              "       [435.77994],\n",
              "       [431.93054],\n",
              "       [436.28387]], dtype=float32)"
            ]
          },
          "metadata": {},
          "execution_count": 21
        }
      ]
    },
    {
      "cell_type": "code",
      "source": [
        "print(test_set[-3],test_set[-2], test_set[-1])"
      ],
      "metadata": {
        "id": "GnAQO8_TUPJC",
        "outputId": "8d70213b-794a-472e-d8bb-4fb28c75e0d9",
        "colab": {
          "base_uri": "https://localhost:8080/"
        }
      },
      "execution_count": 22,
      "outputs": [
        {
          "output_type": "stream",
          "name": "stdout",
          "text": [
            "[438] [471] [452]\n"
          ]
        }
      ]
    },
    {
      "cell_type": "code",
      "source": [
        "def shift(xs, n):\n",
        "    e = np.empty_like(xs, dtype=float)  # Set the data type to float\n",
        "    if n >= 0:\n",
        "        e[:n] = np.nan\n",
        "        e[n:] = xs[:-n]\n",
        "    else:\n",
        "        e[n:] = xs[-n:]\n",
        "        e[:n] = np.nan\n",
        "    return e\n",
        "\n",
        "shifted_test_set = shift(test_set, 1) #The shift function is defined early in the notebook\n",
        "print(shifted_test_set[-3],shifted_test_set[-2], shifted_test_set[-1])"
      ],
      "metadata": {
        "id": "FSnGNHwjUWEm",
        "outputId": "2c96e51f-e85d-490f-c9d7-60889ab6e2aa",
        "colab": {
          "base_uri": "https://localhost:8080/"
        }
      },
      "execution_count": 23,
      "outputs": [
        {
          "output_type": "stream",
          "name": "stdout",
          "text": [
            "[444.] [438.] [471.]\n"
          ]
        }
      ]
    },
    {
      "cell_type": "code",
      "source": [
        "print(predicted_ED_Arrivals[-1])\n",
        "prediction_error = test_set - predicted_ED_Arrivals # This is the error on the same day\n",
        "#Before we can calculate the predicted return we have to shift the test_set to the day before so we use the shifted_test_set\n",
        "predicted_return = (shifted_test_set - predicted_ED_Arrivals) / shifted_test_set"
      ],
      "metadata": {
        "id": "92hs32hZUitn",
        "outputId": "789deda1-8159-413f-c29b-07eed1a74d2c",
        "colab": {
          "base_uri": "https://localhost:8080/"
        }
      },
      "execution_count": 24,
      "outputs": [
        {
          "output_type": "stream",
          "name": "stdout",
          "text": [
            "[436.28387]\n"
          ]
        }
      ]
    },
    {
      "cell_type": "code",
      "source": [
        "plt.plot(history.history['loss'])\n",
        "plt.title('model loss')\n",
        "plt.ylabel('loss')\n",
        "plt.xlabel('epoch')\n",
        "plt.legend(['loss'], loc='upper left')\n",
        "plt.show()"
      ],
      "metadata": {
        "execution": {
          "iopub.status.busy": "2022-02-25T18:19:23.58454Z",
          "iopub.execute_input": "2022-02-25T18:19:23.584826Z",
          "iopub.status.idle": "2022-02-25T18:19:24.648887Z",
          "shell.execute_reply.started": "2022-02-25T18:19:23.584795Z",
          "shell.execute_reply": "2022-02-25T18:19:24.647953Z"
        },
        "trusted": true,
        "id": "gRkCFqyrIe9y",
        "outputId": "a7366fc6-5bfe-4440-89f2-0f68babfbff7",
        "colab": {
          "base_uri": "https://localhost:8080/",
          "height": 524
        }
      },
      "execution_count": 25,
      "outputs": [
        {
          "output_type": "display_data",
          "data": {
            "text/plain": [
              "<Figure size 800x550 with 1 Axes>"
            ],
            "image/png": "[encoded data removed]"
          },
          "metadata": {}
        }
      ]
    },
    {
      "cell_type": "code",
      "source": [
        "original_symbol= 'Linkou'\n",
        "plot_predictions(test_set,predicted_ED_Arrivals,original_symbol)\n",
        "return_rmse(test_set,predicted_ED_Arrivals)"
      ],
      "metadata": {
        "id": "f5yDMd6DUtvv",
        "outputId": "3e87a4dd-4e93-4fab-f585-f89345b58267",
        "colab": {
          "base_uri": "https://localhost:8080/",
          "height": 559
        }
      },
      "execution_count": 26,
      "outputs": [
        {
          "output_type": "display_data",
          "data": {
            "text/plain": [
              "<Figure size 800x550 with 1 Axes>"
            ],
            "image/png": "[encoded data removed]"
          },
          "metadata": {}
        },
        {
          "output_type": "stream",
          "name": "stdout",
          "text": [
            "The root mean squared error is 39.240239761630406.\n"
          ]
        },
        {
          "output_type": "execute_result",
          "data": {
            "text/plain": [
              "39.240239761630406"
            ]
          },
          "metadata": {},
          "execution_count": 26
        }
      ]
    },
    {
      "cell_type": "code",
      "source": [
        "# calculate MAPE\n",
        "def mape(y_true, y_pred):\n",
        "    return np.mean(np.abs((y_true-y_pred)/y_true))*100\n",
        "\n",
        "testmape = mape(test_set,predicted_ED_Arrivals)\n",
        "print('Test MAPE for transformers: %.2f' % (testmape) ,'where 5.85 for LSTM')"
      ],
      "metadata": {
        "id": "4L-KiqguwoEH",
        "outputId": "b84111fa-a843-45a0-cc69-22e83e1c0e09",
        "colab": {
          "base_uri": "https://localhost:8080/"
        }
      },
      "execution_count": 27,
      "outputs": [
        {
          "output_type": "stream",
          "name": "stdout",
          "text": [
            "Test MAPE for transformers: 6.13 where 5.85 for LSTM\n"
          ]
        }
      ]
    },
    {
      "cell_type": "code",
      "source": [
        "# calculate MAE\n",
        "def mae(y_true, y_pred):\n",
        "    return np.mean(np.abs((y_true-y_pred)))\n",
        "\n",
        "testmae = mae(test_set,predicted_ED_Arrivals)\n",
        "print('Test MAE for transformers: %.2f' % (testmae), 'where 27.40 for LSTM')"
      ],
      "metadata": {
        "id": "TvRYMx5Hw9bv",
        "outputId": "aed35abc-f67a-4d17-fa94-851fdb9f5c60",
        "colab": {
          "base_uri": "https://localhost:8080/"
        }
      },
      "execution_count": 28,
      "outputs": [
        {
          "output_type": "stream",
          "name": "stdout",
          "text": [
            "Test MAE for transformers: 28.75 where 27.40 for LSTM\n"
          ]
        }
      ]
    },
    {
      "cell_type": "markdown",
      "source": [
        "\n"
      ],
      "metadata": {
        "id": "EESE6dI4Ie9y"
      }
    }
  ]
}