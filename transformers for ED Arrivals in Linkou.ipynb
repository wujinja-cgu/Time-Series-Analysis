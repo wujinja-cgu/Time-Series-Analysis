{
  "metadata": {
    "kernelspec": {
      "language": "python",
      "display_name": "Python 3",
      "name": "python3"
    },
    "language_info": {
      "pygments_lexer": "ipython3",
      "nbconvert_exporter": "python",
      "version": "3.6.4",
      "file_extension": ".py",
      "codemirror_mode": {
        "name": "ipython",
        "version": 3
      },
      "name": "python",
      "mimetype": "text/x-python"
    },
    "kaggle": {
      "accelerator": "gpu",
      "dataSources": [
        {
          "sourceId": 3216581,
          "sourceType": "datasetVersion",
          "datasetId": 1863963
        }
      ],
      "dockerImageVersionId": 30158,
      "isInternetEnabled": true,
      "language": "python",
      "sourceType": "notebook",
      "isGpuEnabled": true
    },
    "colab": {
      "provenance": []
    }
  },
  "nbformat_minor": 0,
  "nbformat": 4,
  "cells": [
    {
      "cell_type": "code",
      "source": [
        "import numpy as np\n",
        "import tensorflow as tf\n",
        "from tensorflow import keras\n",
        "from keras import layers\n",
        "from keras.layers import Flatten\n",
        "from keras import backend as K\n",
        "from sklearn.preprocessing import MinMaxScaler\n",
        "from sklearn.metrics import mean_squared_error\n",
        "import sqlite3\n",
        "import pandas as pd\n",
        "import math\n",
        "import matplotlib.pyplot as plt\n",
        "plt.style.use('seaborn')\n",
        "from datetime import datetime\n",
        "\n",
        "#For reproducability\n",
        "from numpy.random import seed\n",
        "seed(1)\n",
        "tf.random.set_seed(2)\n",
        "\n",
        "# Some functions to help out with\n",
        "def plot_predictions(test,predicted,symbol):\n",
        "    plt.plot(test, color='red',label=f'Real {symbol} ED Arrivals')\n",
        "    plt.plot(predicted, color='blue',label=f'Predicted {symbol} ED Arrivals')\n",
        "    plt.title(f'{symbol} ED Arrivals Prediction')\n",
        "    plt.xlabel('Date')\n",
        "    plt.ylabel(f'{symbol} ED Arrivals')\n",
        "    plt.legend()\n",
        "    plt.show()\n",
        "\n",
        "def plot_return_predictions(test,predicted,symbol):\n",
        "    plt.plot(test, color='red',label=f'Real {symbol} ED Arrivals Returns')\n",
        "    plt.plot(predicted, color='blue',label=f'Predicted {symbol} ED Arrivals Returns')\n",
        "    plt.title(f'{symbol} ED Arrivals Return Prediction')\n",
        "    plt.xlabel('Date')\n",
        "    plt.ylabel(f'{symbol} ED Arrivals Returns')\n",
        "    plt.legend()\n",
        "    plt.show()\n",
        "\n",
        "def return_rmse(test,predicted):\n",
        "    rmse = math.sqrt(mean_squared_error(test, predicted))\n",
        "    print(\"The root mean squared error is {}.\".format(rmse))\n",
        "    return rmse\n",
        "\n",
        "#def get_ticker_data(ticker: str, param_start_date, param_end_date) -> dict:\n",
        "#    raw_data = YahooFinancials(ticker)\n",
        "#    return raw_data.get_historical_price_data(param_start_date, param_end_date, \"daily\").copy()\n",
        "\n",
        "#def fetch_ticker_data(ticker: str, start_date, end_date) -> pd.DataFrame:\n",
        "#    date_range = pd.bdate_range(start=start_date, end=end_date)\n",
        "#    values = pd.DataFrame({'Date': date_range})\n",
        "#    values['Date'] = pd.to_datetime(values['Date'])\n",
        "#    raw_data = get_ticker_data(ticker, start_date, end_date)\n",
        "#    return pd.DataFrame(raw_data[ticker][\"prices\"])[['date', 'open', 'high', 'low', 'adjclose', 'volume']]\n",
        "\n",
        "def shift(xs, n):\n",
        "    e = np.empty_like(xs)\n",
        "    if n >= 0:\n",
        "        e[:n] = np.nan\n",
        "        e[n:] = xs[:-n]\n",
        "    else:\n",
        "        e[n:] = np.nan\n",
        "        e[:n] = xs[-n:]\n",
        "    return e"
      ],
      "metadata": {
        "_uuid": "8f2839f25d086af736a60e9eeb907d3b93b6e0e5",
        "_cell_guid": "b1076dfc-b9ad-4769-8c92-a6c4dae69d19",
        "_kg_hide-input": true,
        "_kg_hide-output": true,
        "execution": {
          "iopub.status.busy": "2022-02-25T18:12:44.121639Z",
          "iopub.execute_input": "2022-02-25T18:12:44.122057Z",
          "iopub.status.idle": "2022-02-25T18:12:51.377303Z",
          "shell.execute_reply.started": "2022-02-25T18:12:44.122019Z",
          "shell.execute_reply": "2022-02-25T18:12:51.376495Z"
        },
        "trusted": true,
        "id": "ojqgT53oIe9p",
        "outputId": "024a81d5-25f6-4340-ba2b-2fae710483c9",
        "colab": {
          "base_uri": "https://localhost:8080/"
        }
      },
      "execution_count": 58,
      "outputs": [
        {
          "output_type": "stream",
          "name": "stderr",
          "text": [
            "<ipython-input-58-7351a065fdc0>:13: MatplotlibDeprecationWarning: The seaborn styles shipped by Matplotlib are deprecated since 3.6, as they no longer correspond to the styles shipped by seaborn. However, they will remain available as 'seaborn-v0_8-<style>'. Alternatively, directly use the seaborn API instead.\n",
            "  plt.style.use('seaborn')\n"
          ]
        }
      ]
    },
    {
      "cell_type": "markdown",
      "source": [
        "# Get the Data"
      ],
      "metadata": {
        "id": "gkmy5PvUIe9r"
      }
    },
    {
      "cell_type": "code",
      "source": [
        "import pandas as pd\n",
        "url='https://raw.githubusercontent.com/wujinja-cgu/Time-Series-Analysis/main/time%20series%20data.csv'\n",
        "df = pd.read_csv(url, index_col='DATE', parse_dates=[\"DATE\"])\n",
        "df.head()"
      ],
      "metadata": {
        "_kg_hide-input": true,
        "_kg_hide-output": true,
        "execution": {
          "iopub.status.busy": "2022-02-25T18:12:51.379936Z",
          "iopub.execute_input": "2022-02-25T18:12:51.380474Z",
          "iopub.status.idle": "2022-02-25T18:12:51.672505Z",
          "shell.execute_reply.started": "2022-02-25T18:12:51.380434Z",
          "shell.execute_reply": "2022-02-25T18:12:51.671806Z"
        },
        "trusted": true,
        "id": "BDV1dfD0Ie9r",
        "outputId": "69361689-7ce3-4f3e-f78e-d9b4c8d263d8",
        "colab": {
          "base_uri": "https://localhost:8080/",
          "height": 237
        }
      },
      "execution_count": 28,
      "outputs": [
        {
          "output_type": "execute_result",
          "data": {
            "text/plain": [
              "             No\n",
              "DATE           \n",
              "2007-10-09  325\n",
              "2007-10-10  417\n",
              "2007-10-11  556\n",
              "2007-10-12  467\n",
              "2007-10-13  430"
            ],
            "text/html": [
              "\n",
              "  <div id=\"df-1fcc6027-c6ba-453a-a1a4-439dc6c1435f\" class=\"colab-df-container\">\n",
              "    <div>\n",
              "<style scoped>\n",
              "    .dataframe tbody tr th:only-of-type {\n",
              "        vertical-align: middle;\n",
              "    }\n",
              "\n",
              "    .dataframe tbody tr th {\n",
              "        vertical-align: top;\n",
              "    }\n",
              "\n",
              "    .dataframe thead th {\n",
              "        text-align: right;\n",
              "    }\n",
              "</style>\n",
              "<table border=\"1\" class=\"dataframe\">\n",
              "  <thead>\n",
              "    <tr style=\"text-align: right;\">\n",
              "      <th></th>\n",
              "      <th>No</th>\n",
              "    </tr>\n",
              "    <tr>\n",
              "      <th>DATE</th>\n",
              "      <th></th>\n",
              "    </tr>\n",
              "  </thead>\n",
              "  <tbody>\n",
              "    <tr>\n",
              "      <th>2007-10-09</th>\n",
              "      <td>325</td>\n",
              "    </tr>\n",
              "    <tr>\n",
              "      <th>2007-10-10</th>\n",
              "      <td>417</td>\n",
              "    </tr>\n",
              "    <tr>\n",
              "      <th>2007-10-11</th>\n",
              "      <td>556</td>\n",
              "    </tr>\n",
              "    <tr>\n",
              "      <th>2007-10-12</th>\n",
              "      <td>467</td>\n",
              "    </tr>\n",
              "    <tr>\n",
              "      <th>2007-10-13</th>\n",
              "      <td>430</td>\n",
              "    </tr>\n",
              "  </tbody>\n",
              "</table>\n",
              "</div>\n",
              "    <div class=\"colab-df-buttons\">\n",
              "\n",
              "  <div class=\"colab-df-container\">\n",
              "    <button class=\"colab-df-convert\" onclick=\"convertToInteractive('df-1fcc6027-c6ba-453a-a1a4-439dc6c1435f')\"\n",
              "            title=\"Convert this dataframe to an interactive table.\"\n",
              "            style=\"display:none;\">\n",
              "\n",
              "  <svg xmlns=\"http://www.w3.org/2000/svg\" height=\"24px\" viewBox=\"0 -960 960 960\">\n",
              "    <path d=\"M120-120v-720h720v720H120Zm60-500h600v-160H180v160Zm220 220h160v-160H400v160Zm0 220h160v-160H400v160ZM180-400h160v-160H180v160Zm440 0h160v-160H620v160ZM180-180h160v-160H180v160Zm440 0h160v-160H620v160Z\"/>\n",
              "  </svg>\n",
              "    </button>\n",
              "\n",
              "  <style>\n",
              "    .colab-df-container {\n",
              "      display:flex;\n",
              "      gap: 12px;\n",
              "    }\n",
              "\n",
              "    .colab-df-convert {\n",
              "      background-color: #E8F0FE;\n",
              "      border: none;\n",
              "      border-radius: 50%;\n",
              "      cursor: pointer;\n",
              "      display: none;\n",
              "      fill: #1967D2;\n",
              "      height: 32px;\n",
              "      padding: 0 0 0 0;\n",
              "      width: 32px;\n",
              "    }\n",
              "\n",
              "    .colab-df-convert:hover {\n",
              "      background-color: #E2EBFA;\n",
              "      box-shadow: 0px 1px 2px rgba(60, 64, 67, 0.3), 0px 1px 3px 1px rgba(60, 64, 67, 0.15);\n",
              "      fill: #174EA6;\n",
              "    }\n",
              "\n",
              "    .colab-df-buttons div {\n",
              "      margin-bottom: 4px;\n",
              "    }\n",
              "\n",
              "    [theme=dark] .colab-df-convert {\n",
              "      background-color: #3B4455;\n",
              "      fill: #D2E3FC;\n",
              "    }\n",
              "\n",
              "    [theme=dark] .colab-df-convert:hover {\n",
              "      background-color: #434B5C;\n",
              "      box-shadow: 0px 1px 3px 1px rgba(0, 0, 0, 0.15);\n",
              "      filter: drop-shadow(0px 1px 2px rgba(0, 0, 0, 0.3));\n",
              "      fill: #FFFFFF;\n",
              "    }\n",
              "  </style>\n",
              "\n",
              "    <script>\n",
              "      const buttonEl =\n",
              "        document.querySelector('#df-1fcc6027-c6ba-453a-a1a4-439dc6c1435f button.colab-df-convert');\n",
              "      buttonEl.style.display =\n",
              "        google.colab.kernel.accessAllowed ? 'block' : 'none';\n",
              "\n",
              "      async function convertToInteractive(key) {\n",
              "        const element = document.querySelector('#df-1fcc6027-c6ba-453a-a1a4-439dc6c1435f');\n",
              "        const dataTable =\n",
              "          await google.colab.kernel.invokeFunction('convertToInteractive',\n",
              "                                                    [key], {});\n",
              "        if (!dataTable) return;\n",
              "\n",
              "        const docLinkHtml = 'Like what you see? Visit the ' +\n",
              "          '<a target=\"_blank\" href=https://colab.research.google.com/notebooks/data_table.ipynb>data table notebook</a>'\n",
              "          + ' to learn more about interactive tables.';\n",
              "        element.innerHTML = '';\n",
              "        dataTable['output_type'] = 'display_data';\n",
              "        await google.colab.output.renderOutput(dataTable, element);\n",
              "        const docLink = document.createElement('div');\n",
              "        docLink.innerHTML = docLinkHtml;\n",
              "        element.appendChild(docLink);\n",
              "      }\n",
              "    </script>\n",
              "  </div>\n",
              "\n",
              "\n",
              "<div id=\"df-12aec775-4c7d-4d84-9fa8-b6c4f54a1e78\">\n",
              "  <button class=\"colab-df-quickchart\" onclick=\"quickchart('df-12aec775-4c7d-4d84-9fa8-b6c4f54a1e78')\"\n",
              "            title=\"Suggest charts\"\n",
              "            style=\"display:none;\">\n",
              "\n",
              "<svg xmlns=\"http://www.w3.org/2000/svg\" height=\"24px\"viewBox=\"0 0 24 24\"\n",
              "     width=\"24px\">\n",
              "    <g>\n",
              "        <path d=\"M19 3H5c-1.1 0-2 .9-2 2v14c0 1.1.9 2 2 2h14c1.1 0 2-.9 2-2V5c0-1.1-.9-2-2-2zM9 17H7v-7h2v7zm4 0h-2V7h2v10zm4 0h-2v-4h2v4z\"/>\n",
              "    </g>\n",
              "</svg>\n",
              "  </button>\n",
              "\n",
              "<style>\n",
              "  .colab-df-quickchart {\n",
              "      --bg-color: #E8F0FE;\n",
              "      --fill-color: #1967D2;\n",
              "      --hover-bg-color: #E2EBFA;\n",
              "      --hover-fill-color: #174EA6;\n",
              "      --disabled-fill-color: #AAA;\n",
              "      --disabled-bg-color: #DDD;\n",
              "  }\n",
              "\n",
              "  [theme=dark] .colab-df-quickchart {\n",
              "      --bg-color: #3B4455;\n",
              "      --fill-color: #D2E3FC;\n",
              "      --hover-bg-color: #434B5C;\n",
              "      --hover-fill-color: #FFFFFF;\n",
              "      --disabled-bg-color: #3B4455;\n",
              "      --disabled-fill-color: #666;\n",
              "  }\n",
              "\n",
              "  .colab-df-quickchart {\n",
              "    background-color: var(--bg-color);\n",
              "    border: none;\n",
              "    border-radius: 50%;\n",
              "    cursor: pointer;\n",
              "    display: none;\n",
              "    fill: var(--fill-color);\n",
              "    height: 32px;\n",
              "    padding: 0;\n",
              "    width: 32px;\n",
              "  }\n",
              "\n",
              "  .colab-df-quickchart:hover {\n",
              "    background-color: var(--hover-bg-color);\n",
              "    box-shadow: 0 1px 2px rgba(60, 64, 67, 0.3), 0 1px 3px 1px rgba(60, 64, 67, 0.15);\n",
              "    fill: var(--button-hover-fill-color);\n",
              "  }\n",
              "\n",
              "  .colab-df-quickchart-complete:disabled,\n",
              "  .colab-df-quickchart-complete:disabled:hover {\n",
              "    background-color: var(--disabled-bg-color);\n",
              "    fill: var(--disabled-fill-color);\n",
              "    box-shadow: none;\n",
              "  }\n",
              "\n",
              "  .colab-df-spinner {\n",
              "    border: 2px solid var(--fill-color);\n",
              "    border-color: transparent;\n",
              "    border-bottom-color: var(--fill-color);\n",
              "    animation:\n",
              "      spin 1s steps(1) infinite;\n",
              "  }\n",
              "\n",
              "  @keyframes spin {\n",
              "    0% {\n",
              "      border-color: transparent;\n",
              "      border-bottom-color: var(--fill-color);\n",
              "      border-left-color: var(--fill-color);\n",
              "    }\n",
              "    20% {\n",
              "      border-color: transparent;\n",
              "      border-left-color: var(--fill-color);\n",
              "      border-top-color: var(--fill-color);\n",
              "    }\n",
              "    30% {\n",
              "      border-color: transparent;\n",
              "      border-left-color: var(--fill-color);\n",
              "      border-top-color: var(--fill-color);\n",
              "      border-right-color: var(--fill-color);\n",
              "    }\n",
              "    40% {\n",
              "      border-color: transparent;\n",
              "      border-right-color: var(--fill-color);\n",
              "      border-top-color: var(--fill-color);\n",
              "    }\n",
              "    60% {\n",
              "      border-color: transparent;\n",
              "      border-right-color: var(--fill-color);\n",
              "    }\n",
              "    80% {\n",
              "      border-color: transparent;\n",
              "      border-right-color: var(--fill-color);\n",
              "      border-bottom-color: var(--fill-color);\n",
              "    }\n",
              "    90% {\n",
              "      border-color: transparent;\n",
              "      border-bottom-color: var(--fill-color);\n",
              "    }\n",
              "  }\n",
              "</style>\n",
              "\n",
              "  <script>\n",
              "    async function quickchart(key) {\n",
              "      const quickchartButtonEl =\n",
              "        document.querySelector('#' + key + ' button');\n",
              "      quickchartButtonEl.disabled = true;  // To prevent multiple clicks.\n",
              "      quickchartButtonEl.classList.add('colab-df-spinner');\n",
              "      try {\n",
              "        const charts = await google.colab.kernel.invokeFunction(\n",
              "            'suggestCharts', [key], {});\n",
              "      } catch (error) {\n",
              "        console.error('Error during call to suggestCharts:', error);\n",
              "      }\n",
              "      quickchartButtonEl.classList.remove('colab-df-spinner');\n",
              "      quickchartButtonEl.classList.add('colab-df-quickchart-complete');\n",
              "    }\n",
              "    (() => {\n",
              "      let quickchartButtonEl =\n",
              "        document.querySelector('#df-12aec775-4c7d-4d84-9fa8-b6c4f54a1e78 button');\n",
              "      quickchartButtonEl.style.display =\n",
              "        google.colab.kernel.accessAllowed ? 'block' : 'none';\n",
              "    })();\n",
              "  </script>\n",
              "</div>\n",
              "    </div>\n",
              "  </div>\n"
            ]
          },
          "metadata": {},
          "execution_count": 28
        }
      ]
    },
    {
      "cell_type": "code",
      "source": [
        "import matplotlib.pyplot as plt\n",
        "# Plot the training set\n",
        "df[\"No\"][:'2014'].plot(figsize=(16, 4), legend=True)\n",
        "# Plot the test set\n",
        "df[\"No\"]['2015':].plot(figsize=(16, 4), legend=True)\n",
        "plt.legend(['Training set (Before 2014)', 'Test set (2015 and beyond)'])\n",
        "plt.title('Linkou')\n",
        "plt.show()"
      ],
      "metadata": {
        "id": "KtFxsUatLgRn",
        "outputId": "63b14b84-fddc-4ede-ac98-aef1d9d62e8c",
        "colab": {
          "base_uri": "https://localhost:8080/",
          "height": 408
        }
      },
      "execution_count": 29,
      "outputs": [
        {
          "output_type": "display_data",
          "data": {
            "text/plain": [
              "<Figure size 1600x400 with 1 Axes>"
            ],
            "image/png": "[encoded data removed]"
          },
          "metadata": {}
        }
      ]
    },
    {
      "cell_type": "code",
      "source": [
        "# We have chosen the target as 'Close' attribute for prices. Let's see what it looks like\n",
        "# here we are seperating the data\n",
        "training_set = df[:'2014'].iloc[:,0:1].values\n",
        "test_set = df['2015':].iloc[:,0:1].values\n",
        "\n",
        "print(training_set.shape)\n",
        "print(test_set.shape)"
      ],
      "metadata": {
        "_kg_hide-input": true,
        "execution": {
          "iopub.status.busy": "2022-02-25T18:12:51.679989Z",
          "iopub.execute_input": "2022-02-25T18:12:51.680801Z",
          "iopub.status.idle": "2022-02-25T18:12:51.698018Z",
          "shell.execute_reply.started": "2022-02-25T18:12:51.680762Z",
          "shell.execute_reply": "2022-02-25T18:12:51.697321Z"
        },
        "trusted": true,
        "id": "iRZB5DpJIe9s",
        "outputId": "ddb52064-228d-403c-d8d6-4ed17a89dd46",
        "colab": {
          "base_uri": "https://localhost:8080/"
        }
      },
      "execution_count": 30,
      "outputs": [
        {
          "output_type": "stream",
          "name": "stdout",
          "text": [
            "(2641, 1)\n",
            "(355, 1)\n"
          ]
        }
      ]
    },
    {
      "cell_type": "code",
      "source": [
        "# Scaling the training set - I've tried it without scaling and results are very poor.\n",
        "sc = MinMaxScaler(feature_range=(0,1))\n",
        "training_set_scaled = sc.fit_transform(training_set)\n"
      ],
      "metadata": {
        "_kg_hide-input": true,
        "execution": {
          "iopub.status.busy": "2022-02-25T18:12:52.009411Z",
          "iopub.execute_input": "2022-02-25T18:12:52.009755Z",
          "iopub.status.idle": "2022-02-25T18:12:52.015173Z",
          "shell.execute_reply.started": "2022-02-25T18:12:52.009723Z",
          "shell.execute_reply": "2022-02-25T18:12:52.014419Z"
        },
        "trusted": true,
        "id": "-5AlY3sZIe9u"
      },
      "execution_count": 31,
      "outputs": []
    },
    {
      "cell_type": "code",
      "source": [
        "timesteps = 10\n",
        "# First, we create data sets where each sample has with 8 timesteps and 1 output\n",
        "# So for each element of training set, we have 8 previous training set elements\n",
        "x_train = []\n",
        "y_train = []\n",
        "for i in range(timesteps,training_set.shape[0]):\n",
        "    x_train.append(training_set_scaled[i-timesteps:i,0])\n",
        "    y_train.append(training_set_scaled[i,0])\n",
        "x_train, y_train = np.array(x_train), np.array(y_train)\n",
        "\n",
        "print(x_train[0], y_train[0])\n",
        "print(x_train[1], y_train[1])"
      ],
      "metadata": {
        "execution": {
          "iopub.status.busy": "2022-02-25T18:12:52.016684Z",
          "iopub.execute_input": "2022-02-25T18:12:52.016953Z",
          "iopub.status.idle": "2022-02-25T18:12:52.029432Z",
          "shell.execute_reply.started": "2022-02-25T18:12:52.016917Z",
          "shell.execute_reply": "2022-02-25T18:12:52.028706Z"
        },
        "trusted": true,
        "id": "ttKE9OxcIe9u",
        "outputId": "bc3ba499-825b-4a8e-ed6e-b4ff233c4825",
        "colab": {
          "base_uri": "https://localhost:8080/"
        }
      },
      "execution_count": 61,
      "outputs": [
        {
          "output_type": "stream",
          "name": "stdout",
          "text": [
            "[0.         0.15944541 0.40034662 0.24610052 0.18197574 0.18890815\n",
            " 0.18890815 0.15771231 0.24263432 0.43327556] 0.1854419410745234\n",
            "[0.15944541 0.40034662 0.24610052 0.18197574 0.18890815 0.18890815\n",
            " 0.15771231 0.24263432 0.43327556 0.18544194] 0.25823223570190634\n"
          ]
        }
      ]
    },
    {
      "cell_type": "markdown",
      "source": [
        "### The choice of the number of timesteps is the first thing worth noting. This is also true with RNNs, but with transformers - the optimum choice is often much lower. Three stocks are shown below. With RNNs the number ranges much higher. For ConvLSTMs the optimum is usually between 40-90 timesteps, with transformers it is usually under 10."
      ],
      "metadata": {
        "id": "ZexrtaRuIe9v"
      }
    },
    {
      "cell_type": "code",
      "source": [
        "print(x_train.shape, y_train.shape)\n",
        "x_train = x_train.reshape((x_train.shape[0], x_train.shape[1], 1))\n",
        "print(x_train.shape, y_train.shape)"
      ],
      "metadata": {
        "_kg_hide-input": true,
        "execution": {
          "iopub.status.busy": "2022-02-25T18:12:52.030596Z",
          "iopub.execute_input": "2022-02-25T18:12:52.031354Z",
          "iopub.status.idle": "2022-02-25T18:12:52.039379Z",
          "shell.execute_reply.started": "2022-02-25T18:12:52.031309Z",
          "shell.execute_reply": "2022-02-25T18:12:52.038612Z"
        },
        "trusted": true,
        "id": "j1qyQ6orIe9v",
        "outputId": "7593f383-eda9-45bc-8a95-10d964d86a37",
        "colab": {
          "base_uri": "https://localhost:8080/"
        }
      },
      "execution_count": 62,
      "outputs": [
        {
          "output_type": "stream",
          "name": "stdout",
          "text": [
            "(2631, 10) (2631,)\n",
            "(2631, 10, 1) (2631,)\n"
          ]
        }
      ]
    },
    {
      "cell_type": "code",
      "source": [
        "print(x_train.shape, y_train.shape)\n",
        "idx = np.random.permutation(len(x_train))\n",
        "x_train = x_train[idx]\n",
        "y_train = y_train[idx]"
      ],
      "metadata": {
        "_uuid": "8f2839f25d086af736a60e9eeb907d3b93b6e0e5",
        "_cell_guid": "b1076dfc-b9ad-4769-8c92-a6c4dae69d19",
        "_kg_hide-input": true,
        "execution": {
          "iopub.status.busy": "2022-02-25T18:12:52.04109Z",
          "iopub.execute_input": "2022-02-25T18:12:52.041747Z",
          "iopub.status.idle": "2022-02-25T18:12:52.049591Z",
          "shell.execute_reply.started": "2022-02-25T18:12:52.041703Z",
          "shell.execute_reply": "2022-02-25T18:12:52.048884Z"
        },
        "trusted": true,
        "id": "VGfQmYffIe9v",
        "outputId": "ebf0f452-12b2-4eb9-f8b6-02ad1f3cae5c",
        "colab": {
          "base_uri": "https://localhost:8080/"
        }
      },
      "execution_count": 63,
      "outputs": [
        {
          "output_type": "stream",
          "name": "stdout",
          "text": [
            "(2631, 10, 1) (2631,)\n"
          ]
        }
      ]
    },
    {
      "cell_type": "markdown",
      "source": [
        "# Build the model\n",
        "\n",
        "### Our model processes a tensor of shape [batch size, sequence length, features], where sequence length is the number of time steps in your sample and features is the number of elements you are trying to predict. If we are only trying to predict one thing, such as closing price - then features is 1. When it comes to describing tensor shapes, I am going to refer to batch size as \"#samples\" so as not to confuse it with batch_size when fitting the model.\n",
        "\n",
        "### Fortunately, with recurrent neural nets (such as LSTMs) for timeseries analysis, the inputs [#samples, timesteps, features] are compatible with transformers!\n",
        "#### The image below is for a single transformer encoder block. For our purposes, the embedding is removed and limited to only to a LayerNormalization layer (which does work better than a BatchNormalization layer). The positional embedding is an option, but frankly - I have tried three diferent time2vec implementations and although the code works, the results are worse (If you can implement a time2vec function which actually improves the rmse score then please share with me). The multi-head attention is already coded for in keras. The feed forward part can be almost anything. We will use a Conv1D layer(because results are good) but you could get away with almost anything, dense layers, another LSTM, whatever you want. You could also stick an LSTM in the embedding layer - it works, if your return_sequences = True, it just give worse results."
      ],
      "metadata": {
        "id": "MUMW2mgTIe9v"
      }
    },
    {
      "cell_type": "markdown",
      "source": [
        "<center><img src = \"data:image/png;base64,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\"></center>"
      ],
      "metadata": {
        "id": "o6Z9Vb-RIe9v"
      }
    },
    {
      "cell_type": "code",
      "source": [
        "def transformer_encoder(inputs, head_size, num_heads, ff_dim, dropout=0):\n",
        "\n",
        "    # Normalization and Attention\n",
        "    # \"EMBEDDING LAYER\"\n",
        "    x = layers.LayerNormalization(epsilon=1e-6)(inputs)\n",
        "\n",
        "    # \"ATTENTION LAYER\"\n",
        "    x = layers.MultiHeadAttention(\n",
        "        key_dim=head_size, num_heads=num_heads, dropout=dropout\n",
        "    )(x, x)\n",
        "    x = layers.Dropout(dropout)(x)\n",
        "    res = x + inputs\n",
        "\n",
        "    # FEED FORWARD Part - you can stick anything here or just delete the whole section - it will still work.\n",
        "    x = layers.LayerNormalization(epsilon=1e-6)(res)\n",
        "    x = layers.Conv1D(filters=ff_dim, kernel_size=1, activation = \"relu\")(x)\n",
        "    x = layers.Dropout(dropout)(x)\n",
        "    x = layers.Conv1D(filters=inputs.shape[-1], kernel_size=1)(x)\n",
        "    return x + res"
      ],
      "metadata": {
        "execution": {
          "iopub.status.busy": "2022-02-25T18:12:52.050724Z",
          "iopub.execute_input": "2022-02-25T18:12:52.05124Z",
          "iopub.status.idle": "2022-02-25T18:12:52.059401Z",
          "shell.execute_reply.started": "2022-02-25T18:12:52.051204Z",
          "shell.execute_reply": "2022-02-25T18:12:52.058632Z"
        },
        "trusted": true,
        "id": "aJRjtvfsIe9w"
      },
      "execution_count": 64,
      "outputs": []
    },
    {
      "cell_type": "markdown",
      "source": [
        "### The main part of our model is now complete.\n",
        "### We can stack multiple of those transformer_encoder blocks and we can also proceed to add the final Multi-Layer Perceptron/ DNN head.\n",
        "\n",
        "### Apart from a stack of Dense layers, we need to reduce the output tensor of the TransformerEncoder part of our model down to a vector of features for each data point in the current batch. A pooling layer like GlobalAveragePooling1D layer will do this."
      ],
      "metadata": {
        "id": "wT7n19LEIe9w"
      }
    },
    {
      "cell_type": "code",
      "source": [
        "def build_model(\n",
        "    input_shape,\n",
        "    head_size,\n",
        "    num_heads,\n",
        "    ff_dim,\n",
        "    num_transformer_blocks,\n",
        "    mlp_units,\n",
        "    dropout=0,\n",
        "    mlp_dropout=0,\n",
        "):\n",
        "    inputs = keras.Input(shape=input_shape)\n",
        "    x = inputs\n",
        "\n",
        "    for _ in range(num_transformer_blocks):  # This is what stacks our transformer blocks\n",
        "        x = transformer_encoder(x, head_size, num_heads, ff_dim, dropout)\n",
        "\n",
        "    x = layers.GlobalAveragePooling1D(data_format=\"channels_first\")(x)\n",
        "    for dim in mlp_units:\n",
        "        x = layers.Dense(dim, activation=\"elu\")(x)\n",
        "        x = layers.Dropout(mlp_dropout)(x)\n",
        "    outputs = layers.Dense(1, activation=\"linear\")(x) #this is a pass-through\n",
        "    return keras.Model(inputs, outputs)"
      ],
      "metadata": {
        "execution": {
          "iopub.status.busy": "2022-02-25T18:12:52.060591Z",
          "iopub.execute_input": "2022-02-25T18:12:52.060894Z",
          "iopub.status.idle": "2022-02-25T18:12:52.069247Z",
          "shell.execute_reply.started": "2022-02-25T18:12:52.060856Z",
          "shell.execute_reply": "2022-02-25T18:12:52.068512Z"
        },
        "trusted": true,
        "id": "suIkIXtLIe9w"
      },
      "execution_count": 36,
      "outputs": []
    },
    {
      "cell_type": "markdown",
      "source": [
        "### Another note - the activation function above makes a difference, elu is best : elu > selu > tanh > relu > gelu > swish. I am curious if serlu would out perform them but I can't figure out how to add the custom activation function."
      ],
      "metadata": {
        "id": "delcKu91Ie9x"
      }
    },
    {
      "cell_type": "code",
      "source": [
        "def lr_scheduler(epoch, lr, warmup_epochs=30, decay_epochs=100, initial_lr=1e-6, base_lr=1e-3, min_lr=5e-5):\n",
        "    if epoch <= warmup_epochs:\n",
        "        pct = epoch / warmup_epochs\n",
        "        return ((base_lr - initial_lr) * pct) + initial_lr\n",
        "\n",
        "    if epoch > warmup_epochs and epoch < warmup_epochs+decay_epochs:\n",
        "        pct = 1 - ((epoch - warmup_epochs) / decay_epochs)\n",
        "        return ((base_lr - min_lr) * pct) + min_lr\n",
        "\n",
        "    return min_lr"
      ],
      "metadata": {
        "_kg_hide-input": true,
        "execution": {
          "iopub.status.busy": "2022-02-25T18:12:52.070141Z",
          "iopub.execute_input": "2022-02-25T18:12:52.071864Z",
          "iopub.status.idle": "2022-02-25T18:12:52.080252Z",
          "shell.execute_reply.started": "2022-02-25T18:12:52.071826Z",
          "shell.execute_reply": "2022-02-25T18:12:52.079536Z"
        },
        "trusted": true,
        "id": "YB6_V7rxIe9x"
      },
      "execution_count": 65,
      "outputs": []
    },
    {
      "cell_type": "code",
      "source": [
        "callbacks = [\n",
        "        keras.callbacks.EarlyStopping(patience=10, restore_best_weights=True),\n",
        "        keras.callbacks.LearningRateScheduler(lr_scheduler)\n",
        "      ]"
      ],
      "metadata": {
        "execution": {
          "iopub.status.busy": "2022-02-25T18:13:50.942774Z",
          "iopub.execute_input": "2022-02-25T18:13:50.943025Z",
          "iopub.status.idle": "2022-02-25T18:13:50.947467Z",
          "shell.execute_reply.started": "2022-02-25T18:13:50.942998Z",
          "shell.execute_reply": "2022-02-25T18:13:50.946616Z"
        },
        "trusted": true,
        "id": "QVH4pUQeIe9x"
      },
      "execution_count": 66,
      "outputs": []
    },
    {
      "cell_type": "code",
      "source": [
        "input_shape = x_train.shape[1:]\n",
        "print(input_shape)"
      ],
      "metadata": {
        "execution": {
          "iopub.status.busy": "2022-02-25T18:20:23.155012Z",
          "iopub.execute_input": "2022-02-25T18:20:23.155312Z",
          "iopub.status.idle": "2022-02-25T18:20:23.160449Z",
          "shell.execute_reply.started": "2022-02-25T18:20:23.155264Z",
          "shell.execute_reply": "2022-02-25T18:20:23.15962Z"
        },
        "trusted": true,
        "id": "XGayP5GmIe9x",
        "outputId": "908c61d4-906a-4540-87ea-4150997962fc",
        "colab": {
          "base_uri": "https://localhost:8080/"
        }
      },
      "execution_count": 67,
      "outputs": [
        {
          "output_type": "stream",
          "name": "stdout",
          "text": [
            "(10, 1)\n"
          ]
        }
      ]
    },
    {
      "cell_type": "code",
      "source": [
        "model = build_model(\n",
        "    input_shape,\n",
        "    head_size=46, # Embedding size for attention\n",
        "    num_heads=60, # Number of attention heads\n",
        "    ff_dim=55, # Hidden layer size in feed forward network inside transformer\n",
        "    num_transformer_blocks=5,\n",
        "    mlp_units=[256],\n",
        "    mlp_dropout=0.4,\n",
        "    dropout=0.14)"
      ],
      "metadata": {
        "id": "EEbfMaBUqoWA"
      },
      "execution_count": 68,
      "outputs": []
    },
    {
      "cell_type": "code",
      "source": [
        "model.compile(\n",
        "       loss=\"mean_squared_error\",\n",
        "       optimizer=keras.optimizers.Adam(learning_rate=1e-4),\n",
        "       metrics=[\"mean_squared_error\"],\n",
        ")"
      ],
      "metadata": {
        "id": "nFWl6HjLqwIp"
      },
      "execution_count": 69,
      "outputs": []
    },
    {
      "cell_type": "code",
      "source": [
        "model.summary()"
      ],
      "metadata": {
        "id": "_QjawfVMq11V",
        "outputId": "d3f05b07-dc70-4c27-e4f0-9a73ab1759a2",
        "colab": {
          "base_uri": "https://localhost:8080/"
        }
      },
      "execution_count": 70,
      "outputs": [
        {
          "output_type": "stream",
          "name": "stdout",
          "text": [
            "Model: \"model_1\"\n",
            "__________________________________________________________________________________________________\n",
            " Layer (type)                Output Shape                 Param #   Connected to                  \n",
            "==================================================================================================\n",
            " input_2 (InputLayer)        [(None, 10, 1)]              0         []                            \n",
            "                                                                                                  \n",
            " layer_normalization_10 (La  (None, 10, 1)                2         ['input_2[0][0]']             \n",
            " yerNormalization)                                                                                \n",
            "                                                                                                  \n",
            " multi_head_attention_5 (Mu  (None, 10, 1)                19321     ['layer_normalization_10[0][0]\n",
            " ltiHeadAttention)                                                  ',                            \n",
            "                                                                     'layer_normalization_10[0][0]\n",
            "                                                                    ']                            \n",
            "                                                                                                  \n",
            " dropout_11 (Dropout)        (None, 10, 1)                0         ['multi_head_attention_5[0][0]\n",
            "                                                                    ']                            \n",
            "                                                                                                  \n",
            " tf.__operators__.add_10 (T  (None, 10, 1)                0         ['dropout_11[0][0]',          \n",
            " FOpLambda)                                                          'input_2[0][0]']             \n",
            "                                                                                                  \n",
            " layer_normalization_11 (La  (None, 10, 1)                2         ['tf.__operators__.add_10[0][0\n",
            " yerNormalization)                                                  ]']                           \n",
            "                                                                                                  \n",
            " conv1d_10 (Conv1D)          (None, 10, 55)               110       ['layer_normalization_11[0][0]\n",
            "                                                                    ']                            \n",
            "                                                                                                  \n",
            " dropout_12 (Dropout)        (None, 10, 55)               0         ['conv1d_10[0][0]']           \n",
            "                                                                                                  \n",
            " conv1d_11 (Conv1D)          (None, 10, 1)                56        ['dropout_12[0][0]']          \n",
            "                                                                                                  \n",
            " tf.__operators__.add_11 (T  (None, 10, 1)                0         ['conv1d_11[0][0]',           \n",
            " FOpLambda)                                                          'tf.__operators__.add_10[0][0\n",
            "                                                                    ]']                           \n",
            "                                                                                                  \n",
            " layer_normalization_12 (La  (None, 10, 1)                2         ['tf.__operators__.add_11[0][0\n",
            " yerNormalization)                                                  ]']                           \n",
            "                                                                                                  \n",
            " multi_head_attention_6 (Mu  (None, 10, 1)                19321     ['layer_normalization_12[0][0]\n",
            " ltiHeadAttention)                                                  ',                            \n",
            "                                                                     'layer_normalization_12[0][0]\n",
            "                                                                    ']                            \n",
            "                                                                                                  \n",
            " dropout_13 (Dropout)        (None, 10, 1)                0         ['multi_head_attention_6[0][0]\n",
            "                                                                    ']                            \n",
            "                                                                                                  \n",
            " tf.__operators__.add_12 (T  (None, 10, 1)                0         ['dropout_13[0][0]',          \n",
            " FOpLambda)                                                          'tf.__operators__.add_11[0][0\n",
            "                                                                    ]']                           \n",
            "                                                                                                  \n",
            " layer_normalization_13 (La  (None, 10, 1)                2         ['tf.__operators__.add_12[0][0\n",
            " yerNormalization)                                                  ]']                           \n",
            "                                                                                                  \n",
            " conv1d_12 (Conv1D)          (None, 10, 55)               110       ['layer_normalization_13[0][0]\n",
            "                                                                    ']                            \n",
            "                                                                                                  \n",
            " dropout_14 (Dropout)        (None, 10, 55)               0         ['conv1d_12[0][0]']           \n",
            "                                                                                                  \n",
            " conv1d_13 (Conv1D)          (None, 10, 1)                56        ['dropout_14[0][0]']          \n",
            "                                                                                                  \n",
            " tf.__operators__.add_13 (T  (None, 10, 1)                0         ['conv1d_13[0][0]',           \n",
            " FOpLambda)                                                          'tf.__operators__.add_12[0][0\n",
            "                                                                    ]']                           \n",
            "                                                                                                  \n",
            " layer_normalization_14 (La  (None, 10, 1)                2         ['tf.__operators__.add_13[0][0\n",
            " yerNormalization)                                                  ]']                           \n",
            "                                                                                                  \n",
            " multi_head_attention_7 (Mu  (None, 10, 1)                19321     ['layer_normalization_14[0][0]\n",
            " ltiHeadAttention)                                                  ',                            \n",
            "                                                                     'layer_normalization_14[0][0]\n",
            "                                                                    ']                            \n",
            "                                                                                                  \n",
            " dropout_15 (Dropout)        (None, 10, 1)                0         ['multi_head_attention_7[0][0]\n",
            "                                                                    ']                            \n",
            "                                                                                                  \n",
            " tf.__operators__.add_14 (T  (None, 10, 1)                0         ['dropout_15[0][0]',          \n",
            " FOpLambda)                                                          'tf.__operators__.add_13[0][0\n",
            "                                                                    ]']                           \n",
            "                                                                                                  \n",
            " layer_normalization_15 (La  (None, 10, 1)                2         ['tf.__operators__.add_14[0][0\n",
            " yerNormalization)                                                  ]']                           \n",
            "                                                                                                  \n",
            " conv1d_14 (Conv1D)          (None, 10, 55)               110       ['layer_normalization_15[0][0]\n",
            "                                                                    ']                            \n",
            "                                                                                                  \n",
            " dropout_16 (Dropout)        (None, 10, 55)               0         ['conv1d_14[0][0]']           \n",
            "                                                                                                  \n",
            " conv1d_15 (Conv1D)          (None, 10, 1)                56        ['dropout_16[0][0]']          \n",
            "                                                                                                  \n",
            " tf.__operators__.add_15 (T  (None, 10, 1)                0         ['conv1d_15[0][0]',           \n",
            " FOpLambda)                                                          'tf.__operators__.add_14[0][0\n",
            "                                                                    ]']                           \n",
            "                                                                                                  \n",
            " layer_normalization_16 (La  (None, 10, 1)                2         ['tf.__operators__.add_15[0][0\n",
            " yerNormalization)                                                  ]']                           \n",
            "                                                                                                  \n",
            " multi_head_attention_8 (Mu  (None, 10, 1)                19321     ['layer_normalization_16[0][0]\n",
            " ltiHeadAttention)                                                  ',                            \n",
            "                                                                     'layer_normalization_16[0][0]\n",
            "                                                                    ']                            \n",
            "                                                                                                  \n",
            " dropout_17 (Dropout)        (None, 10, 1)                0         ['multi_head_attention_8[0][0]\n",
            "                                                                    ']                            \n",
            "                                                                                                  \n",
            " tf.__operators__.add_16 (T  (None, 10, 1)                0         ['dropout_17[0][0]',          \n",
            " FOpLambda)                                                          'tf.__operators__.add_15[0][0\n",
            "                                                                    ]']                           \n",
            "                                                                                                  \n",
            " layer_normalization_17 (La  (None, 10, 1)                2         ['tf.__operators__.add_16[0][0\n",
            " yerNormalization)                                                  ]']                           \n",
            "                                                                                                  \n",
            " conv1d_16 (Conv1D)          (None, 10, 55)               110       ['layer_normalization_17[0][0]\n",
            "                                                                    ']                            \n",
            "                                                                                                  \n",
            " dropout_18 (Dropout)        (None, 10, 55)               0         ['conv1d_16[0][0]']           \n",
            "                                                                                                  \n",
            " conv1d_17 (Conv1D)          (None, 10, 1)                56        ['dropout_18[0][0]']          \n",
            "                                                                                                  \n",
            " tf.__operators__.add_17 (T  (None, 10, 1)                0         ['conv1d_17[0][0]',           \n",
            " FOpLambda)                                                          'tf.__operators__.add_16[0][0\n",
            "                                                                    ]']                           \n",
            "                                                                                                  \n",
            " layer_normalization_18 (La  (None, 10, 1)                2         ['tf.__operators__.add_17[0][0\n",
            " yerNormalization)                                                  ]']                           \n",
            "                                                                                                  \n",
            " multi_head_attention_9 (Mu  (None, 10, 1)                19321     ['layer_normalization_18[0][0]\n",
            " ltiHeadAttention)                                                  ',                            \n",
            "                                                                     'layer_normalization_18[0][0]\n",
            "                                                                    ']                            \n",
            "                                                                                                  \n",
            " dropout_19 (Dropout)        (None, 10, 1)                0         ['multi_head_attention_9[0][0]\n",
            "                                                                    ']                            \n",
            "                                                                                                  \n",
            " tf.__operators__.add_18 (T  (None, 10, 1)                0         ['dropout_19[0][0]',          \n",
            " FOpLambda)                                                          'tf.__operators__.add_17[0][0\n",
            "                                                                    ]']                           \n",
            "                                                                                                  \n",
            " layer_normalization_19 (La  (None, 10, 1)                2         ['tf.__operators__.add_18[0][0\n",
            " yerNormalization)                                                  ]']                           \n",
            "                                                                                                  \n",
            " conv1d_18 (Conv1D)          (None, 10, 55)               110       ['layer_normalization_19[0][0]\n",
            "                                                                    ']                            \n",
            "                                                                                                  \n",
            " dropout_20 (Dropout)        (None, 10, 55)               0         ['conv1d_18[0][0]']           \n",
            "                                                                                                  \n",
            " conv1d_19 (Conv1D)          (None, 10, 1)                56        ['dropout_20[0][0]']          \n",
            "                                                                                                  \n",
            " tf.__operators__.add_19 (T  (None, 10, 1)                0         ['conv1d_19[0][0]',           \n",
            " FOpLambda)                                                          'tf.__operators__.add_18[0][0\n",
            "                                                                    ]']                           \n",
            "                                                                                                  \n",
            " global_average_pooling1d_1  (None, 10)                   0         ['tf.__operators__.add_19[0][0\n",
            "  (GlobalAveragePooling1D)                                          ]']                           \n",
            "                                                                                                  \n",
            " dense_2 (Dense)             (None, 256)                  2816      ['global_average_pooling1d_1[0\n",
            "                                                                    ][0]']                        \n",
            "                                                                                                  \n",
            " dropout_21 (Dropout)        (None, 256)                  0         ['dense_2[0][0]']             \n",
            "                                                                                                  \n",
            " dense_3 (Dense)             (None, 1)                    257       ['dropout_21[0][0]']          \n",
            "                                                                                                  \n",
            "==================================================================================================\n",
            "Total params: 100528 (392.69 KB)\n",
            "Trainable params: 100528 (392.69 KB)\n",
            "Non-trainable params: 0 (0.00 Byte)\n",
            "__________________________________________________________________________________________________\n"
          ]
        }
      ]
    },
    {
      "cell_type": "code",
      "source": [
        "history = model.fit(\n",
        "            x_train,\n",
        "            y_train,\n",
        "            validation_split=0.2,\n",
        "            epochs=100,\n",
        "            batch_size=32,\n",
        "            callbacks=callbacks\n",
        ")"
      ],
      "metadata": {
        "execution": {
          "iopub.status.busy": "2022-02-25T18:13:54.628058Z",
          "iopub.execute_input": "2022-02-25T18:13:54.628705Z",
          "iopub.status.idle": "2022-02-25T18:14:39.683131Z",
          "shell.execute_reply.started": "2022-02-25T18:13:54.628665Z",
          "shell.execute_reply": "2022-02-25T18:14:39.682343Z"
        },
        "trusted": true,
        "id": "0Lauq9VNIe9x",
        "outputId": "1f558e59-f5e7-4978-ba1f-82c4680cc8fa",
        "colab": {
          "base_uri": "https://localhost:8080/"
        }
      },
      "execution_count": 71,
      "outputs": [
        {
          "output_type": "stream",
          "name": "stdout",
          "text": [
            "Epoch 1/100\n",
            "66/66 [==============================] - 36s 402ms/step - loss: 0.2376 - mean_squared_error: 0.2376 - val_loss: 0.2134 - val_mean_squared_error: 0.2134 - lr: 1.0000e-06\n",
            "Epoch 2/100\n",
            "66/66 [==============================] - 25s 387ms/step - loss: 0.0656 - mean_squared_error: 0.0656 - val_loss: 0.0207 - val_mean_squared_error: 0.0207 - lr: 3.4300e-05\n",
            "Epoch 3/100\n",
            "66/66 [==============================] - 22s 337ms/step - loss: 0.0281 - mean_squared_error: 0.0281 - val_loss: 0.0196 - val_mean_squared_error: 0.0196 - lr: 6.7600e-05\n",
            "Epoch 4/100\n",
            "66/66 [==============================] - 25s 386ms/step - loss: 0.0265 - mean_squared_error: 0.0265 - val_loss: 0.0188 - val_mean_squared_error: 0.0188 - lr: 1.0090e-04\n",
            "Epoch 5/100\n",
            "66/66 [==============================] - 22s 339ms/step - loss: 0.0241 - mean_squared_error: 0.0241 - val_loss: 0.0164 - val_mean_squared_error: 0.0164 - lr: 1.3420e-04\n",
            "Epoch 6/100\n",
            "66/66 [==============================] - 23s 342ms/step - loss: 0.0215 - mean_squared_error: 0.0215 - val_loss: 0.0151 - val_mean_squared_error: 0.0151 - lr: 1.6750e-04\n",
            "Epoch 7/100\n",
            "66/66 [==============================] - 23s 345ms/step - loss: 0.0194 - mean_squared_error: 0.0194 - val_loss: 0.0133 - val_mean_squared_error: 0.0133 - lr: 2.0080e-04\n",
            "Epoch 8/100\n",
            "66/66 [==============================] - 21s 314ms/step - loss: 0.0154 - mean_squared_error: 0.0154 - val_loss: 0.0104 - val_mean_squared_error: 0.0104 - lr: 2.3410e-04\n",
            "Epoch 9/100\n",
            "66/66 [==============================] - 23s 352ms/step - loss: 0.0108 - mean_squared_error: 0.0108 - val_loss: 0.0071 - val_mean_squared_error: 0.0071 - lr: 2.6740e-04\n",
            "Epoch 10/100\n",
            "66/66 [==============================] - 21s 317ms/step - loss: 0.0079 - mean_squared_error: 0.0079 - val_loss: 0.0056 - val_mean_squared_error: 0.0056 - lr: 3.0070e-04\n",
            "Epoch 11/100\n",
            "66/66 [==============================] - 24s 362ms/step - loss: 0.0072 - mean_squared_error: 0.0072 - val_loss: 0.0052 - val_mean_squared_error: 0.0052 - lr: 3.3400e-04\n",
            "Epoch 12/100\n",
            "66/66 [==============================] - 23s 342ms/step - loss: 0.0068 - mean_squared_error: 0.0068 - val_loss: 0.0050 - val_mean_squared_error: 0.0050 - lr: 3.6730e-04\n",
            "Epoch 13/100\n",
            "66/66 [==============================] - 23s 355ms/step - loss: 0.0068 - mean_squared_error: 0.0068 - val_loss: 0.0049 - val_mean_squared_error: 0.0049 - lr: 4.0060e-04\n",
            "Epoch 14/100\n",
            "66/66 [==============================] - 21s 324ms/step - loss: 0.0066 - mean_squared_error: 0.0066 - val_loss: 0.0050 - val_mean_squared_error: 0.0050 - lr: 4.3390e-04\n",
            "Epoch 15/100\n",
            "66/66 [==============================] - 23s 345ms/step - loss: 0.0068 - mean_squared_error: 0.0068 - val_loss: 0.0051 - val_mean_squared_error: 0.0051 - lr: 4.6720e-04\n",
            "Epoch 16/100\n",
            "66/66 [==============================] - 22s 337ms/step - loss: 0.0062 - mean_squared_error: 0.0062 - val_loss: 0.0048 - val_mean_squared_error: 0.0048 - lr: 5.0050e-04\n",
            "Epoch 17/100\n",
            "66/66 [==============================] - 23s 346ms/step - loss: 0.0062 - mean_squared_error: 0.0062 - val_loss: 0.0048 - val_mean_squared_error: 0.0048 - lr: 5.3380e-04\n",
            "Epoch 18/100\n",
            "66/66 [==============================] - 23s 346ms/step - loss: 0.0062 - mean_squared_error: 0.0062 - val_loss: 0.0047 - val_mean_squared_error: 0.0047 - lr: 5.6710e-04\n",
            "Epoch 19/100\n",
            "66/66 [==============================] - 22s 339ms/step - loss: 0.0065 - mean_squared_error: 0.0065 - val_loss: 0.0047 - val_mean_squared_error: 0.0047 - lr: 6.0040e-04\n",
            "Epoch 20/100\n",
            "66/66 [==============================] - 23s 352ms/step - loss: 0.0061 - mean_squared_error: 0.0061 - val_loss: 0.0047 - val_mean_squared_error: 0.0047 - lr: 6.3370e-04\n",
            "Epoch 21/100\n",
            "66/66 [==============================] - 22s 339ms/step - loss: 0.0063 - mean_squared_error: 0.0063 - val_loss: 0.0048 - val_mean_squared_error: 0.0048 - lr: 6.6700e-04\n",
            "Epoch 22/100\n",
            "66/66 [==============================] - 24s 361ms/step - loss: 0.0060 - mean_squared_error: 0.0060 - val_loss: 0.0048 - val_mean_squared_error: 0.0048 - lr: 7.0030e-04\n",
            "Epoch 23/100\n",
            "66/66 [==============================] - 22s 331ms/step - loss: 0.0064 - mean_squared_error: 0.0064 - val_loss: 0.0053 - val_mean_squared_error: 0.0053 - lr: 7.3360e-04\n",
            "Epoch 24/100\n",
            "66/66 [==============================] - 23s 347ms/step - loss: 0.0063 - mean_squared_error: 0.0063 - val_loss: 0.0052 - val_mean_squared_error: 0.0052 - lr: 7.6690e-04\n",
            "Epoch 25/100\n",
            "66/66 [==============================] - 25s 379ms/step - loss: 0.0063 - mean_squared_error: 0.0063 - val_loss: 0.0050 - val_mean_squared_error: 0.0050 - lr: 8.0020e-04\n",
            "Epoch 26/100\n",
            "66/66 [==============================] - 22s 337ms/step - loss: 0.0059 - mean_squared_error: 0.0059 - val_loss: 0.0047 - val_mean_squared_error: 0.0047 - lr: 8.3350e-04\n",
            "Epoch 27/100\n",
            "66/66 [==============================] - 23s 346ms/step - loss: 0.0059 - mean_squared_error: 0.0059 - val_loss: 0.0047 - val_mean_squared_error: 0.0047 - lr: 8.6680e-04\n",
            "Epoch 28/100\n",
            "66/66 [==============================] - 21s 318ms/step - loss: 0.0059 - mean_squared_error: 0.0059 - val_loss: 0.0047 - val_mean_squared_error: 0.0047 - lr: 9.0010e-04\n",
            "Epoch 29/100\n",
            "66/66 [==============================] - 24s 359ms/step - loss: 0.0056 - mean_squared_error: 0.0056 - val_loss: 0.0046 - val_mean_squared_error: 0.0046 - lr: 9.3340e-04\n",
            "Epoch 30/100\n",
            "66/66 [==============================] - 20s 311ms/step - loss: 0.0057 - mean_squared_error: 0.0057 - val_loss: 0.0048 - val_mean_squared_error: 0.0048 - lr: 9.6670e-04\n",
            "Epoch 31/100\n",
            "66/66 [==============================] - 24s 358ms/step - loss: 0.0056 - mean_squared_error: 0.0056 - val_loss: 0.0047 - val_mean_squared_error: 0.0047 - lr: 0.0010\n",
            "Epoch 32/100\n",
            "66/66 [==============================] - 22s 329ms/step - loss: 0.0058 - mean_squared_error: 0.0058 - val_loss: 0.0046 - val_mean_squared_error: 0.0046 - lr: 9.9050e-04\n",
            "Epoch 33/100\n",
            "66/66 [==============================] - 23s 346ms/step - loss: 0.0055 - mean_squared_error: 0.0055 - val_loss: 0.0047 - val_mean_squared_error: 0.0047 - lr: 9.8100e-04\n",
            "Epoch 34/100\n",
            "66/66 [==============================] - 22s 329ms/step - loss: 0.0056 - mean_squared_error: 0.0056 - val_loss: 0.0050 - val_mean_squared_error: 0.0050 - lr: 9.7150e-04\n",
            "Epoch 35/100\n",
            "66/66 [==============================] - 23s 345ms/step - loss: 0.0056 - mean_squared_error: 0.0056 - val_loss: 0.0047 - val_mean_squared_error: 0.0047 - lr: 9.6200e-04\n",
            "Epoch 36/100\n",
            "66/66 [==============================] - 23s 345ms/step - loss: 0.0055 - mean_squared_error: 0.0055 - val_loss: 0.0055 - val_mean_squared_error: 0.0055 - lr: 9.5250e-04\n",
            "Epoch 37/100\n",
            "66/66 [==============================] - 22s 327ms/step - loss: 0.0053 - mean_squared_error: 0.0053 - val_loss: 0.0048 - val_mean_squared_error: 0.0048 - lr: 9.4300e-04\n",
            "Epoch 38/100\n",
            "66/66 [==============================] - 24s 361ms/step - loss: 0.0055 - mean_squared_error: 0.0055 - val_loss: 0.0047 - val_mean_squared_error: 0.0047 - lr: 9.3350e-04\n",
            "Epoch 39/100\n",
            "66/66 [==============================] - 22s 330ms/step - loss: 0.0052 - mean_squared_error: 0.0052 - val_loss: 0.0050 - val_mean_squared_error: 0.0050 - lr: 9.2400e-04\n",
            "Epoch 40/100\n",
            "66/66 [==============================] - 24s 369ms/step - loss: 0.0054 - mean_squared_error: 0.0054 - val_loss: 0.0047 - val_mean_squared_error: 0.0047 - lr: 9.1450e-04\n",
            "Epoch 41/100\n",
            "66/66 [==============================] - 21s 321ms/step - loss: 0.0052 - mean_squared_error: 0.0052 - val_loss: 0.0048 - val_mean_squared_error: 0.0048 - lr: 9.0500e-04\n",
            "Epoch 42/100\n",
            "66/66 [==============================] - 24s 362ms/step - loss: 0.0052 - mean_squared_error: 0.0052 - val_loss: 0.0049 - val_mean_squared_error: 0.0049 - lr: 8.9550e-04\n"
          ]
        }
      ]
    },
    {
      "cell_type": "markdown",
      "source": [
        "# Evaluate model"
      ],
      "metadata": {
        "id": "U51XlcHiIe9x"
      }
    },
    {
      "cell_type": "code",
      "source": [
        "dataset_total = pd.concat((df['No'][:2641],df['No'][2641:]),axis=0)\n",
        "inputs = dataset_total[len(dataset_total)-len(test_set) - timesteps:].values\n",
        "inputs = inputs.reshape(-1,1)\n",
        "inputs  = sc.fit_transform(inputs)"
      ],
      "metadata": {
        "id": "VC9-f-oCTdzz"
      },
      "execution_count": 72,
      "outputs": []
    },
    {
      "cell_type": "code",
      "source": [
        "dataset_total"
      ],
      "metadata": {
        "id": "x4x_vYlLTgfw",
        "outputId": "7862ae64-03d0-496e-f7f6-c413ab4eced9",
        "colab": {
          "base_uri": "https://localhost:8080/"
        }
      },
      "execution_count": 73,
      "outputs": [
        {
          "output_type": "execute_result",
          "data": {
            "text/plain": [
              "DATE\n",
              "2007-10-09    325\n",
              "2007-10-10    417\n",
              "2007-10-11    556\n",
              "2007-10-12    467\n",
              "2007-10-13    430\n",
              "             ... \n",
              "2015-12-17    503\n",
              "2015-12-18    444\n",
              "2015-12-19    438\n",
              "2015-12-20    471\n",
              "2015-12-21    452\n",
              "Name: No, Length: 2996, dtype: int64"
            ]
          },
          "metadata": {},
          "execution_count": 73
        }
      ]
    },
    {
      "cell_type": "code",
      "source": [
        "X_test = []\n",
        "for i in range(timesteps,test_set.shape[0] + timesteps):\n",
        "    X_test.append(inputs[i-timesteps:i,0])\n",
        "X_test = np.array(X_test)\n",
        "X_test = np.reshape(X_test, (X_test.shape[0],X_test.shape[1],1))\n",
        "predicted_ED_Arrivals = model.predict(X_test)\n",
        "predicted_ED_Arrivals = sc.inverse_transform(predicted_ED_Arrivals)\n",
        "predicted_ED_Arrivals"
      ],
      "metadata": {
        "id": "zRBwPOsPTzTj",
        "outputId": "f4a59dbc-f27e-4ae6-9074-d2a7c1e30914",
        "colab": {
          "base_uri": "https://localhost:8080/"
        }
      },
      "execution_count": 74,
      "outputs": [
        {
          "output_type": "stream",
          "name": "stdout",
          "text": [
            "12/12 [==============================] - 2s 90ms/step\n"
          ]
        },
        {
          "output_type": "execute_result",
          "data": {
            "text/plain": [
              "array([[465.62878],\n",
              "       [466.34988],\n",
              "       [428.68008],\n",
              "       [414.01578],\n",
              "       [448.12366],\n",
              "       [421.92465],\n",
              "       [457.56094],\n",
              "       [450.41974],\n",
              "       [462.5978 ],\n",
              "       [446.41916],\n",
              "       [449.05664],\n",
              "       [392.15158],\n",
              "       [413.4505 ],\n",
              "       [452.30356],\n",
              "       [487.63632],\n",
              "       [450.68472],\n",
              "       [425.68634],\n",
              "       [421.24146],\n",
              "       [447.9911 ],\n",
              "       [480.5385 ],\n",
              "       [469.74826],\n",
              "       [461.5294 ],\n",
              "       [483.3065 ],\n",
              "       [472.5753 ],\n",
              "       [466.0326 ],\n",
              "       [444.16223],\n",
              "       [418.5039 ],\n",
              "       [450.6712 ],\n",
              "       [480.75186],\n",
              "       [469.83334],\n",
              "       [454.83728],\n",
              "       [420.5417 ],\n",
              "       [424.8455 ],\n",
              "       [446.83313],\n",
              "       [457.3223 ],\n",
              "       [472.47455],\n",
              "       [505.2133 ],\n",
              "       [496.42554],\n",
              "       [479.73175],\n",
              "       [456.88263],\n",
              "       [582.1884 ],\n",
              "       [681.30334],\n",
              "       [707.5297 ],\n",
              "       [608.3188 ],\n",
              "       [510.10632],\n",
              "       [488.95798],\n",
              "       [578.21234],\n",
              "       [589.79346],\n",
              "       [558.4579 ],\n",
              "       [493.8775 ],\n",
              "       [460.88577],\n",
              "       [425.91833],\n",
              "       [461.18774],\n",
              "       [462.96246],\n",
              "       [455.99463],\n",
              "       [452.45322],\n",
              "       [470.31268],\n",
              "       [486.38477],\n",
              "       [481.74234],\n",
              "       [430.71808],\n",
              "       [387.66455],\n",
              "       [418.3618 ],\n",
              "       [483.99005],\n",
              "       [490.69165],\n",
              "       [496.26996],\n",
              "       [452.8812 ],\n",
              "       [428.19882],\n",
              "       [446.23083],\n",
              "       [463.66092],\n",
              "       [492.58508],\n",
              "       [488.9379 ],\n",
              "       [518.2385 ],\n",
              "       [470.9034 ],\n",
              "       [423.92422],\n",
              "       [436.43646],\n",
              "       [458.2949 ],\n",
              "       [436.87973],\n",
              "       [463.95523],\n",
              "       [468.8323 ],\n",
              "       [441.34232],\n",
              "       [452.1708 ],\n",
              "       [457.51135],\n",
              "       [418.1739 ],\n",
              "       [482.13184],\n",
              "       [529.4076 ],\n",
              "       [524.1394 ],\n",
              "       [512.05005],\n",
              "       [464.49286],\n",
              "       [431.5206 ],\n",
              "       [465.9748 ],\n",
              "       [494.71902],\n",
              "       [474.7444 ],\n",
              "       [488.28864],\n",
              "       [439.9593 ],\n",
              "       [415.23853],\n",
              "       [421.08386],\n",
              "       [448.87225],\n",
              "       [446.4037 ],\n",
              "       [461.7819 ],\n",
              "       [496.10095],\n",
              "       [459.41797],\n",
              "       [441.6325 ],\n",
              "       [446.90283],\n",
              "       [451.4271 ],\n",
              "       [465.41168],\n",
              "       [522.1118 ],\n",
              "       [515.858  ],\n",
              "       [469.40225],\n",
              "       [467.82303],\n",
              "       [453.77728],\n",
              "       [459.01288],\n",
              "       [518.72833],\n",
              "       [491.7243 ],\n",
              "       [482.75223],\n",
              "       [473.95056],\n",
              "       [449.24243],\n",
              "       [442.65472],\n",
              "       [470.18918],\n",
              "       [444.47986],\n",
              "       [489.86774],\n",
              "       [513.484  ],\n",
              "       [473.58484],\n",
              "       [445.40054],\n",
              "       [465.8021 ],\n",
              "       [448.26996],\n",
              "       [487.09735],\n",
              "       [526.8522 ],\n",
              "       [522.41974],\n",
              "       [497.90323],\n",
              "       [482.73477],\n",
              "       [446.86487],\n",
              "       [455.2817 ],\n",
              "       [500.7912 ],\n",
              "       [520.5269 ],\n",
              "       [502.4651 ],\n",
              "       [468.54904],\n",
              "       [439.685  ],\n",
              "       [457.89682],\n",
              "       [502.6135 ],\n",
              "       [504.7807 ],\n",
              "       [511.25647],\n",
              "       [535.8441 ],\n",
              "       [483.28198],\n",
              "       [527.5569 ],\n",
              "       [492.3016 ],\n",
              "       [495.50262],\n",
              "       [503.4898 ],\n",
              "       [531.91455],\n",
              "       [515.31995],\n",
              "       [523.1711 ],\n",
              "       [458.03522],\n",
              "       [467.82526],\n",
              "       [502.48813],\n",
              "       [513.3761 ],\n",
              "       [507.78247],\n",
              "       [520.4522 ],\n",
              "       [494.13324],\n",
              "       [484.51093],\n",
              "       [490.6591 ],\n",
              "       [474.6698 ],\n",
              "       [519.922  ],\n",
              "       [549.7578 ],\n",
              "       [548.47644],\n",
              "       [505.77872],\n",
              "       [484.3984 ],\n",
              "       [494.72995],\n",
              "       [483.7593 ],\n",
              "       [503.1426 ],\n",
              "       [529.4587 ],\n",
              "       [513.88354],\n",
              "       [443.43   ],\n",
              "       [416.18665],\n",
              "       [420.4939 ],\n",
              "       [438.44684],\n",
              "       [444.78033],\n",
              "       [442.08344],\n",
              "       [408.67157],\n",
              "       [389.34668],\n",
              "       [410.24377],\n",
              "       [390.26544],\n",
              "       [389.22598],\n",
              "       [448.27524],\n",
              "       [445.8159 ],\n",
              "       [458.93872],\n",
              "       [453.706  ],\n",
              "       [429.84094],\n",
              "       [423.8656 ],\n",
              "       [443.0478 ],\n",
              "       [444.15335],\n",
              "       [469.55045],\n",
              "       [464.50006],\n",
              "       [421.37817],\n",
              "       [395.40747],\n",
              "       [415.93243],\n",
              "       [432.42844],\n",
              "       [441.37598],\n",
              "       [446.10977],\n",
              "       [449.2444 ],\n",
              "       [411.43484],\n",
              "       [421.86374],\n",
              "       [429.6042 ],\n",
              "       [418.2068 ],\n",
              "       [433.84512],\n",
              "       [438.42667],\n",
              "       [448.31433],\n",
              "       [431.54495],\n",
              "       [457.15057],\n",
              "       [421.6322 ],\n",
              "       [427.18423],\n",
              "       [448.2345 ],\n",
              "       [474.75378],\n",
              "       [510.9904 ],\n",
              "       [485.50885],\n",
              "       [427.12088],\n",
              "       [421.52048],\n",
              "       [424.3108 ],\n",
              "       [474.68442],\n",
              "       [515.3132 ],\n",
              "       [472.8788 ],\n",
              "       [410.97205],\n",
              "       [397.48386],\n",
              "       [410.1211 ],\n",
              "       [453.6346 ],\n",
              "       [457.5207 ],\n",
              "       [453.78412],\n",
              "       [456.46417],\n",
              "       [421.3165 ],\n",
              "       [433.08795],\n",
              "       [441.80478],\n",
              "       [421.87143],\n",
              "       [442.3715 ],\n",
              "       [455.05475],\n",
              "       [445.9048 ],\n",
              "       [427.78873],\n",
              "       [427.1508 ],\n",
              "       [393.2126 ],\n",
              "       [409.01352],\n",
              "       [425.20752],\n",
              "       [462.19278],\n",
              "       [489.89703],\n",
              "       [426.2336 ],\n",
              "       [427.38422],\n",
              "       [417.62   ],\n",
              "       [426.22253],\n",
              "       [470.81946],\n",
              "       [480.31943],\n",
              "       [455.8442 ],\n",
              "       [452.63132],\n",
              "       [433.51422],\n",
              "       [425.3807 ],\n",
              "       [444.0689 ],\n",
              "       [439.25256],\n",
              "       [490.98666],\n",
              "       [488.34534],\n",
              "       [420.48398],\n",
              "       [426.41843],\n",
              "       [443.763  ],\n",
              "       [446.58752],\n",
              "       [484.06116],\n",
              "       [468.28198],\n",
              "       [469.3324 ],\n",
              "       [478.5962 ],\n",
              "       [548.413  ],\n",
              "       [496.46667],\n",
              "       [487.57056],\n",
              "       [470.35248],\n",
              "       [517.3149 ],\n",
              "       [535.4587 ],\n",
              "       [517.6396 ],\n",
              "       [456.64722],\n",
              "       [439.45218],\n",
              "       [455.01794],\n",
              "       [489.6476 ],\n",
              "       [484.84274],\n",
              "       [457.99863],\n",
              "       [423.5704 ],\n",
              "       [419.99847],\n",
              "       [437.77576],\n",
              "       [446.96844],\n",
              "       [455.8697 ],\n",
              "       [469.00348],\n",
              "       [435.4628 ],\n",
              "       [444.3731 ],\n",
              "       [425.19165],\n",
              "       [422.1424 ],\n",
              "       [460.64484],\n",
              "       [442.8559 ],\n",
              "       [450.5883 ],\n",
              "       [453.68597],\n",
              "       [429.11734],\n",
              "       [424.5619 ],\n",
              "       [449.10532],\n",
              "       [420.98523],\n",
              "       [424.63535],\n",
              "       [461.73297],\n",
              "       [471.67297],\n",
              "       [413.51315],\n",
              "       [419.89615],\n",
              "       [413.37686],\n",
              "       [443.42337],\n",
              "       [456.88452],\n",
              "       [462.63196],\n",
              "       [437.74506],\n",
              "       [446.7064 ],\n",
              "       [448.19656],\n",
              "       [463.5488 ],\n",
              "       [431.92673],\n",
              "       [452.72708],\n",
              "       [464.71838],\n",
              "       [497.25882],\n",
              "       [475.89774],\n",
              "       [465.54214],\n",
              "       [459.41534],\n",
              "       [454.37473],\n",
              "       [471.2402 ],\n",
              "       [504.43442],\n",
              "       [487.09964],\n",
              "       [470.40204],\n",
              "       [446.44614],\n",
              "       [423.79837],\n",
              "       [427.66977],\n",
              "       [455.10577],\n",
              "       [462.34036],\n",
              "       [441.86487],\n",
              "       [438.4165 ],\n",
              "       [404.50964],\n",
              "       [421.0781 ],\n",
              "       [426.93372],\n",
              "       [419.07382],\n",
              "       [443.04904],\n",
              "       [464.25482],\n",
              "       [415.46576],\n",
              "       [427.21738],\n",
              "       [439.38815],\n",
              "       [426.58292],\n",
              "       [419.91458],\n",
              "       [426.04355],\n",
              "       [451.68283],\n",
              "       [467.09998],\n",
              "       [435.6394 ],\n",
              "       [382.90228],\n",
              "       [375.58865],\n",
              "       [410.20203],\n",
              "       [473.51205],\n",
              "       [468.28027],\n",
              "       [423.33624],\n",
              "       [393.7693 ],\n",
              "       [419.40744],\n",
              "       [426.63495],\n",
              "       [460.98438],\n",
              "       [453.78683],\n",
              "       [469.85825],\n",
              "       [436.53513],\n",
              "       [436.79428],\n",
              "       [451.22852]], dtype=float32)"
            ]
          },
          "metadata": {},
          "execution_count": 74
        }
      ]
    },
    {
      "cell_type": "code",
      "source": [
        "print(test_set[-3],test_set[-2], test_set[-1])"
      ],
      "metadata": {
        "id": "GnAQO8_TUPJC",
        "outputId": "9573b501-eca7-44f4-8a26-4a3f03a731af",
        "colab": {
          "base_uri": "https://localhost:8080/"
        }
      },
      "execution_count": 75,
      "outputs": [
        {
          "output_type": "stream",
          "name": "stdout",
          "text": [
            "[438] [471] [452]\n"
          ]
        }
      ]
    },
    {
      "cell_type": "code",
      "source": [
        "def shift(xs, n):\n",
        "    e = np.empty_like(xs, dtype=float)  # Set the data type to float\n",
        "    if n >= 0:\n",
        "        e[:n] = np.nan\n",
        "        e[n:] = xs[:-n]\n",
        "    else:\n",
        "        e[n:] = xs[-n:]\n",
        "        e[:n] = np.nan\n",
        "    return e\n",
        "\n",
        "shifted_test_set = shift(test_set, 1) #The shift function is defined early in the notebook\n",
        "print(shifted_test_set[-3],shifted_test_set[-2], shifted_test_set[-1])"
      ],
      "metadata": {
        "id": "FSnGNHwjUWEm",
        "outputId": "545af475-d46c-4074-e1d8-29150120559e",
        "colab": {
          "base_uri": "https://localhost:8080/"
        }
      },
      "execution_count": 76,
      "outputs": [
        {
          "output_type": "stream",
          "name": "stdout",
          "text": [
            "[444.] [438.] [471.]\n"
          ]
        }
      ]
    },
    {
      "cell_type": "code",
      "source": [
        "print(predicted_ED_Arrivals[-1])\n",
        "prediction_error = test_set - predicted_ED_Arrivals # This is the error on the same day\n",
        "#Before we can calculate the predicted return we have to shift the test_set to the day before so we use the shifted_test_set\n",
        "predicted_return = (shifted_test_set - predicted_ED_Arrivals) / shifted_test_set"
      ],
      "metadata": {
        "id": "92hs32hZUitn",
        "outputId": "446ab971-8c2d-430b-dd36-75aeb27a011c",
        "colab": {
          "base_uri": "https://localhost:8080/"
        }
      },
      "execution_count": 80,
      "outputs": [
        {
          "output_type": "stream",
          "name": "stdout",
          "text": [
            "[451.22852]\n"
          ]
        }
      ]
    },
    {
      "cell_type": "code",
      "source": [
        "plt.plot(history.history['loss'])\n",
        "plt.title('model loss')\n",
        "plt.ylabel('loss')\n",
        "plt.xlabel('epoch')\n",
        "plt.legend(['loss'], loc='upper left')\n",
        "plt.show()"
      ],
      "metadata": {
        "execution": {
          "iopub.status.busy": "2022-02-25T18:19:23.58454Z",
          "iopub.execute_input": "2022-02-25T18:19:23.584826Z",
          "iopub.status.idle": "2022-02-25T18:19:24.648887Z",
          "shell.execute_reply.started": "2022-02-25T18:19:23.584795Z",
          "shell.execute_reply": "2022-02-25T18:19:24.647953Z"
        },
        "trusted": true,
        "id": "gRkCFqyrIe9y",
        "outputId": "e92403ea-cadd-46cd-a9f5-fed0c48981be",
        "colab": {
          "base_uri": "https://localhost:8080/",
          "height": 524
        }
      },
      "execution_count": 81,
      "outputs": [
        {
          "output_type": "display_data",
          "data": {
            "text/plain": [
              "<Figure size 800x550 with 1 Axes>"
            ],
            "image/png": "[encoded data removed]"
          },
          "metadata": {}
        }
      ]
    },
    {
      "cell_type": "code",
      "source": [
        "original_symbol= 'Linkou'\n",
        "plot_predictions(test_set,predicted_ED_Arrivals,original_symbol)\n",
        "return_rmse(test_set,predicted_ED_Arrivals)"
      ],
      "metadata": {
        "id": "f5yDMd6DUtvv",
        "outputId": "df5974a2-0a75-43da-8566-15a2fca5c233",
        "colab": {
          "base_uri": "https://localhost:8080/",
          "height": 560
        }
      },
      "execution_count": 82,
      "outputs": [
        {
          "output_type": "display_data",
          "data": {
            "text/plain": [
              "<Figure size 800x550 with 1 Axes>"
            ],
            "image/png": "[encoded data removed]"
          },
          "metadata": {}
        },
        {
          "output_type": "stream",
          "name": "stdout",
          "text": [
            "The root mean squared error is 41.75905048144737.\n"
          ]
        },
        {
          "output_type": "execute_result",
          "data": {
            "text/plain": [
              "41.75905048144737"
            ]
          },
          "metadata": {},
          "execution_count": 82
        }
      ]
    },
    {
      "cell_type": "code",
      "source": [
        "# calculate MAPE\n",
        "def mape(y_true, y_pred):\n",
        "    return np.mean(np.abs((y_true-y_pred)/y_true))*100\n",
        "\n",
        "testmape = mape(test_set,predicted_ED_Arrivals)\n",
        "print('Test MAPE for transformers: %.2f' % (testmape) ,'where 5.85 for LSTM')"
      ],
      "metadata": {
        "id": "4L-KiqguwoEH",
        "outputId": "f32946dd-3dd1-4c97-b998-bb40884fd4c7",
        "colab": {
          "base_uri": "https://localhost:8080/"
        }
      },
      "execution_count": 87,
      "outputs": [
        {
          "output_type": "stream",
          "name": "stdout",
          "text": [
            "Test MAPE for transformers: 6.33 where 5.85 for LSTM\n"
          ]
        }
      ]
    },
    {
      "cell_type": "code",
      "source": [
        "# calculate MAE\n",
        "def mae(y_true, y_pred):\n",
        "    return np.mean(np.abs((y_true-y_pred)))\n",
        "\n",
        "testmae = mae(test_set,predicted_ED_Arrivals)\n",
        "print('Test MAE for transformers: %.2f' % (testmae), 'where 27.40 for LSTM')"
      ],
      "metadata": {
        "id": "TvRYMx5Hw9bv",
        "outputId": "b66c7329-4f77-4b4e-87d2-adaf8ac2ada0",
        "colab": {
          "base_uri": "https://localhost:8080/"
        }
      },
      "execution_count": 89,
      "outputs": [
        {
          "output_type": "stream",
          "name": "stdout",
          "text": [
            "Test MAE for transformers: 29.89 where 27.40 for LSTM\n"
          ]
        }
      ]
    },
    {
      "cell_type": "markdown",
      "source": [
        "\n"
      ],
      "metadata": {
        "id": "EESE6dI4Ie9y"
      }
    }
  ]
}