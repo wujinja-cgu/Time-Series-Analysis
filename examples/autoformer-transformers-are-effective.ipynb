{
  "cells": [
    {
      "cell_type": "markdown",
      "metadata": {
        "id": "view-in-github",
        "colab_type": "text"
      },
      "source": [
        "<a href=\"https://colab.research.google.com/github/wujinja-cgu/Time-Series-Analysis/blob/main/examples/autoformer-transformers-are-effective.ipynb\" target=\"_parent\"><img src=\"https://colab.research.google.com/assets/colab-badge.svg\" alt=\"Open In Colab\"/></a>"
      ]
    },
    {
      "cell_type": "markdown",
      "id": "73b1232b",
      "metadata": {
        "id": "73b1232b"
      },
      "source": [
        "**粗體文字**# Yes, Transformers are Effective for Time Series Forecasting (+ Autoformer)\n",
        "\n",
        "## Introduction\n",
        "\n",
        "A few months ago, we introduced the [Informer](https://huggingface.co/blog/informer) model ([Zhou, Haoyi, et al., 2021](https://arxiv.org/abs/2012.07436)), which is a Time Series Transformer that won the AAAI 2021 best paper award. We also provided an example for multivariate probabilistic forecasting with Informer. In this post, we discuss the question: [Are Transformers Effective for Time Series Forecasting?](https://arxiv.org/abs/2205.13504) (AAAI 2023). As we will see, they are.\n",
        "\n",
        "Firstly, we will provide empirical evidence that **Transformers are indeed Effective for Time Series Forecasting**. Our comparison shows that the simple linear model, known as _DLinear_, is not better than Transformers as claimed. When compared against equivalent sized models in the same setting as the linear models, the Transformer-based models perform better on the test set metrics we consider.\n",
        "Afterwards, we will introduce the _Autoformer_ model ([Wu, Haixu, et al., 2021](https://arxiv.org/abs/2106.13008)), which was published in NeurIPS 2021 after the Informer model. The Autoformer model is [now available](https://huggingface.co/docs/transformers/main/en/model_doc/autoformer) in 🤗 Transformers. Finally, we will discuss the _DLinear_ model, which is a simple feedforward network that uses the decomposition layer from Autoformer. The DLinear model was first introduced in [Are Transformers Effective for Time Series Forecasting?](https://arxiv.org/abs/2205.13504) and claimed to outperform Transformer-based models in time-series forecasting.\n",
        "\n",
        "Let's go!"
      ]
    },
    {
      "cell_type": "markdown",
      "id": "o9KmCEu7OJmf",
      "metadata": {
        "id": "o9KmCEu7OJmf"
      },
      "source": [
        "## Benchmarking - Transformers vs. DLinear\n",
        "In the paper [Are Transformers Effective for Time Series Forecasting?](https://arxiv.org/abs/2205.13504), published recently in AAAI 2023,\n",
        "the authors claim that Transformers are not effective for time series forecasting. They compare the Transformer-based models against a simple linear model, which they call _DLinear_.\n",
        "The DLinear model uses the decomposition layer from the Autoformer model, which we will introduce later in this post. The authors claim that the DLinear model outperforms the Transformer-based models in time-series forecasting.\n",
        "Is that so? Let's find out.\n",
        "\n",
        "|      Dataset      | Autoformer (uni.) MASE | DLinear  MASE |\n",
        "|:-----------------:|:----------------------:|:-------------:|\n",
        "|    `Traffic` \t    |         0.910          |     0.965     |\n",
        "| `Exchange-Rate` \t |         1.087          |     1.690     |\n",
        "|  `Electricity` \t  |         0.751          |     0.831     |\n",
        "\n",
        "The table above shows the results of the comparison between the Autoformer and DLinear models on the three datasets used in the paper.\n",
        "The results show that the Autoformer model outperforms the DLinear model on all three datasets.\n",
        "\n",
        "Next, we will present the new Autoformer model along with the DLinear model. We will showcase how to compare them on the Traffic dataset from the table above, and provide explanations for the results we obtained.\n",
        "\n",
        "**TL;DR:** A simple linear model, while advantageous in certain cases, has no capacity to incorporate covariates compared to more complex models like transformers in the univariate setting.\n"
      ]
    },
    {
      "cell_type": "markdown",
      "id": "fke9AS-gOMUL",
      "metadata": {
        "id": "fke9AS-gOMUL"
      },
      "source": [
        "## Autoformer - Under The Hood\n",
        "\n",
        "Autoformer builds upon the traditional method of decomposing time series into seasonality and trend-cycle components. This is achieved through the incorporation of a _Decomposition Layer_, which enhances the model's ability to capture these components accurately. Moreover, Autoformer introduces an innovative auto-correlation mechanism that replaces the standard self-attention used in the vanilla transformer. This mechanism enables the model to utilize period-based dependencies in the attention, thus improving the overall performance.\n",
        "\n",
        "In the upcoming sections, we will delve into the two key contributions of Autoformer: the _Decomposition Layer_ and the _Attention (Autocorrelation) Mechanism_. We will also provide code examples to illustrate how these components function within the Autoformer architecture.\n",
        "\n",
        "### Decomposition Layer\n",
        "Decomposition has long been a popular method in time series analysis, but it had not been extensively incorporated into deep learning models until the introduction of the Autoformer paper. Following a brief explanation of the concept, we will demonstrate how the idea is applied in Autoformer using PyTorch code.\n",
        "\n",
        "####  Decomposition of Time Series\n",
        "In time series analysis, [decomposition](https://en.wikipedia.org/wiki/Decomposition_of_time_series) is a method of breaking down a time series into three systematic components: trend-cycle, seasonal variation, and random fluctuations.\n",
        "The trend component represents the long-term direction of the time series, which can be increasing, decreasing, or stable over time. The seasonal component represents the recurring patterns that occur within the time series, such as yearly or quarterly cycles. Finally, the random (sometimes called \"irregular\") component represents the random noise in the data that cannot be explained by the trend or seasonal components.\n",
        "\n",
        "Two main types of decomposition are additive and multiplicative decomposition, which are implemented in the [great statsmodels library](https://www.statsmodels.org/dev/generated/statsmodels.tsa.seasonal.seasonal_decompose.html). By decomposing a time series into these components, we can better understand and model the underlying patterns in the data.\n",
        "\n",
        "But how can we incorporate decomposition into the Transformer architecture? Let's see how Autoformer does it.\n",
        "\n",
        "#### Decomposition in Autoformer\n",
        "\n",
        "| ![autoformer_architecture](https://huggingface.co/datasets/huggingface/documentation-images/resolve/main/blog/148_autoformer/autoformer_architecture.png) |\n",
        "|:--:|\n",
        "| Autoformer architecture from [the paper](https://arxiv.org/abs/2106.13008) |\n",
        "\n",
        "Autoformer incorporates a decomposition block as an inner operation of the model, as presented in the Autoformer's architecture above. As can be seen, the encoder and decoder use a decomposition block to aggregate the trend-cyclical part and extract the seasonal part from the series progressively. The concept of inner decomposition has demonstrated its usefulness since the publication of Autoformer. Subsequently, it has been adopted in several other time series papers, such as FEDformer ([Zhou, Tian, et al., ICML 2022](https://arxiv.org/abs/2201.12740)) and DLinear [(Zeng, Ailing, et al., AAAI 2023)](https://arxiv.org/abs/2205.13504), highlighting its significance in time series modeling.\n",
        "\n",
        "Now, let's define the decomposition layer formally:\n",
        "\n",
        "For an input series \\\\(\\mathcal{X} \\in \\mathbb{R}^{L \\times d}\\\\) with length \\\\(L\\\\), the decomposition layer returns \\\\(\\mathcal{X}_\\textrm{trend}, \\mathcal{X}_\\textrm{seasonal}\\\\) defined as:\n",
        "\n",
        "$$\n",
        "\\mathcal{X}_\\textrm{trend} = \\textrm{AvgPool(Padding(} \\mathcal{X} \\textrm{))} \\\\\n",
        "\\mathcal{X}_\\textrm{seasonal} = \\mathcal{X} - \\mathcal{X}_\\textrm{trend}\n",
        "$$\n",
        "\n",
        "And the implementation in PyTorch:\n",
        "```python\n",
        "import torch\n",
        "from torch import nn\n",
        "\n",
        "class DecompositionLayer(nn.Module):\n",
        "    \"\"\"\n",
        "    Returns the trend and the seasonal parts of the time series.\n",
        "    \"\"\"\n",
        "\n",
        "    def __init__(self, kernel_size):\n",
        "        super().__init__()\n",
        "        self.kernel_size = kernel_size\n",
        "        self.avg = nn.AvgPool1d(kernel_size=kernel_size, stride=1, padding=0) # moving average\n",
        "\n",
        "    def forward(self, x):\n",
        "        \"\"\"Input shape: Batch x Time x EMBED_DIM\"\"\"\n",
        "        # padding on the both ends of time series\n",
        "        num_of_pads = (self.kernel_size - 1) // 2\n",
        "        front = x[:, 0:1, :].repeat(1, num_of_pads, 1)\n",
        "        end = x[:, -1:, :].repeat(1, num_of_pads, 1)\n",
        "        x_padded = torch.cat([front, x, end], dim=1)\n",
        "\n",
        "        # calculate the trend and seasonal part of the series\n",
        "        x_trend = self.avg(x_padded.permute(0, 2, 1)).permute(0, 2, 1)\n",
        "        x_seasonal = x - x_trend\n",
        "        return x_seasonal, x_trend\n",
        "```\n",
        "\n",
        "As you can see, the implementation is quite simple and can be used in other models, as we will see with DLinear. Now, let's explain the second contribution - _Attention (Autocorrelation) Mechanism_.\n",
        "\n",
        "### Attention (Autocorrelation) Mechanism\n",
        "\n",
        "| ![autoformer_autocorrelation_vs_full_attention](https://huggingface.co/datasets/huggingface/documentation-images/resolve/main/blog/148_autoformer/autoformer_autocorrelation_vs_full_attention.png) |\n",
        "|:--:|\n",
        "|  Vanilla self attention vs Autocorrelation mechanism, from [the paper](https://arxiv.org/abs/2106.13008) |\n",
        "\n",
        "In addition to the decomposition layer, Autoformer employs a novel auto-correlation mechanism which replaces the self-attention seamlessly. In the [vanilla Time Series Transformer](https://huggingface.co/docs/transformers/model_doc/time_series_transformer), attention weights are computed in the time domain and point-wise aggregated. On the other hand, as can be seen in the figure above, Autoformer computes them in the frequency domain (using [fast fourier transform](https://en.wikipedia.org/wiki/Fast_Fourier_transform)) and aggregates them by time delay.\n",
        "\n",
        "In the following sections, we will dive into these topics in detail and explain them with code examples.\n",
        "\n",
        "####  Frequency Domain Attention\n",
        "\n",
        "| ![autoformer_autocorrelation_only_attention](https://huggingface.co/datasets/huggingface/documentation-images/resolve/main/blog/148_autoformer/autoformer_autocorrelation_only_attention.png) |\n",
        "|:--:|\n",
        "| Attention weights computation in frequency domain using FFT, from [the paper](https://arxiv.org/abs/2106.13008) |\n",
        "\n",
        "In theory, given a time lag \\\\(\\tau\\\\), _autocorrelation_ for a single discrete variable \\\\(y\\\\) is used to measure the \"relationship\" (pearson correlation) between the variable's current value at time \\\\(t\\\\) to its past value at time \\\\(t-\\tau\\\\):\n",
        "\n",
        "$$\n",
        "\\textrm{Autocorrelation}(\\tau) = \\textrm{Corr}(y_t, y_{t-\\tau})\n",
        "$$\n",
        "\n",
        "Using autocorrelation, Autoformer extracts frequency-based dependencies from the queries and keys, instead of the standard dot-product between them. You can think about it as a replacement for the \\\\(QK^T\\\\) term in the self-attention.\n",
        "\n",
        "In practice, autocorrelation of the queries and keys for **all lags** is calculated at once by FFT. By doing so, the autocorrelation mechanism achieves \\\\(O(L \\log L)\\\\) time complexity (\\\\(L\\\\) is the input time length), similar to [Informer's ProbSparse attention](https://huggingface.co/blog/informer#probsparse-attention). Note that the theory behind computing autocorrelation using FFT is based on the [Wiener–Khinchin theorem](https://en.wikipedia.org/wiki/Wiener%E2%80%93Khinchin_theorem), which is outside the scope of this blog post.\n",
        "\n",
        "Now, we are ready to see the code in PyTorch:\n",
        "\n",
        "```python\n",
        "import torch\n",
        "\n",
        "def autocorrelation(query_states, key_states):\n",
        "    \"\"\"\n",
        "    Computes autocorrelation(Q,K) using `torch.fft`.\n",
        "    Think about it as a replacement for the QK^T in the self-attention.\n",
        "\n",
        "    Assumption: states are resized to same shape of [batch_size, time_length, embedding_dim].\n",
        "    \"\"\"\n",
        "    query_states_fft = torch.fft.rfft(query_states, dim=1)\n",
        "    key_states_fft = torch.fft.rfft(key_states, dim=1)\n",
        "    attn_weights = query_states_fft * torch.conj(key_states_fft)\n",
        "    attn_weights = torch.fft.irfft(attn_weights, dim=1)\n",
        "\n",
        "    return attn_weights\n",
        "```\n",
        "\n",
        "Quite simple! 😎 Please be aware that this is only a partial implementation of `autocorrelation(Q,K)`, and the full implementation can be found in 🤗 Transformers.\n",
        "\n",
        "Next, we will see how to aggregate our `attn_weights` with the values by time delay, process which is termed as _Time Delay Aggregation_.\n",
        "\n",
        "#### Time Delay Aggregation\n",
        "| ![autoformer_autocorrelation_only_aggregation](https://huggingface.co/datasets/huggingface/documentation-images/resolve/main/blog/148_autoformer/autoformer_autocorrelation_only_aggregation.png) |\n",
        "|:--:|\n",
        "| Aggregation by time delay, from [the Autoformer paper](https://arxiv.org/abs/2106.13008) |\n",
        "\n",
        "Let's consider the autocorrelations (referred to as `attn_weights`) as \\\\(\\mathcal{R_{Q,K}}\\\\). The question arises: how do we aggregate these \\\\(\\mathcal{R_{Q,K}}(\\tau_1), \\mathcal{R_{Q,K}}(\\tau_2), ..., \\mathcal{R_{Q,K}}(\\tau_k)\\\\) with \\\\(\\mathcal{V}\\\\)? In the standard self-attention mechanism, this aggregation is accomplished through dot-product. However, in Autoformer, we employ a different approach. Firstly, we align \\\\(\\mathcal{V}\\\\) by calculating its value for each time delay \\\\(\\tau_1, \\tau_2, ... \\tau_k\\\\), which is also known as _Rolling_. Subsequently, we conduct element-wise multiplication between the aligned \\\\(\\mathcal{V}\\\\) and the autocorrelations. In the provided figure, you can observe the left side showcasing the rolling of \\\\(\\mathcal{V}\\\\) by time delay, while the right side illustrates the element-wise multiplication with the autocorrelations.\n",
        "\n",
        "It can be summarized with the following equations:\n",
        "\n",
        "$$\n",
        "\\tau_1, \\tau_2, ... \\tau_k = \\textrm{arg Top-k}(\\mathcal{R_{Q,K}}(\\tau)) \\\\\n",
        "\\hat{\\mathcal{R}}\\mathcal{_{Q,K}}(\\tau _1), \\hat{\\mathcal{R}}\\mathcal{_{Q,K}}(\\tau _2), ..., \\hat{\\mathcal{R}}\\mathcal{_{Q,K}}(\\tau _k) = \\textrm{Softmax}(\\mathcal{R_{Q,K}}(\\tau _1), \\mathcal{R_{Q,K}}(\\tau_2), ..., \\mathcal{R_{Q,K}}(\\tau_k)) \\\\\n",
        "\\textrm{Autocorrelation-Attention} = \\sum_{i=1}^k \\textrm{Roll}(\\mathcal{V}, \\tau_i) \\cdot \\hat{\\mathcal{R}}\\mathcal{_{Q,K}}(\\tau _i)\n",
        "$$\n",
        "\n",
        "And that's it! Note that \\\\(k\\\\) is controlled by a hyperparameter called `autocorrelation_factor` (similar to `sampling_factor` in [Informer](https://huggingface.co/blog/informer)), and softmax is applied to the autocorrelations before the multiplication.\n",
        "\n",
        "Now, we are ready to see the final code:\n",
        "\n",
        "```python\n",
        "import torch\n",
        "import math\n",
        "\n",
        "def time_delay_aggregation(attn_weights, value_states, autocorrelation_factor=2):\n",
        "    \"\"\"\n",
        "    Computes aggregation as value_states.roll(delay) * top_k_autocorrelations(delay).\n",
        "    The final result is the autocorrelation-attention output.\n",
        "    Think about it as a replacement of the dot-product between attn_weights and value states.\n",
        "\n",
        "    The autocorrelation_factor is used to find top k autocorrelations delays.\n",
        "    Assumption: value_states and attn_weights shape: [batch_size, time_length, embedding_dim]\n",
        "    \"\"\"\n",
        "    bsz, num_heads, tgt_len, channel = ...\n",
        "    time_length = value_states.size(1)\n",
        "    autocorrelations = attn_weights.view(bsz, num_heads, tgt_len, channel)\n",
        "\n",
        "    # find top k autocorrelations delays\n",
        "    top_k = int(autocorrelation_factor * math.log(time_length))\n",
        "    autocorrelations_mean = torch.mean(autocorrelations, dim=(1, -1))  # bsz x tgt_len\n",
        "    top_k_autocorrelations, top_k_delays = torch.topk(autocorrelations_mean, top_k, dim=1)\n",
        "\n",
        "    # apply softmax on the channel dim\n",
        "    top_k_autocorrelations = torch.softmax(top_k_autocorrelations, dim=-1)  # bsz x top_k\n",
        "\n",
        "    # compute aggregation: value_states.roll(delay) * top_k_autocorrelations(delay)\n",
        "    delays_agg = torch.zeros_like(value_states).float()  # bsz x time_length x channel\n",
        "    for i in range(top_k):\n",
        "        value_states_roll_delay = value_states.roll(shifts=-int(top_k_delays[i]), dims=1)\n",
        "        top_k_at_delay = top_k_autocorrelations[:, i]\n",
        "        # aggregation\n",
        "        top_k_resized = top_k_at_delay.view(-1, 1, 1).repeat(num_heads, tgt_len, channel)\n",
        "        delays_agg += value_states_roll_delay * top_k_resized\n",
        "\n",
        "    attn_output = delays_agg.contiguous()\n",
        "    return attn_output\n",
        "```\n",
        "\n",
        "We did it! The Autoformer model is [now available](https://huggingface.co/docs/transformers/main/en/model_doc/autoformer) in the 🤗 Transformers library, and simply called `AutoformerModel`.\n",
        "\n",
        "Our strategy with this model is to show the performance of the univariate Transformer models in comparison to the DLinear model which is inherently univariate as will shown next. We will also present the results from _two_ multivariate Transformer models trained on the same data.\n"
      ]
    },
    {
      "cell_type": "markdown",
      "id": "a4dcdb78",
      "metadata": {
        "id": "a4dcdb78"
      },
      "source": [
        "## DLinear - Under The Hood\n",
        "\n",
        "Actually, DLinear is conceptually simple: it's just a fully connected with the Autoformer's `DecompositionLayer`.\n",
        "It uses the `DecompositionLayer` above to decompose the input time series into the residual (the seasonality) and trend part. In the forward pass each part is passed through its own linear layer, which projects the signal to an appropriate `prediction_length`-sized output. The final output is the sum of the two corresponding outputs in the point-forecasting model:\n",
        "\n",
        "```python\n",
        "def forward(self, context):\n",
        "    seasonal, trend = self.decomposition(context)\n",
        "    seasonal_output = self.linear_seasonal(seasonal)\n",
        "    trend_output = self.linear_trend(trend)\n",
        "    return seasonal_output + trend_output\n",
        "```\n",
        "\n",
        "In the probabilistic setting one can project the context length arrays to  `prediction-length * hidden` dimensions via the `linear_seasonal` and `linear_trend` layers.  The resulting outputs are added and reshaped to `(prediction_length, hidden)`. Finally, a probabilistic head maps the latent representations of size `hidden` to the parameters of some distribution.\n",
        "\n",
        "In our benchmark, we use the implementation of DLinear from [GluonTS](https://github.com/awslabs/gluonts).\n"
      ]
    },
    {
      "cell_type": "markdown",
      "id": "2204552b",
      "metadata": {
        "id": "2204552b"
      },
      "source": [
        "## Example: Traffic Dataset\n",
        "\n",
        "We want to show empirically the performance of Transformer-based models in the library, by benchmarking on the `traffic` dataset, a dataset with 862 time series. We will train a shared model on each of the individual time series (i.e. univariate setting).\n",
        "Each time series represents the occupancy value of a sensor and is in the range [0, 1]. We will keep the following hyperparameters fixed for all the models:\n"
      ]
    },
    {
      "cell_type": "code",
      "execution_count": 1,
      "id": "8xakUeWWOw9V",
      "metadata": {
        "id": "8xakUeWWOw9V"
      },
      "outputs": [],
      "source": [
        "# Traffic prediction_length is 24. Reference:\n",
        "# https://github.com/awslabs/gluonts/blob/6605ab1278b6bf92d5e47343efcf0d22bc50b2ec/src/gluonts/dataset/repository/_lstnet.py#L105\n",
        "\n",
        "prediction_length = 24\n",
        "context_length = prediction_length*2\n",
        "batch_size = 128\n",
        "num_batches_per_epoch = 100\n",
        "epochs = 50\n",
        "scaling = \"std\""
      ]
    },
    {
      "cell_type": "markdown",
      "id": "8ad6GUtSO-eS",
      "metadata": {
        "id": "8ad6GUtSO-eS"
      },
      "source": [
        "The transformers models are all relatively small with:\n"
      ]
    },
    {
      "cell_type": "code",
      "execution_count": 2,
      "id": "PFrKFGrlO_jA",
      "metadata": {
        "id": "PFrKFGrlO_jA"
      },
      "outputs": [],
      "source": [
        "encoder_layers=2\n",
        "decoder_layers=2\n",
        "d_model=16"
      ]
    },
    {
      "cell_type": "markdown",
      "id": "6AXubK6rPQPp",
      "metadata": {
        "id": "6AXubK6rPQPp"
      },
      "source": [
        "Instead of showing how to train a model using `Autoformer`, one can just replace the model in the previous two blog posts ([TimeSeriesTransformer](https://huggingface.co/blog/time-series-transformers) and [Informer](https://huggingface.co/blog/informer)) with the new `Autoformer` model and train it on the `traffic` dataset. In order to not repeat ourselves, we have already trained the models and pushed them to the HuggingFace Hub. We will use those models for evaluation."
      ]
    },
    {
      "cell_type": "markdown",
      "id": "pn1U5Pj3PRUU",
      "metadata": {
        "id": "pn1U5Pj3PRUU"
      },
      "source": [
        "## Load Dataset\n",
        "\n",
        "Let's first install the necessary libraries:"
      ]
    },
    {
      "cell_type": "code",
      "execution_count": 3,
      "id": "azOR4uCRPXOO",
      "metadata": {
        "colab": {
          "base_uri": "https://localhost:8080/"
        },
        "id": "azOR4uCRPXOO",
        "outputId": "1cf0c8d4-da53-4e68-a902-57389d3e5689"
      },
      "outputs": [
        {
          "output_type": "stream",
          "name": "stdout",
          "text": [
            "\u001b[2K     \u001b[90m━━━━━━━━━━━━━━━━━━━━━━━━━━━━━━━━━━━━━━━━\u001b[0m \u001b[32m7.6/7.6 MB\u001b[0m \u001b[31m43.1 MB/s\u001b[0m eta \u001b[36m0:00:00\u001b[0m\n",
            "\u001b[2K     \u001b[90m━━━━━━━━━━━━━━━━━━━━━━━━━━━━━━━━━━━━━━\u001b[0m \u001b[32m519.6/519.6 kB\u001b[0m \u001b[31m19.7 MB/s\u001b[0m eta \u001b[36m0:00:00\u001b[0m\n",
            "\u001b[2K     \u001b[90m━━━━━━━━━━━━━━━━━━━━━━━━━━━━━━━━━━━━━━━━\u001b[0m \u001b[32m81.4/81.4 kB\u001b[0m \u001b[31m5.3 MB/s\u001b[0m eta \u001b[36m0:00:00\u001b[0m\n",
            "\u001b[2K     \u001b[90m━━━━━━━━━━━━━━━━━━━━━━━━━━━━━━━━━━━━━━\u001b[0m \u001b[32m258.1/258.1 kB\u001b[0m \u001b[31m13.2 MB/s\u001b[0m eta \u001b[36m0:00:00\u001b[0m\n",
            "\u001b[2K     \u001b[90m━━━━━━━━━━━━━━━━━━━━━━━━━━━━━━━━━━━━━━━━\u001b[0m \u001b[32m1.5/1.5 MB\u001b[0m \u001b[31m31.4 MB/s\u001b[0m eta \u001b[36m0:00:00\u001b[0m\n",
            "\u001b[2K     \u001b[90m━━━━━━━━━━━━━━━━━━━━━━━━━━━━━━━━━━━━━━━━\u001b[0m \u001b[32m53.9/53.9 kB\u001b[0m \u001b[31m5.7 MB/s\u001b[0m eta \u001b[36m0:00:00\u001b[0m\n",
            "\u001b[2K     \u001b[90m━━━━━━━━━━━━━━━━━━━━━━━━━━━━━━━━━━━━━━\u001b[0m \u001b[32m295.0/295.0 kB\u001b[0m \u001b[31m25.5 MB/s\u001b[0m eta \u001b[36m0:00:00\u001b[0m\n",
            "\u001b[2K     \u001b[90m━━━━━━━━━━━━━━━━━━━━━━━━━━━━━━━━━━━━━━━━\u001b[0m \u001b[32m7.8/7.8 MB\u001b[0m \u001b[31m68.4 MB/s\u001b[0m eta \u001b[36m0:00:00\u001b[0m\n",
            "\u001b[2K     \u001b[90m━━━━━━━━━━━━━━━━━━━━━━━━━━━━━━━━━━━━━━━━\u001b[0m \u001b[32m1.3/1.3 MB\u001b[0m \u001b[31m81.5 MB/s\u001b[0m eta \u001b[36m0:00:00\u001b[0m\n",
            "\u001b[2K     \u001b[90m━━━━━━━━━━━━━━━━━━━━━━━━━━━━━━━━━━━━━━\u001b[0m \u001b[32m115.3/115.3 kB\u001b[0m \u001b[31m16.1 MB/s\u001b[0m eta \u001b[36m0:00:00\u001b[0m\n",
            "\u001b[2K     \u001b[90m━━━━━━━━━━━━━━━━━━━━━━━━━━━━━━━━━━━━━━\u001b[0m \u001b[32m194.1/194.1 kB\u001b[0m \u001b[31m23.4 MB/s\u001b[0m eta \u001b[36m0:00:00\u001b[0m\n",
            "\u001b[2K     \u001b[90m━━━━━━━━━━━━━━━━━━━━━━━━━━━━━━━━━━━━━━\u001b[0m \u001b[32m134.8/134.8 kB\u001b[0m \u001b[31m15.3 MB/s\u001b[0m eta \u001b[36m0:00:00\u001b[0m\n",
            "\u001b[2K     \u001b[90m━━━━━━━━━━━━━━━━━━━━━━━━━━━━━━━━━━━━━━\u001b[0m \u001b[32m727.7/727.7 kB\u001b[0m \u001b[31m61.2 MB/s\u001b[0m eta \u001b[36m0:00:00\u001b[0m\n",
            "\u001b[2K     \u001b[90m━━━━━━━━━━━━━━━━━━━━━━━━━━━━━━━━━━━━━━━━\u001b[0m \u001b[32m1.1/1.1 MB\u001b[0m \u001b[31m56.1 MB/s\u001b[0m eta \u001b[36m0:00:00\u001b[0m\n",
            "\u001b[2K     \u001b[90m━━━━━━━━━━━━━━━━━━━━━━━━━━━━━━━━━━━━━━\u001b[0m \u001b[32m805.2/805.2 kB\u001b[0m \u001b[31m60.6 MB/s\u001b[0m eta \u001b[36m0:00:00\u001b[0m\n",
            "\u001b[?25h\u001b[31mERROR: pip's dependency resolver does not currently take into account all the packages that are installed. This behaviour is the source of the following dependency conflicts.\n",
            "tensorflow 2.13.0 requires protobuf!=4.21.0,!=4.21.1,!=4.21.2,!=4.21.3,!=4.21.4,!=4.21.5,<5.0.0dev,>=3.20.3, but you have protobuf 3.19.6 which is incompatible.\n",
            "tensorflow-datasets 4.9.2 requires protobuf>=3.20, but you have protobuf 3.19.6 which is incompatible.\n",
            "tensorflow-metadata 1.14.0 requires protobuf<4.21,>=3.20.3, but you have protobuf 3.19.6 which is incompatible.\u001b[0m\u001b[31m\n",
            "\u001b[2K     \u001b[90m━━━━━━━━━━━━━━━━━━━━━━━━━━━━━━━━━━━━━━━\u001b[0m \u001b[32m311.6/311.6 kB\u001b[0m \u001b[31m4.8 MB/s\u001b[0m eta \u001b[36m0:00:00\u001b[0m\n",
            "\u001b[?25h\u001b[31mERROR: pip's dependency resolver does not currently take into account all the packages that are installed. This behaviour is the source of the following dependency conflicts.\n",
            "tensorflow-metadata 1.14.0 requires protobuf<4.21,>=3.20.3, but you have protobuf 4.24.3 which is incompatible.\u001b[0m\u001b[31m\n",
            "\u001b[0m"
          ]
        }
      ],
      "source": [
        "!pip install -q transformers datasets evaluate accelerate \"gluonts[torch]\" ujson tqdm\n",
        "!pip install -q protobuf --upgrade # without it, the evaluation code fails"
      ]
    },
    {
      "cell_type": "markdown",
      "id": "GGr6NjN8Pc8g",
      "metadata": {
        "id": "GGr6NjN8Pc8g"
      },
      "source": [
        "The `traffic` dataset, used by [Lai et al. (2017)](https://arxiv.org/abs/1703.07015), contains the San Francisco Traffic. It contains 862 hourly time series showing the road occupancy rates in the range \\\\([0, 1]\\\\) on the San Francisco Bay Area freeways from 2015 to 2016."
      ]
    },
    {
      "cell_type": "code",
      "execution_count": 4,
      "id": "MKu63zXnPgMt",
      "metadata": {
        "colab": {
          "base_uri": "https://localhost:8080/"
        },
        "id": "MKu63zXnPgMt",
        "outputId": "0a66fd02-b03c-4e56-a636-fcd2944ad1c1"
      },
      "outputs": [
        {
          "output_type": "stream",
          "name": "stdout",
          "text": [
            "traffic dataset prediction_length: 24\n"
          ]
        }
      ],
      "source": [
        "from gluonts.dataset.repository.datasets import get_dataset\n",
        "\n",
        "dataset = get_dataset(\"traffic\")\n",
        "freq = dataset.metadata.freq\n",
        "prediction_length = dataset.metadata.prediction_length\n",
        "print(f\"traffic dataset prediction_length: {prediction_length}\")"
      ]
    },
    {
      "cell_type": "markdown",
      "id": "MlBG39UEPmYY",
      "metadata": {
        "id": "MlBG39UEPmYY"
      },
      "source": [
        "Let's visualize a time series in the dataset and plot the train/test split:"
      ]
    },
    {
      "cell_type": "code",
      "execution_count": 5,
      "id": "vjHeqEjkQGOC",
      "metadata": {
        "colab": {
          "base_uri": "https://localhost:8080/",
          "height": 430
        },
        "id": "vjHeqEjkQGOC",
        "outputId": "4d00f793-bb0e-4cad-f786-aa7ce9d1fc68"
      },
      "outputs": [
        {
          "output_type": "display_data",
          "data": {
            "text/plain": [
              "<Figure size 640x480 with 1 Axes>"
            ],
            "image/png": "[encoded data removed]"
          },
          "metadata": {}
        }
      ],
      "source": [
        "import matplotlib.pyplot as plt\n",
        "\n",
        "train_example = next(iter(dataset.train))\n",
        "test_example = next(iter(dataset.test))\n",
        "\n",
        "num_of_samples = 4*prediction_length\n",
        "\n",
        "figure, axes = plt.subplots()\n",
        "axes.plot(train_example[\"target\"][-num_of_samples:], color=\"blue\")\n",
        "axes.plot(\n",
        "    test_example[\"target\"][-num_of_samples - prediction_length :],\n",
        "    color=\"red\",\n",
        "    alpha=0.5,\n",
        ")\n",
        "\n",
        "plt.show()"
      ]
    },
    {
      "cell_type": "markdown",
      "id": "Yxon2GHdQJis",
      "metadata": {
        "id": "Yxon2GHdQJis"
      },
      "source": [
        "Let's define the train/test splits:\n"
      ]
    },
    {
      "cell_type": "code",
      "execution_count": 6,
      "id": "pymU2p-FQK_H",
      "metadata": {
        "id": "pymU2p-FQK_H"
      },
      "outputs": [],
      "source": [
        "train_dataset = dataset.train\n",
        "test_dataset = dataset.test"
      ]
    },
    {
      "cell_type": "markdown",
      "id": "ugf1jahDQNCa",
      "metadata": {
        "id": "ugf1jahDQNCa"
      },
      "source": [
        "## Define Transformations\n",
        "\n",
        "Next, we define the transformations for the data, in particular for the creation of the time features (based on the dataset or universal ones).\n",
        "\n",
        "We define a `Chain` of transformations from GluonTS (which is a bit comparable to `torchvision.transforms.Compose` for images). It allows us to combine several transformations into a single pipeline.\n",
        "\n",
        "The transformations below are annotated with comments to explain what they do. At a high level, we will iterate over the individual time series of our dataset and add/remove fields or features:\n"
      ]
    },
    {
      "cell_type": "code",
      "execution_count": 7,
      "id": "DaRe5f3oQR9u",
      "metadata": {
        "id": "DaRe5f3oQR9u"
      },
      "outputs": [],
      "source": [
        "from transformers import PretrainedConfig\n",
        "from gluonts.time_feature import time_features_from_frequency_str\n",
        "\n",
        "from gluonts.dataset.field_names import FieldName\n",
        "from gluonts.transform import (\n",
        "    AddAgeFeature,\n",
        "    AddObservedValuesIndicator,\n",
        "    AddTimeFeatures,\n",
        "    AsNumpyArray,\n",
        "    Chain,\n",
        "    ExpectedNumInstanceSampler,\n",
        "    RemoveFields,\n",
        "    SelectFields,\n",
        "    SetField,\n",
        "    TestSplitSampler,\n",
        "    Transformation,\n",
        "    ValidationSplitSampler,\n",
        "    VstackFeatures,\n",
        "    RenameFields,\n",
        ")\n",
        "\n",
        "def create_transformation(freq: str, config: PretrainedConfig) -> Transformation:\n",
        "    # create a list of fields to remove later\n",
        "    remove_field_names = []\n",
        "    if config.num_static_real_features == 0:\n",
        "        remove_field_names.append(FieldName.FEAT_STATIC_REAL)\n",
        "    if config.num_dynamic_real_features == 0:\n",
        "        remove_field_names.append(FieldName.FEAT_DYNAMIC_REAL)\n",
        "    if config.num_static_categorical_features == 0:\n",
        "        remove_field_names.append(FieldName.FEAT_STATIC_CAT)\n",
        "\n",
        "    return Chain(\n",
        "        # step 1: remove static/dynamic fields if not specified\n",
        "        [RemoveFields(field_names=remove_field_names)]\n",
        "        # step 2: convert the data to NumPy (potentially not needed)\n",
        "        + (\n",
        "            [\n",
        "                AsNumpyArray(\n",
        "                    field=FieldName.FEAT_STATIC_CAT,\n",
        "                    expected_ndim=1,\n",
        "                    dtype=int,\n",
        "                )\n",
        "            ]\n",
        "            if config.num_static_categorical_features > 0\n",
        "            else []\n",
        "        )\n",
        "        + (\n",
        "            [\n",
        "                AsNumpyArray(\n",
        "                    field=FieldName.FEAT_STATIC_REAL,\n",
        "                    expected_ndim=1,\n",
        "                )\n",
        "            ]\n",
        "            if config.num_static_real_features > 0\n",
        "            else []\n",
        "        )\n",
        "        + [\n",
        "            AsNumpyArray(\n",
        "                field=FieldName.TARGET,\n",
        "                # we expect an extra dim for the multivariate case:\n",
        "                expected_ndim=1 if config.input_size == 1 else 2,\n",
        "            ),\n",
        "            # step 3: handle the NaN's by filling in the target with zero\n",
        "            # and return the mask (which is in the observed values)\n",
        "            # true for observed values, false for nan's\n",
        "            # the decoder uses this mask (no loss is incurred for unobserved values)\n",
        "            # see loss_weights inside the xxxForPrediction model\n",
        "            AddObservedValuesIndicator(\n",
        "                target_field=FieldName.TARGET,\n",
        "                output_field=FieldName.OBSERVED_VALUES,\n",
        "            ),\n",
        "            # step 4: add temporal features based on freq of the dataset\n",
        "            # these serve as positional encodings\n",
        "            AddTimeFeatures(\n",
        "                start_field=FieldName.START,\n",
        "                target_field=FieldName.TARGET,\n",
        "                output_field=FieldName.FEAT_TIME,\n",
        "                time_features=time_features_from_frequency_str(freq),\n",
        "                pred_length=config.prediction_length,\n",
        "            ),\n",
        "            # step 5: add another temporal feature (just a single number)\n",
        "            # tells the model where in the life the value of the time series is\n",
        "            # sort of running counter\n",
        "            AddAgeFeature(\n",
        "                target_field=FieldName.TARGET,\n",
        "                output_field=FieldName.FEAT_AGE,\n",
        "                pred_length=config.prediction_length,\n",
        "                log_scale=True,\n",
        "            ),\n",
        "            # step 6: vertically stack all the temporal features into the key FEAT_TIME\n",
        "            VstackFeatures(\n",
        "                output_field=FieldName.FEAT_TIME,\n",
        "                input_fields=[FieldName.FEAT_TIME, FieldName.FEAT_AGE]\n",
        "                + (\n",
        "                    [FieldName.FEAT_DYNAMIC_REAL]\n",
        "                    if config.num_dynamic_real_features > 0\n",
        "                    else []\n",
        "                ),\n",
        "            ),\n",
        "            # step 7: rename to match HuggingFace names\n",
        "            RenameFields(\n",
        "                mapping={\n",
        "                    FieldName.FEAT_STATIC_CAT: \"static_categorical_features\",\n",
        "                    FieldName.FEAT_STATIC_REAL: \"static_real_features\",\n",
        "                    FieldName.FEAT_TIME: \"time_features\",\n",
        "                    FieldName.TARGET: \"values\",\n",
        "                    FieldName.OBSERVED_VALUES: \"observed_mask\",\n",
        "                }\n",
        "            ),\n",
        "        ]\n",
        "    )"
      ]
    },
    {
      "cell_type": "markdown",
      "id": "nuVniPDaQS-m",
      "metadata": {
        "id": "nuVniPDaQS-m"
      },
      "source": [
        "## Define `InstanceSplitter`\n",
        "\n",
        "For training/validation/testing we next create an `InstanceSplitter` which is used to sample windows from the dataset (as, remember, we can't pass the entire history of values to the model due to time and memory constraints).\n",
        "\n",
        "The instance splitter samples random `context_length` sized and subsequent `prediction_length` sized windows from the data, and appends a `past_` or `future_` key to any temporal keys for the respective windows. This makes sure that the `values` will be split into `past_values` and subsequent `future_values` keys, which will serve as the encoder and decoder inputs respectively. The same happens for any keys in the `time_series_fields` argument:\n"
      ]
    },
    {
      "cell_type": "code",
      "execution_count": 8,
      "id": "yQlvAcXbQYve",
      "metadata": {
        "id": "yQlvAcXbQYve"
      },
      "outputs": [],
      "source": [
        "from gluonts.transform import InstanceSplitter\n",
        "from gluonts.transform.sampler import InstanceSampler\n",
        "from typing import Optional\n",
        "\n",
        "\n",
        "def create_instance_splitter(\n",
        "    config: PretrainedConfig,\n",
        "    mode: str,\n",
        "    train_sampler: Optional[InstanceSampler] = None,\n",
        "    validation_sampler: Optional[InstanceSampler] = None,\n",
        ") -> Transformation:\n",
        "    assert mode in [\"train\", \"validation\", \"test\"]\n",
        "\n",
        "    instance_sampler = {\n",
        "        \"train\": train_sampler\n",
        "        or ExpectedNumInstanceSampler(\n",
        "            num_instances=1.0, min_future=config.prediction_length\n",
        "        ),\n",
        "        \"validation\": validation_sampler\n",
        "        or ValidationSplitSampler(min_future=config.prediction_length),\n",
        "        \"test\": TestSplitSampler(),\n",
        "    }[mode]\n",
        "\n",
        "    return InstanceSplitter(\n",
        "        target_field=\"values\",\n",
        "        is_pad_field=FieldName.IS_PAD,\n",
        "        start_field=FieldName.START,\n",
        "        forecast_start_field=FieldName.FORECAST_START,\n",
        "        instance_sampler=instance_sampler,\n",
        "        past_length=config.context_length + max(config.lags_sequence),\n",
        "        future_length=config.prediction_length,\n",
        "        time_series_fields=[\"time_features\", \"observed_mask\"],\n",
        "    )"
      ]
    },
    {
      "cell_type": "markdown",
      "id": "UV0rhLvWQZyu",
      "metadata": {
        "id": "UV0rhLvWQZyu"
      },
      "source": [
        "## Create PyTorch DataLoaders\n",
        "\n",
        "Next, it's time to create PyTorch DataLoaders, which allow us to have batches of (input, output) pairs - or in other words (`past_values`, `future_values`).\n"
      ]
    },
    {
      "cell_type": "code",
      "execution_count": 9,
      "id": "CT-HBLwIQf08",
      "metadata": {
        "id": "CT-HBLwIQf08"
      },
      "outputs": [],
      "source": [
        "from typing import Iterable\n",
        "\n",
        "import torch\n",
        "from gluonts.itertools import Cyclic, Cached\n",
        "from gluonts.dataset.loader import as_stacked_batches\n",
        "\n",
        "\n",
        "def create_train_dataloader(\n",
        "    config: PretrainedConfig,\n",
        "    freq,\n",
        "    data,\n",
        "    batch_size: int,\n",
        "    num_batches_per_epoch: int,\n",
        "    shuffle_buffer_length: Optional[int] = None,\n",
        "    cache_data: bool = True,\n",
        "    **kwargs,\n",
        ") -> Iterable:\n",
        "    PREDICTION_INPUT_NAMES = [\n",
        "        \"past_time_features\",\n",
        "        \"past_values\",\n",
        "        \"past_observed_mask\",\n",
        "        \"future_time_features\",\n",
        "    ]\n",
        "    if config.num_static_categorical_features > 0:\n",
        "        PREDICTION_INPUT_NAMES.append(\"static_categorical_features\")\n",
        "\n",
        "    if config.num_static_real_features > 0:\n",
        "        PREDICTION_INPUT_NAMES.append(\"static_real_features\")\n",
        "\n",
        "    TRAINING_INPUT_NAMES = PREDICTION_INPUT_NAMES + [\n",
        "        \"future_values\",\n",
        "        \"future_observed_mask\",\n",
        "    ]\n",
        "\n",
        "    transformation = create_transformation(freq, config)\n",
        "    transformed_data = transformation.apply(data, is_train=True)\n",
        "    if cache_data:\n",
        "        transformed_data = Cached(transformed_data)\n",
        "\n",
        "    # we initialize a Training instance\n",
        "    instance_splitter = create_instance_splitter(config, \"train\")\n",
        "\n",
        "    # the instance splitter will sample a window of\n",
        "    # context length + lags + prediction length (from the 366 possible transformed time series)\n",
        "    # randomly from within the target time series and return an iterator.\n",
        "    stream = Cyclic(transformed_data).stream()\n",
        "    training_instances = instance_splitter.apply(stream, is_train=True)\n",
        "\n",
        "    return as_stacked_batches(\n",
        "        training_instances,\n",
        "        batch_size=batch_size,\n",
        "        shuffle_buffer_length=shuffle_buffer_length,\n",
        "        field_names=TRAINING_INPUT_NAMES,\n",
        "        output_type=torch.tensor,\n",
        "        num_batches_per_epoch=num_batches_per_epoch,\n",
        "    )"
      ]
    },
    {
      "cell_type": "code",
      "execution_count": 10,
      "id": "mQKA-5YKQgeb",
      "metadata": {
        "id": "mQKA-5YKQgeb"
      },
      "outputs": [],
      "source": [
        "def create_test_dataloader(\n",
        "    config: PretrainedConfig,\n",
        "    freq,\n",
        "    data,\n",
        "    batch_size: int,\n",
        "    **kwargs,\n",
        "):\n",
        "    PREDICTION_INPUT_NAMES = [\n",
        "        \"past_time_features\",\n",
        "        \"past_values\",\n",
        "        \"past_observed_mask\",\n",
        "        \"future_time_features\",\n",
        "    ]\n",
        "    if config.num_static_categorical_features > 0:\n",
        "        PREDICTION_INPUT_NAMES.append(\"static_categorical_features\")\n",
        "\n",
        "    if config.num_static_real_features > 0:\n",
        "        PREDICTION_INPUT_NAMES.append(\"static_real_features\")\n",
        "\n",
        "    transformation = create_transformation(freq, config)\n",
        "    transformed_data = transformation.apply(data, is_train=False)\n",
        "\n",
        "    # we create a Test Instance splitter which will sample the very last\n",
        "    # context window seen during training only for the encoder.\n",
        "    instance_sampler = create_instance_splitter(config, \"test\")\n",
        "\n",
        "    # we apply the transformations in test mode\n",
        "    testing_instances = instance_sampler.apply(transformed_data, is_train=False)\n",
        "\n",
        "    return as_stacked_batches(\n",
        "        testing_instances,\n",
        "        batch_size=batch_size,\n",
        "        output_type=torch.tensor,\n",
        "        field_names=PREDICTION_INPUT_NAMES,\n",
        "    )"
      ]
    },
    {
      "cell_type": "markdown",
      "id": "kAcFTsVrQjK9",
      "metadata": {
        "id": "kAcFTsVrQjK9"
      },
      "source": [
        "## Evaluate on Autoformer\n",
        "\n",
        "We have already pre-trained an Autoformer model on this dataset, so we can just fetch the model and evaluate it on the test set:\n"
      ]
    },
    {
      "cell_type": "code",
      "execution_count": 11,
      "id": "d8fUtwE4Qk0s",
      "metadata": {
        "colab": {
          "base_uri": "https://localhost:8080/",
          "height": 81,
          "referenced_widgets": [
            "0bfccf8f15fc4b5198f23a548107a8ae",
            "5e037c9151484d8f892894e6f5838a53",
            "3c91934492ca47008aee8c0123ab14df",
            "e6c378b5c0ae48d8a102de56a1f70b80",
            "83e7d80c8b9a43eda42a59f2886247dc",
            "9b57085433e842d3a13620fa59cf799e",
            "7084a9d6f4b648dcab671d96cb88b17c",
            "3073ff27c79f4601a07ac66a98742c8e",
            "70ef9f158bf34e858e3c60c324efdf56",
            "cee766a477284d1797aca4db994ff03c",
            "bbc2c9f101214e15b8b5c8a19bbd3ad4",
            "0be48540854b446a95b3da9c3437d54e",
            "949f3d12440d4b89b13070c5c5ef275f",
            "14b956facb874bcdb8617553e9bc5b25",
            "72e97a7eda3c474f827f4769d7dec862",
            "5a4c13953fad42699bbe7dc997f0c655",
            "b9fd867c8aab44ff9bf518026584d587",
            "1b94c47cd33747dcaae29e71b898c273",
            "6098d91a29814682b0148bf3e6e486e8",
            "a255e9e15e0d452f951bdb8a3714944e",
            "c2db5419b3d342fa80323573915892b3",
            "25e45a73f4454a94be45b04a4dea4ba7"
          ]
        },
        "id": "d8fUtwE4Qk0s",
        "outputId": "182ef572-ab59-4ed0-9f41-7c69f544beea"
      },
      "outputs": [
        {
          "output_type": "display_data",
          "data": {
            "text/plain": [
              "Downloading (…)lve/main/config.json:   0%|          | 0.00/1.41k [00:00<?, ?B/s]"
            ],
            "application/vnd.jupyter.widget-view+json": {
              "version_major": 2,
              "version_minor": 0,
              "model_id": "0bfccf8f15fc4b5198f23a548107a8ae"
            }
          },
          "metadata": {}
        },
        {
          "output_type": "display_data",
          "data": {
            "text/plain": [
              "Downloading pytorch_model.bin:   0%|          | 0.00/116k [00:00<?, ?B/s]"
            ],
            "application/vnd.jupyter.widget-view+json": {
              "version_major": 2,
              "version_minor": 0,
              "model_id": "0be48540854b446a95b3da9c3437d54e"
            }
          },
          "metadata": {}
        }
      ],
      "source": [
        "from transformers import AutoformerConfig, AutoformerForPrediction\n",
        "\n",
        "config = AutoformerConfig.from_pretrained(\"kashif/autoformer-traffic-hourly\")\n",
        "model = AutoformerForPrediction.from_pretrained(\"kashif/autoformer-traffic-hourly\")\n",
        "\n",
        "test_dataloader = create_test_dataloader(\n",
        "    config=config,\n",
        "    freq=freq,\n",
        "    data=test_dataset,\n",
        "    batch_size=64,\n",
        ")"
      ]
    },
    {
      "cell_type": "markdown",
      "id": "rIj1HA1cQnAf",
      "metadata": {
        "id": "rIj1HA1cQnAf"
      },
      "source": [
        "At inference time, we will use the model's `generate()` method for predicting `prediction_length` steps into the future from the very last context window of each time series in the training set.\n"
      ]
    },
    {
      "cell_type": "code",
      "execution_count": 12,
      "id": "Mm12jH8bQpZ2",
      "metadata": {
        "id": "Mm12jH8bQpZ2"
      },
      "outputs": [],
      "source": [
        "from accelerate import Accelerator\n",
        "\n",
        "accelerator = Accelerator()\n",
        "device = accelerator.device\n",
        "model.to(device)\n",
        "model.eval()\n",
        "\n",
        "forecasts_ = []\n",
        "for batch in test_dataloader:\n",
        "    outputs = model.generate(\n",
        "        static_categorical_features=batch[\"static_categorical_features\"].to(device)\n",
        "        if config.num_static_categorical_features > 0\n",
        "        else None,\n",
        "        static_real_features=batch[\"static_real_features\"].to(device)\n",
        "        if config.num_static_real_features > 0\n",
        "        else None,\n",
        "        past_time_features=batch[\"past_time_features\"].to(device),\n",
        "        past_values=batch[\"past_values\"].to(device),\n",
        "        future_time_features=batch[\"future_time_features\"].to(device),\n",
        "        past_observed_mask=batch[\"past_observed_mask\"].to(device),\n",
        "    )\n",
        "    forecasts_.append(outputs.sequences.cpu().numpy())"
      ]
    },
    {
      "cell_type": "markdown",
      "id": "f3CfJimiQr4n",
      "metadata": {
        "id": "f3CfJimiQr4n"
      },
      "source": [
        "The model outputs a tensor of shape (`batch_size`, `number of samples`, `prediction length`, `input_size`).\n",
        "\n",
        "In this case, we get `100` possible values for the next `24` hours for each of the  time series in the test dataloader batch which if you recall from above is `64`:\n"
      ]
    },
    {
      "cell_type": "code",
      "execution_count": 13,
      "id": "EiaDRQpuQtvc",
      "metadata": {
        "colab": {
          "base_uri": "https://localhost:8080/"
        },
        "id": "EiaDRQpuQtvc",
        "outputId": "dc5533c0-f06e-4f53-bdba-1cf615ebcfd0"
      },
      "outputs": [
        {
          "output_type": "execute_result",
          "data": {
            "text/plain": [
              "(64, 100, 24)"
            ]
          },
          "metadata": {},
          "execution_count": 13
        }
      ],
      "source": [
        "forecasts_[0].shape"
      ]
    },
    {
      "cell_type": "markdown",
      "id": "l8RP9wfHQvrw",
      "metadata": {
        "id": "l8RP9wfHQvrw"
      },
      "source": [
        "We'll stack them vertically, to get forecasts for all time-series in the test dataset: We have `7` rolling windows in the test set which is why we end up with a total of `7 * 862 = 6034` predictions:\n"
      ]
    },
    {
      "cell_type": "code",
      "execution_count": 14,
      "id": "X9sbEmRpQzrK",
      "metadata": {
        "colab": {
          "base_uri": "https://localhost:8080/"
        },
        "id": "X9sbEmRpQzrK",
        "outputId": "a2bdd3ca-1051-4fc9-f97e-854f707cdb61"
      },
      "outputs": [
        {
          "output_type": "stream",
          "name": "stdout",
          "text": [
            "(6034, 100, 24)\n"
          ]
        }
      ],
      "source": [
        "import numpy as np\n",
        "\n",
        "forecasts = np.vstack(forecasts_)\n",
        "print(forecasts.shape)"
      ]
    },
    {
      "cell_type": "markdown",
      "id": "wtVOIg8aQ0Pa",
      "metadata": {
        "id": "wtVOIg8aQ0Pa"
      },
      "source": [
        "We can evaluate the resulting forecast with respect to the ground truth out of sample values present in the test set. For that, we'll use the 🤗 [Evaluate](https://huggingface.co/docs/evaluate/index) library, which includes the [MASE](https://huggingface.co/spaces/evaluate-metric/mase) metrics.\n",
        "\n",
        "We calculate the metric for each time series in the dataset and return the average:\n"
      ]
    },
    {
      "cell_type": "code",
      "execution_count": 15,
      "id": "g2DeG9EsQ2YO",
      "metadata": {
        "colab": {
          "base_uri": "https://localhost:8080/",
          "height": 81,
          "referenced_widgets": [
            "fe4b2399e5434cca9bc0acd6ce33dbba",
            "52bd10f768e6430dac5d353e5b8b1c11",
            "c17f97bf01ad421c880b6e3f74c46e3e",
            "349872811f6d4d38a4e66b51f932e4bd",
            "48ade6541aeb4000bd96e25105013b2b",
            "ffb7267853594be486c2db73b2697ec7",
            "ba9c5769032e49d78f39266067d6c8df",
            "ced3bff86a124ae8a11097c3941800ab",
            "8b053883087f41479284fd6158c39a5d",
            "41c95f0deaf54a21b0633dda52bc391c",
            "8fa7afd894154079bd10e4d6601e7595",
            "b0a73ba7ec9945ca900ed0625a65b467",
            "c747fb787cef4c4585260a3180121213",
            "00e3bb0864fa478f8e53ad923d046274",
            "8fe445e5570f4593b7f104a44eb5a49d",
            "a06f877eb4a946359b17783cbceca130",
            "77c1cb2d5653473d811b41a957e03166",
            "c4cd62df0b114a9482de33f176c50aac",
            "17d49fb075374afb9bd99b6c174c484f",
            "375ca7029da347ee8c01487201399017",
            "2e15bb6bce344c97a76c8a29df09f73b",
            "5a228dd3a4d84ffe8a07a839822a8a3b"
          ]
        },
        "id": "g2DeG9EsQ2YO",
        "outputId": "2821382b-d580-4f2f-f217-38e8e723aca5"
      },
      "outputs": [
        {
          "output_type": "display_data",
          "data": {
            "text/plain": [
              "Downloading builder script:   0%|          | 0.00/5.50k [00:00<?, ?B/s]"
            ],
            "application/vnd.jupyter.widget-view+json": {
              "version_major": 2,
              "version_minor": 0,
              "model_id": "fe4b2399e5434cca9bc0acd6ce33dbba"
            }
          },
          "metadata": {}
        },
        {
          "output_type": "display_data",
          "data": {
            "text/plain": [
              "  0%|          | 0/6034 [00:00<?, ?it/s]"
            ],
            "application/vnd.jupyter.widget-view+json": {
              "version_major": 2,
              "version_minor": 0,
              "model_id": "b0a73ba7ec9945ca900ed0625a65b467"
            }
          },
          "metadata": {}
        }
      ],
      "source": [
        "from tqdm.autonotebook import tqdm\n",
        "from evaluate import load\n",
        "from gluonts.time_feature import get_seasonality\n",
        "\n",
        "mase_metric = load(\"evaluate-metric/mase\")\n",
        "\n",
        "forecast_median = np.median(forecasts, 1)\n",
        "\n",
        "mase_metrics = []\n",
        "for item_id, ts in enumerate(tqdm(test_dataset)):\n",
        "    training_data = ts[\"target\"][:-prediction_length]\n",
        "    ground_truth = ts[\"target\"][-prediction_length:]\n",
        "    mase = mase_metric.compute(\n",
        "        predictions=forecast_median[item_id],\n",
        "        references=np.array(ground_truth),\n",
        "        training=np.array(training_data),\n",
        "        periodicity=get_seasonality(freq))\n",
        "    mase_metrics.append(mase[\"mase\"])"
      ]
    },
    {
      "cell_type": "markdown",
      "id": "3eqRbZDYQ4yQ",
      "metadata": {
        "id": "3eqRbZDYQ4yQ"
      },
      "source": [
        "So the result for the Autoformer model is:\n"
      ]
    },
    {
      "cell_type": "code",
      "execution_count": 16,
      "id": "MlnATIhGQ7VA",
      "metadata": {
        "colab": {
          "base_uri": "https://localhost:8080/"
        },
        "id": "MlnATIhGQ7VA",
        "outputId": "89612328-6033-4f78-87f3-9f8b993c8898"
      },
      "outputs": [
        {
          "output_type": "stream",
          "name": "stdout",
          "text": [
            "Autoformer univariate MASE: 0.911\n"
          ]
        }
      ],
      "source": [
        "print(f\"Autoformer univariate MASE: {np.mean(mase_metrics):.3f}\")"
      ]
    },
    {
      "cell_type": "markdown",
      "id": "g_Y-E3ksQ76J",
      "metadata": {
        "id": "g_Y-E3ksQ76J"
      },
      "source": [
        "To plot the prediction for any time series with respect to the ground truth test data, we define the following helper:"
      ]
    },
    {
      "cell_type": "code",
      "execution_count": 17,
      "id": "jfNGe7JHQ-Hx",
      "metadata": {
        "id": "jfNGe7JHQ-Hx"
      },
      "outputs": [],
      "source": [
        "import matplotlib.dates as mdates\n",
        "import pandas as pd\n",
        "\n",
        "test_ds = list(test_dataset)\n",
        "\n",
        "def plot(ts_index):\n",
        "    fig, ax = plt.subplots()\n",
        "\n",
        "    index = pd.period_range(\n",
        "        start=test_ds[ts_index][FieldName.START],\n",
        "        periods=len(test_ds[ts_index][FieldName.TARGET]),\n",
        "        freq=test_ds[ts_index][FieldName.START].freq,\n",
        "    ).to_timestamp()\n",
        "\n",
        "    ax.plot(\n",
        "        index[-5*prediction_length:],\n",
        "        test_ds[ts_index][\"target\"][-5*prediction_length:],\n",
        "        label=\"actual\",\n",
        "    )\n",
        "\n",
        "    plt.plot(\n",
        "        index[-prediction_length:],\n",
        "        np.median(forecasts[ts_index], axis=0),\n",
        "        label=\"median\",\n",
        "    )\n",
        "\n",
        "    plt.gcf().autofmt_xdate()\n",
        "    plt.legend(loc=\"best\")\n",
        "    plt.show()"
      ]
    },
    {
      "cell_type": "markdown",
      "id": "cSbS8tmeRAue",
      "metadata": {
        "id": "cSbS8tmeRAue"
      },
      "source": [
        "For example, for time-series in the test set with index `4`:"
      ]
    },
    {
      "cell_type": "code",
      "execution_count": 18,
      "id": "3es7ZmasRCQA",
      "metadata": {
        "colab": {
          "base_uri": "https://localhost:8080/",
          "height": 426
        },
        "id": "3es7ZmasRCQA",
        "outputId": "b1a0a01b-3500-49e2-88fc-5907bd1af117"
      },
      "outputs": [
        {
          "output_type": "display_data",
          "data": {
            "text/plain": [
              "<Figure size 640x480 with 1 Axes>"
            ],
            "image/png": "[encoded data removed]"
          },
          "metadata": {}
        }
      ],
      "source": [
        "plot(4)"
      ]
    },
    {
      "cell_type": "markdown",
      "id": "LmHDpw_bRDbz",
      "metadata": {
        "id": "LmHDpw_bRDbz"
      },
      "source": [
        "## Evaluate on DLinear\n",
        "\n",
        "A probabilistic DLinear is implemented in `gluonts` and thus we can train and evaluate it relatively quickly here:\n"
      ]
    },
    {
      "cell_type": "code",
      "execution_count": 19,
      "id": "Iknrptv1RKvF",
      "metadata": {
        "id": "Iknrptv1RKvF"
      },
      "outputs": [],
      "source": [
        "from gluonts.torch.model.d_linear.estimator import DLinearEstimator\n",
        "\n",
        "# Define the DLinear model with the same parameters as the Autoformer model\n",
        "estimator = DLinearEstimator(\n",
        "    prediction_length=dataset.metadata.prediction_length,\n",
        "    context_length=dataset.metadata.prediction_length*2,\n",
        "    scaling=scaling,\n",
        "    hidden_dimension=2,\n",
        "\n",
        "    batch_size=batch_size,\n",
        "    num_batches_per_epoch=num_batches_per_epoch,\n",
        "    trainer_kwargs=dict(max_epochs=epochs)\n",
        ")"
      ]
    },
    {
      "cell_type": "markdown",
      "id": "e6BYGFrORJa4",
      "metadata": {
        "id": "e6BYGFrORJa4"
      },
      "source": [
        "Train the model:\n"
      ]
    },
    {
      "cell_type": "code",
      "execution_count": 20,
      "id": "JC4EjzRdRNqg",
      "metadata": {
        "colab": {
          "base_uri": "https://localhost:8080/",
          "height": 1000,
          "referenced_widgets": [
            "b0fe907b56b04642a83e50e90b94cbf1",
            "8ebaa95f8d27472d8ad91ad9104b2d3c",
            "b1e72459516344b89ac25d14a351d253",
            "559fa18ba27f4b35971a4e211cb1df10",
            "71d67c0087cf428fbb813413e49ca65e",
            "dcca53863cbc42c181c184ca59addd90",
            "7adbb5bfae5048938171367c78a7df71",
            "947fffb966c84bac89f1f30ea9b334db",
            "819d653e2a0f497b807d1fc9fe3e8fb2",
            "bd164887b2ef471eabcd3d25c5f942f9",
            "7e7c41032e664fe5bacd5434b3d35a52"
          ]
        },
        "id": "JC4EjzRdRNqg",
        "outputId": "2aea3b4a-8333-4146-ad07-86e6f9afb5ae"
      },
      "outputs": [
        {
          "output_type": "stream",
          "name": "stderr",
          "text": [
            "INFO:pytorch_lightning.utilities.rank_zero:GPU available: True (cuda), used: True\n",
            "INFO:pytorch_lightning.utilities.rank_zero:TPU available: False, using: 0 TPU cores\n",
            "INFO:pytorch_lightning.utilities.rank_zero:IPU available: False, using: 0 IPUs\n",
            "INFO:pytorch_lightning.utilities.rank_zero:HPU available: False, using: 0 HPUs\n",
            "/usr/local/lib/python3.10/dist-packages/pytorch_lightning/trainer/configuration_validator.py:71: PossibleUserWarning: You defined a `validation_step` but have no `val_dataloader`. Skipping val loop.\n",
            "  rank_zero_warn(\n",
            "WARNING:pytorch_lightning.loggers.tensorboard:Missing logger folder: /content/lightning_logs\n",
            "INFO:pytorch_lightning.accelerators.cuda:LOCAL_RANK: 0 - CUDA_VISIBLE_DEVICES: [0]\n",
            "INFO:pytorch_lightning.callbacks.model_summary:\n",
            "  | Name  | Type         | Params\n",
            "---------------------------------------\n",
            "0 | model | DLinearModel | 4.7 K \n",
            "---------------------------------------\n",
            "4.7 K     Trainable params\n",
            "0         Non-trainable params\n",
            "4.7 K     Total params\n",
            "0.019     Total estimated model params size (MB)\n"
          ]
        },
        {
          "output_type": "display_data",
          "data": {
            "text/plain": [
              "Training: 0it [00:00, ?it/s]"
            ],
            "application/vnd.jupyter.widget-view+json": {
              "version_major": 2,
              "version_minor": 0,
              "model_id": "b0fe907b56b04642a83e50e90b94cbf1"
            }
          },
          "metadata": {}
        },
        {
          "output_type": "stream",
          "name": "stderr",
          "text": [
            "INFO:pytorch_lightning.utilities.rank_zero:Epoch 0, global step 100: 'train_loss' reached -2.14552 (best -2.14552), saving model to '/content/lightning_logs/version_0/checkpoints/epoch=0-step=100.ckpt' as top 1\n",
            "INFO:pytorch_lightning.utilities.rank_zero:Epoch 1, global step 200: 'train_loss' reached -2.44458 (best -2.44458), saving model to '/content/lightning_logs/version_0/checkpoints/epoch=1-step=200.ckpt' as top 1\n",
            "INFO:pytorch_lightning.utilities.rank_zero:Epoch 2, global step 300: 'train_loss' reached -2.59284 (best -2.59284), saving model to '/content/lightning_logs/version_0/checkpoints/epoch=2-step=300.ckpt' as top 1\n",
            "INFO:pytorch_lightning.utilities.rank_zero:Epoch 3, global step 400: 'train_loss' reached -2.72517 (best -2.72517), saving model to '/content/lightning_logs/version_0/checkpoints/epoch=3-step=400.ckpt' as top 1\n",
            "INFO:pytorch_lightning.utilities.rank_zero:Epoch 4, global step 500: 'train_loss' reached -2.80287 (best -2.80287), saving model to '/content/lightning_logs/version_0/checkpoints/epoch=4-step=500.ckpt' as top 1\n",
            "INFO:pytorch_lightning.utilities.rank_zero:Epoch 5, global step 600: 'train_loss' reached -2.84744 (best -2.84744), saving model to '/content/lightning_logs/version_0/checkpoints/epoch=5-step=600.ckpt' as top 1\n",
            "INFO:pytorch_lightning.utilities.rank_zero:Epoch 6, global step 700: 'train_loss' reached -2.88284 (best -2.88284), saving model to '/content/lightning_logs/version_0/checkpoints/epoch=6-step=700.ckpt' as top 1\n",
            "INFO:pytorch_lightning.utilities.rank_zero:Epoch 7, global step 800: 'train_loss' was not in top 1\n",
            "INFO:pytorch_lightning.utilities.rank_zero:Epoch 8, global step 900: 'train_loss' reached -2.90280 (best -2.90280), saving model to '/content/lightning_logs/version_0/checkpoints/epoch=8-step=900.ckpt' as top 1\n",
            "INFO:pytorch_lightning.utilities.rank_zero:Epoch 9, global step 1000: 'train_loss' reached -2.92537 (best -2.92537), saving model to '/content/lightning_logs/version_0/checkpoints/epoch=9-step=1000.ckpt' as top 1\n",
            "INFO:pytorch_lightning.utilities.rank_zero:Epoch 10, global step 1100: 'train_loss' reached -2.92880 (best -2.92880), saving model to '/content/lightning_logs/version_0/checkpoints/epoch=10-step=1100.ckpt' as top 1\n",
            "INFO:pytorch_lightning.utilities.rank_zero:Epoch 11, global step 1200: 'train_loss' reached -2.93478 (best -2.93478), saving model to '/content/lightning_logs/version_0/checkpoints/epoch=11-step=1200.ckpt' as top 1\n",
            "INFO:pytorch_lightning.utilities.rank_zero:Epoch 12, global step 1300: 'train_loss' was not in top 1\n",
            "INFO:pytorch_lightning.utilities.rank_zero:Epoch 13, global step 1400: 'train_loss' reached -2.94051 (best -2.94051), saving model to '/content/lightning_logs/version_0/checkpoints/epoch=13-step=1400.ckpt' as top 1\n",
            "INFO:pytorch_lightning.utilities.rank_zero:Epoch 14, global step 1500: 'train_loss' was not in top 1\n",
            "INFO:pytorch_lightning.utilities.rank_zero:Epoch 15, global step 1600: 'train_loss' was not in top 1\n",
            "INFO:pytorch_lightning.utilities.rank_zero:Epoch 16, global step 1700: 'train_loss' reached -2.95240 (best -2.95240), saving model to '/content/lightning_logs/version_0/checkpoints/epoch=16-step=1700.ckpt' as top 1\n",
            "INFO:pytorch_lightning.utilities.rank_zero:Epoch 17, global step 1800: 'train_loss' was not in top 1\n",
            "INFO:pytorch_lightning.utilities.rank_zero:Epoch 18, global step 1900: 'train_loss' was not in top 1\n",
            "INFO:pytorch_lightning.utilities.rank_zero:Epoch 19, global step 2000: 'train_loss' was not in top 1\n",
            "INFO:pytorch_lightning.utilities.rank_zero:Epoch 20, global step 2100: 'train_loss' reached -2.95843 (best -2.95843), saving model to '/content/lightning_logs/version_0/checkpoints/epoch=20-step=2100.ckpt' as top 1\n",
            "INFO:pytorch_lightning.utilities.rank_zero:Epoch 21, global step 2200: 'train_loss' was not in top 1\n",
            "INFO:pytorch_lightning.utilities.rank_zero:Epoch 22, global step 2300: 'train_loss' was not in top 1\n",
            "INFO:pytorch_lightning.utilities.rank_zero:Epoch 23, global step 2400: 'train_loss' reached -2.96310 (best -2.96310), saving model to '/content/lightning_logs/version_0/checkpoints/epoch=23-step=2400.ckpt' as top 1\n",
            "INFO:pytorch_lightning.utilities.rank_zero:Epoch 24, global step 2500: 'train_loss' was not in top 1\n",
            "INFO:pytorch_lightning.utilities.rank_zero:Epoch 25, global step 2600: 'train_loss' was not in top 1\n",
            "INFO:pytorch_lightning.utilities.rank_zero:Epoch 26, global step 2700: 'train_loss' was not in top 1\n",
            "INFO:pytorch_lightning.utilities.rank_zero:Epoch 27, global step 2800: 'train_loss' was not in top 1\n",
            "INFO:pytorch_lightning.utilities.rank_zero:Epoch 28, global step 2900: 'train_loss' was not in top 1\n",
            "INFO:pytorch_lightning.utilities.rank_zero:Epoch 29, global step 3000: 'train_loss' reached -2.96586 (best -2.96586), saving model to '/content/lightning_logs/version_0/checkpoints/epoch=29-step=3000.ckpt' as top 1\n",
            "INFO:pytorch_lightning.utilities.rank_zero:Epoch 30, global step 3100: 'train_loss' was not in top 1\n",
            "INFO:pytorch_lightning.utilities.rank_zero:Epoch 31, global step 3200: 'train_loss' was not in top 1\n",
            "INFO:pytorch_lightning.utilities.rank_zero:Epoch 32, global step 3300: 'train_loss' reached -2.96839 (best -2.96839), saving model to '/content/lightning_logs/version_0/checkpoints/epoch=32-step=3300.ckpt' as top 1\n",
            "INFO:pytorch_lightning.utilities.rank_zero:Epoch 33, global step 3400: 'train_loss' was not in top 1\n",
            "INFO:pytorch_lightning.utilities.rank_zero:Epoch 34, global step 3500: 'train_loss' reached -2.96878 (best -2.96878), saving model to '/content/lightning_logs/version_0/checkpoints/epoch=34-step=3500.ckpt' as top 1\n",
            "INFO:pytorch_lightning.utilities.rank_zero:Epoch 35, global step 3600: 'train_loss' reached -2.96902 (best -2.96902), saving model to '/content/lightning_logs/version_0/checkpoints/epoch=35-step=3600.ckpt' as top 1\n",
            "INFO:pytorch_lightning.utilities.rank_zero:Epoch 36, global step 3700: 'train_loss' was not in top 1\n",
            "INFO:pytorch_lightning.utilities.rank_zero:Epoch 37, global step 3800: 'train_loss' was not in top 1\n",
            "INFO:pytorch_lightning.utilities.rank_zero:Epoch 38, global step 3900: 'train_loss' was not in top 1\n",
            "INFO:pytorch_lightning.utilities.rank_zero:Epoch 39, global step 4000: 'train_loss' was not in top 1\n",
            "INFO:pytorch_lightning.utilities.rank_zero:Epoch 40, global step 4100: 'train_loss' was not in top 1\n",
            "INFO:pytorch_lightning.utilities.rank_zero:Epoch 41, global step 4200: 'train_loss' reached -2.97090 (best -2.97090), saving model to '/content/lightning_logs/version_0/checkpoints/epoch=41-step=4200.ckpt' as top 1\n",
            "INFO:pytorch_lightning.utilities.rank_zero:Epoch 42, global step 4300: 'train_loss' was not in top 1\n",
            "INFO:pytorch_lightning.utilities.rank_zero:Epoch 43, global step 4400: 'train_loss' was not in top 1\n",
            "INFO:pytorch_lightning.utilities.rank_zero:Epoch 44, global step 4500: 'train_loss' was not in top 1\n",
            "INFO:pytorch_lightning.utilities.rank_zero:Epoch 45, global step 4600: 'train_loss' was not in top 1\n",
            "INFO:pytorch_lightning.utilities.rank_zero:Epoch 46, global step 4700: 'train_loss' was not in top 1\n",
            "INFO:pytorch_lightning.utilities.rank_zero:Epoch 47, global step 4800: 'train_loss' was not in top 1\n",
            "INFO:pytorch_lightning.utilities.rank_zero:Epoch 48, global step 4900: 'train_loss' was not in top 1\n",
            "INFO:pytorch_lightning.utilities.rank_zero:Epoch 49, global step 5000: 'train_loss' was not in top 1\n",
            "INFO:pytorch_lightning.utilities.rank_zero:`Trainer.fit` stopped: `max_epochs=50` reached.\n"
          ]
        }
      ],
      "source": [
        "predictor = estimator.train(\n",
        "    training_data=train_dataset,\n",
        "    cache_data=True,\n",
        "    shuffle_buffer_length=1024\n",
        ")"
      ]
    },
    {
      "cell_type": "markdown",
      "id": "jVIo4koHRPDL",
      "metadata": {
        "id": "jVIo4koHRPDL"
      },
      "source": [
        "And evaluate it on the test set:"
      ]
    },
    {
      "cell_type": "code",
      "execution_count": 21,
      "id": "HOSIs3pbRRGj",
      "metadata": {
        "colab": {
          "base_uri": "https://localhost:8080/"
        },
        "id": "HOSIs3pbRRGj",
        "outputId": "68ed72a8-ffc6-4925-d4bf-8b1edb01a0c9"
      },
      "outputs": [
        {
          "output_type": "stream",
          "name": "stderr",
          "text": [
            "Running evaluation: 6034it [00:00, 165692.90it/s]\n",
            "/usr/local/lib/python3.10/dist-packages/pandas/core/dtypes/astype.py:170: UserWarning: Warning: converting a masked element to nan.\n",
            "  return arr.astype(dtype, copy=True)\n"
          ]
        }
      ],
      "source": [
        "from gluonts.evaluation import make_evaluation_predictions, Evaluator\n",
        "\n",
        "forecast_it, ts_it = make_evaluation_predictions(\n",
        "    dataset=dataset.test,\n",
        "    predictor=predictor,\n",
        ")\n",
        "\n",
        "d_linear_forecasts = list(forecast_it)\n",
        "d_linear_tss = list(ts_it)\n",
        "\n",
        "evaluator = Evaluator()\n",
        "\n",
        "agg_metrics, _ = evaluator(iter(d_linear_tss), iter(d_linear_forecasts))"
      ]
    },
    {
      "cell_type": "markdown",
      "id": "HEWwzvWERRpL",
      "metadata": {
        "id": "HEWwzvWERRpL"
      },
      "source": [
        "So the result for the DLinear model is:"
      ]
    },
    {
      "cell_type": "code",
      "execution_count": 22,
      "id": "LleL1nj0RVNH",
      "metadata": {
        "colab": {
          "base_uri": "https://localhost:8080/"
        },
        "id": "LleL1nj0RVNH",
        "outputId": "9a2b8fad-ffb2-45da-f9cd-b6f87275699e",
        "scrolled": true
      },
      "outputs": [
        {
          "output_type": "stream",
          "name": "stdout",
          "text": [
            "DLinear MASE: 0.968\n"
          ]
        }
      ],
      "source": [
        "dlinear_mase = agg_metrics[\"MASE\"]\n",
        "print(f\"DLinear MASE: {dlinear_mase:.3f}\")"
      ]
    },
    {
      "cell_type": "markdown",
      "id": "j-f82ZJwRVmk",
      "metadata": {
        "id": "j-f82ZJwRVmk"
      },
      "source": [
        "As before, we plot the predictions from our trained DLinear model via this helper:"
      ]
    },
    {
      "cell_type": "code",
      "execution_count": 23,
      "id": "JCg4Lxs5RX5S",
      "metadata": {
        "id": "JCg4Lxs5RX5S"
      },
      "outputs": [],
      "source": [
        "def plot_gluonts(index):\n",
        "    plt.plot(d_linear_tss[index][-4 * dataset.metadata.prediction_length:].to_timestamp(), label=\"target\")\n",
        "    d_linear_forecasts[index].plot(show_label=True,  color='g')\n",
        "    plt.legend()\n",
        "    plt.gcf().autofmt_xdate()\n",
        "    plt.show()"
      ]
    },
    {
      "cell_type": "code",
      "execution_count": 24,
      "id": "jTcIxzldRYWC",
      "metadata": {
        "colab": {
          "base_uri": "https://localhost:8080/",
          "height": 416
        },
        "id": "jTcIxzldRYWC",
        "outputId": "c92c2e8b-7822-4472-dde8-6857df396e48"
      },
      "outputs": [
        {
          "output_type": "display_data",
          "data": {
            "text/plain": [
              "<Figure size 640x480 with 1 Axes>"
            ],
            "image/png": "[encoded data removed]"
          },
          "metadata": {}
        }
      ],
      "source": [
        "plot_gluonts(4)"
      ]
    },
    {
      "cell_type": "markdown",
      "id": "2BbAbAxiRZ4S",
      "metadata": {
        "id": "2BbAbAxiRZ4S"
      },
      "source": [
        "The `traffic` dataset has a distributional shift in the sensor patterns between weekdays and weekends. So what is going on here? Since the DLinear model has no capacity to incorporate covariates, in particular any date-time features, the context window we give it does not have enough information to figure out if the prediction is for the weekend or weekday. Thus, the model will predict the more common of the patterns, namely the weekdays leading to poorer performance on weekends. Of course, by giving it a larger context window, a linear model will figure out the weekly pattern, but perhaps there is a monthly or quarterly pattern in the data which would require bigger and bigger contexts."
      ]
    },
    {
      "cell_type": "markdown",
      "id": "WMNZspStRdh6",
      "metadata": {
        "id": "WMNZspStRdh6"
      },
      "source": [
        "## Conclusion\n",
        "\n",
        "How do Transformer-based models compare against the above linear baseline? The test set MASE metrics from the different models we have are below:\n",
        "\n",
        "|Dataset | \t Transformer (uni.) |   \t Transformer (mv.)  | Informer (uni.)| Informer (mv.) | Autoformer (uni.) | DLinear |\n",
        "|:--:|:--:| :--:| :--:| :--:|  :--:|  :--:|\n",
        "|`Traffic` \t| **0.876** | 1.046 | 0.924 | 1.131  | 0.910 | 0.965 |\n",
        "\n",
        "As one can observe, the [vanilla Transformer](https://huggingface.co/docs/transformers/model_doc/time_series_transformer) which we introduced last year gets the best results here. Secondly, multivariate models are typically _worse_ than the univariate ones, the reason being the difficulty in estimating the cross-series correlations/relationships. The additional variance added by the estimates often harms the resulting forecasts or the model learns spurious correlations. Recent papers like [CrossFormer](https://openreview.net/forum?id=vSVLM2j9eie) (ICLR 23) and [CARD](https://arxiv.org/abs/2305.12095) try to address this problem in Transformer models.\n",
        "Multivariate models usually perform well when trained on large amounts of data. However, when compared to univariate models, especially on smaller open datasets, the univariate models tend to provide better metrics. By comparing the linear model with equivalent-sized univariate transformers or in fact any other neural univariate model, one will typically get better performance.\n",
        "\n",
        "To summarize, Transformers are definitely far from being outdated when it comes to time-series forcasting!\n",
        "Yet the availability of large-scale datasets is crucial for maximizing their potential.\n",
        "Unlike in CV and NLP, the field of time series lacks publicly accessible large-scale datasets.\n",
        "Most existing pre-trained models for time series are trained on small sample sizes from archives like [UCR and UEA](https://www.timeseriesclassification.com/),\n",
        "which contain only a few thousands or even hundreds of samples.\n",
        "Although these benchmark datasets have been instrumental in the progress of the time series community,\n",
        "their limited sample sizes and lack of generality pose challenges for pre-training deep learning models.\n",
        "\n",
        "Therefore, the development of large-scale, generic time series datasets (like ImageNet in CV) is of the utmost importance.\n",
        "Creating such datasets will greatly facilitate further research on pre-trained models specifically designed for time series analysis, and it will improve the applicability of pre-trained models in time series forecasting.\n",
        "\n",
        "## Acknowledgements\n",
        "We express our appreciation to [Lysandre Debut](https://github.com/LysandreJik) and [Pedro Cuenca](https://github.com/pcuenca)\n",
        "their insightful comments and help during this project ❤️.\n",
        "\n"
      ]
    },
    {
      "cell_type": "code",
      "execution_count": null,
      "id": "zMrnXP5edKAX",
      "metadata": {
        "id": "zMrnXP5edKAX"
      },
      "outputs": [],
      "source": []
    }
  ],
  "metadata": {
    "accelerator": "GPU",
    "colab": {
      "gpuType": "T4",
      "provenance": [],
      "include_colab_link": true
    },
    "kernelspec": {
      "display_name": "Python 3 (ipykernel)",
      "language": "python",
      "name": "python3"
    },
    "language_info": {
      "codemirror_mode": {
        "name": "ipython",
        "version": 3
      },
      "file_extension": ".py",
      "mimetype": "text/x-python",
      "name": "python",
      "nbconvert_exporter": "python",
      "pygments_lexer": "ipython3",
      "version": "3.10.12"
    },
    "widgets": {
      "application/vnd.jupyter.widget-state+json": {
        "0bfccf8f15fc4b5198f23a548107a8ae": {
          "model_module": "@jupyter-widgets/controls",
          "model_name": "HBoxModel",
          "model_module_version": "1.5.0",
          "state": {
            "_dom_classes": [],
            "_model_module": "@jupyter-widgets/controls",
            "_model_module_version": "1.5.0",
            "_model_name": "HBoxModel",
            "_view_count": null,
            "_view_module": "@jupyter-widgets/controls",
            "_view_module_version": "1.5.0",
            "_view_name": "HBoxView",
            "box_style": "",
            "children": [
              "IPY_MODEL_5e037c9151484d8f892894e6f5838a53",
              "IPY_MODEL_3c91934492ca47008aee8c0123ab14df",
              "IPY_MODEL_e6c378b5c0ae48d8a102de56a1f70b80"
            ],
            "layout": "IPY_MODEL_83e7d80c8b9a43eda42a59f2886247dc"
          }
        },
        "5e037c9151484d8f892894e6f5838a53": {
          "model_module": "@jupyter-widgets/controls",
          "model_name": "HTMLModel",
          "model_module_version": "1.5.0",
          "state": {
            "_dom_classes": [],
            "_model_module": "@jupyter-widgets/controls",
            "_model_module_version": "1.5.0",
            "_model_name": "HTMLModel",
            "_view_count": null,
            "_view_module": "@jupyter-widgets/controls",
            "_view_module_version": "1.5.0",
            "_view_name": "HTMLView",
            "description": "",
            "description_tooltip": null,
            "layout": "IPY_MODEL_9b57085433e842d3a13620fa59cf799e",
            "placeholder": "​",
            "style": "IPY_MODEL_7084a9d6f4b648dcab671d96cb88b17c",
            "value": "Downloading (…)lve/main/config.json: 100%"
          }
        },
        "3c91934492ca47008aee8c0123ab14df": {
          "model_module": "@jupyter-widgets/controls",
          "model_name": "FloatProgressModel",
          "model_module_version": "1.5.0",
          "state": {
            "_dom_classes": [],
            "_model_module": "@jupyter-widgets/controls",
            "_model_module_version": "1.5.0",
            "_model_name": "FloatProgressModel",
            "_view_count": null,
            "_view_module": "@jupyter-widgets/controls",
            "_view_module_version": "1.5.0",
            "_view_name": "ProgressView",
            "bar_style": "success",
            "description": "",
            "description_tooltip": null,
            "layout": "IPY_MODEL_3073ff27c79f4601a07ac66a98742c8e",
            "max": 1406,
            "min": 0,
            "orientation": "horizontal",
            "style": "IPY_MODEL_70ef9f158bf34e858e3c60c324efdf56",
            "value": 1406
          }
        },
        "e6c378b5c0ae48d8a102de56a1f70b80": {
          "model_module": "@jupyter-widgets/controls",
          "model_name": "HTMLModel",
          "model_module_version": "1.5.0",
          "state": {
            "_dom_classes": [],
            "_model_module": "@jupyter-widgets/controls",
            "_model_module_version": "1.5.0",
            "_model_name": "HTMLModel",
            "_view_count": null,
            "_view_module": "@jupyter-widgets/controls",
            "_view_module_version": "1.5.0",
            "_view_name": "HTMLView",
            "description": "",
            "description_tooltip": null,
            "layout": "IPY_MODEL_cee766a477284d1797aca4db994ff03c",
            "placeholder": "​",
            "style": "IPY_MODEL_bbc2c9f101214e15b8b5c8a19bbd3ad4",
            "value": " 1.41k/1.41k [00:00&lt;00:00, 66.8kB/s]"
          }
        },
        "83e7d80c8b9a43eda42a59f2886247dc": {
          "model_module": "@jupyter-widgets/base",
          "model_name": "LayoutModel",
          "model_module_version": "1.2.0",
          "state": {
            "_model_module": "@jupyter-widgets/base",
            "_model_module_version": "1.2.0",
            "_model_name": "LayoutModel",
            "_view_count": null,
            "_view_module": "@jupyter-widgets/base",
            "_view_module_version": "1.2.0",
            "_view_name": "LayoutView",
            "align_content": null,
            "align_items": null,
            "align_self": null,
            "border": null,
            "bottom": null,
            "display": null,
            "flex": null,
            "flex_flow": null,
            "grid_area": null,
            "grid_auto_columns": null,
            "grid_auto_flow": null,
            "grid_auto_rows": null,
            "grid_column": null,
            "grid_gap": null,
            "grid_row": null,
            "grid_template_areas": null,
            "grid_template_columns": null,
            "grid_template_rows": null,
            "height": null,
            "justify_content": null,
            "justify_items": null,
            "left": null,
            "margin": null,
            "max_height": null,
            "max_width": null,
            "min_height": null,
            "min_width": null,
            "object_fit": null,
            "object_position": null,
            "order": null,
            "overflow": null,
            "overflow_x": null,
            "overflow_y": null,
            "padding": null,
            "right": null,
            "top": null,
            "visibility": null,
            "width": null
          }
        },
        "9b57085433e842d3a13620fa59cf799e": {
          "model_module": "@jupyter-widgets/base",
          "model_name": "LayoutModel",
          "model_module_version": "1.2.0",
          "state": {
            "_model_module": "@jupyter-widgets/base",
            "_model_module_version": "1.2.0",
            "_model_name": "LayoutModel",
            "_view_count": null,
            "_view_module": "@jupyter-widgets/base",
            "_view_module_version": "1.2.0",
            "_view_name": "LayoutView",
            "align_content": null,
            "align_items": null,
            "align_self": null,
            "border": null,
            "bottom": null,
            "display": null,
            "flex": null,
            "flex_flow": null,
            "grid_area": null,
            "grid_auto_columns": null,
            "grid_auto_flow": null,
            "grid_auto_rows": null,
            "grid_column": null,
            "grid_gap": null,
            "grid_row": null,
            "grid_template_areas": null,
            "grid_template_columns": null,
            "grid_template_rows": null,
            "height": null,
            "justify_content": null,
            "justify_items": null,
            "left": null,
            "margin": null,
            "max_height": null,
            "max_width": null,
            "min_height": null,
            "min_width": null,
            "object_fit": null,
            "object_position": null,
            "order": null,
            "overflow": null,
            "overflow_x": null,
            "overflow_y": null,
            "padding": null,
            "right": null,
            "top": null,
            "visibility": null,
            "width": null
          }
        },
        "7084a9d6f4b648dcab671d96cb88b17c": {
          "model_module": "@jupyter-widgets/controls",
          "model_name": "DescriptionStyleModel",
          "model_module_version": "1.5.0",
          "state": {
            "_model_module": "@jupyter-widgets/controls",
            "_model_module_version": "1.5.0",
            "_model_name": "DescriptionStyleModel",
            "_view_count": null,
            "_view_module": "@jupyter-widgets/base",
            "_view_module_version": "1.2.0",
            "_view_name": "StyleView",
            "description_width": ""
          }
        },
        "3073ff27c79f4601a07ac66a98742c8e": {
          "model_module": "@jupyter-widgets/base",
          "model_name": "LayoutModel",
          "model_module_version": "1.2.0",
          "state": {
            "_model_module": "@jupyter-widgets/base",
            "_model_module_version": "1.2.0",
            "_model_name": "LayoutModel",
            "_view_count": null,
            "_view_module": "@jupyter-widgets/base",
            "_view_module_version": "1.2.0",
            "_view_name": "LayoutView",
            "align_content": null,
            "align_items": null,
            "align_self": null,
            "border": null,
            "bottom": null,
            "display": null,
            "flex": null,
            "flex_flow": null,
            "grid_area": null,
            "grid_auto_columns": null,
            "grid_auto_flow": null,
            "grid_auto_rows": null,
            "grid_column": null,
            "grid_gap": null,
            "grid_row": null,
            "grid_template_areas": null,
            "grid_template_columns": null,
            "grid_template_rows": null,
            "height": null,
            "justify_content": null,
            "justify_items": null,
            "left": null,
            "margin": null,
            "max_height": null,
            "max_width": null,
            "min_height": null,
            "min_width": null,
            "object_fit": null,
            "object_position": null,
            "order": null,
            "overflow": null,
            "overflow_x": null,
            "overflow_y": null,
            "padding": null,
            "right": null,
            "top": null,
            "visibility": null,
            "width": null
          }
        },
        "70ef9f158bf34e858e3c60c324efdf56": {
          "model_module": "@jupyter-widgets/controls",
          "model_name": "ProgressStyleModel",
          "model_module_version": "1.5.0",
          "state": {
            "_model_module": "@jupyter-widgets/controls",
            "_model_module_version": "1.5.0",
            "_model_name": "ProgressStyleModel",
            "_view_count": null,
            "_view_module": "@jupyter-widgets/base",
            "_view_module_version": "1.2.0",
            "_view_name": "StyleView",
            "bar_color": null,
            "description_width": ""
          }
        },
        "cee766a477284d1797aca4db994ff03c": {
          "model_module": "@jupyter-widgets/base",
          "model_name": "LayoutModel",
          "model_module_version": "1.2.0",
          "state": {
            "_model_module": "@jupyter-widgets/base",
            "_model_module_version": "1.2.0",
            "_model_name": "LayoutModel",
            "_view_count": null,
            "_view_module": "@jupyter-widgets/base",
            "_view_module_version": "1.2.0",
            "_view_name": "LayoutView",
            "align_content": null,
            "align_items": null,
            "align_self": null,
            "border": null,
            "bottom": null,
            "display": null,
            "flex": null,
            "flex_flow": null,
            "grid_area": null,
            "grid_auto_columns": null,
            "grid_auto_flow": null,
            "grid_auto_rows": null,
            "grid_column": null,
            "grid_gap": null,
            "grid_row": null,
            "grid_template_areas": null,
            "grid_template_columns": null,
            "grid_template_rows": null,
            "height": null,
            "justify_content": null,
            "justify_items": null,
            "left": null,
            "margin": null,
            "max_height": null,
            "max_width": null,
            "min_height": null,
            "min_width": null,
            "object_fit": null,
            "object_position": null,
            "order": null,
            "overflow": null,
            "overflow_x": null,
            "overflow_y": null,
            "padding": null,
            "right": null,
            "top": null,
            "visibility": null,
            "width": null
          }
        },
        "bbc2c9f101214e15b8b5c8a19bbd3ad4": {
          "model_module": "@jupyter-widgets/controls",
          "model_name": "DescriptionStyleModel",
          "model_module_version": "1.5.0",
          "state": {
            "_model_module": "@jupyter-widgets/controls",
            "_model_module_version": "1.5.0",
            "_model_name": "DescriptionStyleModel",
            "_view_count": null,
            "_view_module": "@jupyter-widgets/base",
            "_view_module_version": "1.2.0",
            "_view_name": "StyleView",
            "description_width": ""
          }
        },
        "0be48540854b446a95b3da9c3437d54e": {
          "model_module": "@jupyter-widgets/controls",
          "model_name": "HBoxModel",
          "model_module_version": "1.5.0",
          "state": {
            "_dom_classes": [],
            "_model_module": "@jupyter-widgets/controls",
            "_model_module_version": "1.5.0",
            "_model_name": "HBoxModel",
            "_view_count": null,
            "_view_module": "@jupyter-widgets/controls",
            "_view_module_version": "1.5.0",
            "_view_name": "HBoxView",
            "box_style": "",
            "children": [
              "IPY_MODEL_949f3d12440d4b89b13070c5c5ef275f",
              "IPY_MODEL_14b956facb874bcdb8617553e9bc5b25",
              "IPY_MODEL_72e97a7eda3c474f827f4769d7dec862"
            ],
            "layout": "IPY_MODEL_5a4c13953fad42699bbe7dc997f0c655"
          }
        },
        "949f3d12440d4b89b13070c5c5ef275f": {
          "model_module": "@jupyter-widgets/controls",
          "model_name": "HTMLModel",
          "model_module_version": "1.5.0",
          "state": {
            "_dom_classes": [],
            "_model_module": "@jupyter-widgets/controls",
            "_model_module_version": "1.5.0",
            "_model_name": "HTMLModel",
            "_view_count": null,
            "_view_module": "@jupyter-widgets/controls",
            "_view_module_version": "1.5.0",
            "_view_name": "HTMLView",
            "description": "",
            "description_tooltip": null,
            "layout": "IPY_MODEL_b9fd867c8aab44ff9bf518026584d587",
            "placeholder": "​",
            "style": "IPY_MODEL_1b94c47cd33747dcaae29e71b898c273",
            "value": "Downloading pytorch_model.bin: 100%"
          }
        },
        "14b956facb874bcdb8617553e9bc5b25": {
          "model_module": "@jupyter-widgets/controls",
          "model_name": "FloatProgressModel",
          "model_module_version": "1.5.0",
          "state": {
            "_dom_classes": [],
            "_model_module": "@jupyter-widgets/controls",
            "_model_module_version": "1.5.0",
            "_model_name": "FloatProgressModel",
            "_view_count": null,
            "_view_module": "@jupyter-widgets/controls",
            "_view_module_version": "1.5.0",
            "_view_name": "ProgressView",
            "bar_style": "success",
            "description": "",
            "description_tooltip": null,
            "layout": "IPY_MODEL_6098d91a29814682b0148bf3e6e486e8",
            "max": 116322,
            "min": 0,
            "orientation": "horizontal",
            "style": "IPY_MODEL_a255e9e15e0d452f951bdb8a3714944e",
            "value": 116322
          }
        },
        "72e97a7eda3c474f827f4769d7dec862": {
          "model_module": "@jupyter-widgets/controls",
          "model_name": "HTMLModel",
          "model_module_version": "1.5.0",
          "state": {
            "_dom_classes": [],
            "_model_module": "@jupyter-widgets/controls",
            "_model_module_version": "1.5.0",
            "_model_name": "HTMLModel",
            "_view_count": null,
            "_view_module": "@jupyter-widgets/controls",
            "_view_module_version": "1.5.0",
            "_view_name": "HTMLView",
            "description": "",
            "description_tooltip": null,
            "layout": "IPY_MODEL_c2db5419b3d342fa80323573915892b3",
            "placeholder": "​",
            "style": "IPY_MODEL_25e45a73f4454a94be45b04a4dea4ba7",
            "value": " 116k/116k [00:00&lt;00:00, 2.58MB/s]"
          }
        },
        "5a4c13953fad42699bbe7dc997f0c655": {
          "model_module": "@jupyter-widgets/base",
          "model_name": "LayoutModel",
          "model_module_version": "1.2.0",
          "state": {
            "_model_module": "@jupyter-widgets/base",
            "_model_module_version": "1.2.0",
            "_model_name": "LayoutModel",
            "_view_count": null,
            "_view_module": "@jupyter-widgets/base",
            "_view_module_version": "1.2.0",
            "_view_name": "LayoutView",
            "align_content": null,
            "align_items": null,
            "align_self": null,
            "border": null,
            "bottom": null,
            "display": null,
            "flex": null,
            "flex_flow": null,
            "grid_area": null,
            "grid_auto_columns": null,
            "grid_auto_flow": null,
            "grid_auto_rows": null,
            "grid_column": null,
            "grid_gap": null,
            "grid_row": null,
            "grid_template_areas": null,
            "grid_template_columns": null,
            "grid_template_rows": null,
            "height": null,
            "justify_content": null,
            "justify_items": null,
            "left": null,
            "margin": null,
            "max_height": null,
            "max_width": null,
            "min_height": null,
            "min_width": null,
            "object_fit": null,
            "object_position": null,
            "order": null,
            "overflow": null,
            "overflow_x": null,
            "overflow_y": null,
            "padding": null,
            "right": null,
            "top": null,
            "visibility": null,
            "width": null
          }
        },
        "b9fd867c8aab44ff9bf518026584d587": {
          "model_module": "@jupyter-widgets/base",
          "model_name": "LayoutModel",
          "model_module_version": "1.2.0",
          "state": {
            "_model_module": "@jupyter-widgets/base",
            "_model_module_version": "1.2.0",
            "_model_name": "LayoutModel",
            "_view_count": null,
            "_view_module": "@jupyter-widgets/base",
            "_view_module_version": "1.2.0",
            "_view_name": "LayoutView",
            "align_content": null,
            "align_items": null,
            "align_self": null,
            "border": null,
            "bottom": null,
            "display": null,
            "flex": null,
            "flex_flow": null,
            "grid_area": null,
            "grid_auto_columns": null,
            "grid_auto_flow": null,
            "grid_auto_rows": null,
            "grid_column": null,
            "grid_gap": null,
            "grid_row": null,
            "grid_template_areas": null,
            "grid_template_columns": null,
            "grid_template_rows": null,
            "height": null,
            "justify_content": null,
            "justify_items": null,
            "left": null,
            "margin": null,
            "max_height": null,
            "max_width": null,
            "min_height": null,
            "min_width": null,
            "object_fit": null,
            "object_position": null,
            "order": null,
            "overflow": null,
            "overflow_x": null,
            "overflow_y": null,
            "padding": null,
            "right": null,
            "top": null,
            "visibility": null,
            "width": null
          }
        },
        "1b94c47cd33747dcaae29e71b898c273": {
          "model_module": "@jupyter-widgets/controls",
          "model_name": "DescriptionStyleModel",
          "model_module_version": "1.5.0",
          "state": {
            "_model_module": "@jupyter-widgets/controls",
            "_model_module_version": "1.5.0",
            "_model_name": "DescriptionStyleModel",
            "_view_count": null,
            "_view_module": "@jupyter-widgets/base",
            "_view_module_version": "1.2.0",
            "_view_name": "StyleView",
            "description_width": ""
          }
        },
        "6098d91a29814682b0148bf3e6e486e8": {
          "model_module": "@jupyter-widgets/base",
          "model_name": "LayoutModel",
          "model_module_version": "1.2.0",
          "state": {
            "_model_module": "@jupyter-widgets/base",
            "_model_module_version": "1.2.0",
            "_model_name": "LayoutModel",
            "_view_count": null,
            "_view_module": "@jupyter-widgets/base",
            "_view_module_version": "1.2.0",
            "_view_name": "LayoutView",
            "align_content": null,
            "align_items": null,
            "align_self": null,
            "border": null,
            "bottom": null,
            "display": null,
            "flex": null,
            "flex_flow": null,
            "grid_area": null,
            "grid_auto_columns": null,
            "grid_auto_flow": null,
            "grid_auto_rows": null,
            "grid_column": null,
            "grid_gap": null,
            "grid_row": null,
            "grid_template_areas": null,
            "grid_template_columns": null,
            "grid_template_rows": null,
            "height": null,
            "justify_content": null,
            "justify_items": null,
            "left": null,
            "margin": null,
            "max_height": null,
            "max_width": null,
            "min_height": null,
            "min_width": null,
            "object_fit": null,
            "object_position": null,
            "order": null,
            "overflow": null,
            "overflow_x": null,
            "overflow_y": null,
            "padding": null,
            "right": null,
            "top": null,
            "visibility": null,
            "width": null
          }
        },
        "a255e9e15e0d452f951bdb8a3714944e": {
          "model_module": "@jupyter-widgets/controls",
          "model_name": "ProgressStyleModel",
          "model_module_version": "1.5.0",
          "state": {
            "_model_module": "@jupyter-widgets/controls",
            "_model_module_version": "1.5.0",
            "_model_name": "ProgressStyleModel",
            "_view_count": null,
            "_view_module": "@jupyter-widgets/base",
            "_view_module_version": "1.2.0",
            "_view_name": "StyleView",
            "bar_color": null,
            "description_width": ""
          }
        },
        "c2db5419b3d342fa80323573915892b3": {
          "model_module": "@jupyter-widgets/base",
          "model_name": "LayoutModel",
          "model_module_version": "1.2.0",
          "state": {
            "_model_module": "@jupyter-widgets/base",
            "_model_module_version": "1.2.0",
            "_model_name": "LayoutModel",
            "_view_count": null,
            "_view_module": "@jupyter-widgets/base",
            "_view_module_version": "1.2.0",
            "_view_name": "LayoutView",
            "align_content": null,
            "align_items": null,
            "align_self": null,
            "border": null,
            "bottom": null,
            "display": null,
            "flex": null,
            "flex_flow": null,
            "grid_area": null,
            "grid_auto_columns": null,
            "grid_auto_flow": null,
            "grid_auto_rows": null,
            "grid_column": null,
            "grid_gap": null,
            "grid_row": null,
            "grid_template_areas": null,
            "grid_template_columns": null,
            "grid_template_rows": null,
            "height": null,
            "justify_content": null,
            "justify_items": null,
            "left": null,
            "margin": null,
            "max_height": null,
            "max_width": null,
            "min_height": null,
            "min_width": null,
            "object_fit": null,
            "object_position": null,
            "order": null,
            "overflow": null,
            "overflow_x": null,
            "overflow_y": null,
            "padding": null,
            "right": null,
            "top": null,
            "visibility": null,
            "width": null
          }
        },
        "25e45a73f4454a94be45b04a4dea4ba7": {
          "model_module": "@jupyter-widgets/controls",
          "model_name": "DescriptionStyleModel",
          "model_module_version": "1.5.0",
          "state": {
            "_model_module": "@jupyter-widgets/controls",
            "_model_module_version": "1.5.0",
            "_model_name": "DescriptionStyleModel",
            "_view_count": null,
            "_view_module": "@jupyter-widgets/base",
            "_view_module_version": "1.2.0",
            "_view_name": "StyleView",
            "description_width": ""
          }
        },
        "fe4b2399e5434cca9bc0acd6ce33dbba": {
          "model_module": "@jupyter-widgets/controls",
          "model_name": "HBoxModel",
          "model_module_version": "1.5.0",
          "state": {
            "_dom_classes": [],
            "_model_module": "@jupyter-widgets/controls",
            "_model_module_version": "1.5.0",
            "_model_name": "HBoxModel",
            "_view_count": null,
            "_view_module": "@jupyter-widgets/controls",
            "_view_module_version": "1.5.0",
            "_view_name": "HBoxView",
            "box_style": "",
            "children": [
              "IPY_MODEL_52bd10f768e6430dac5d353e5b8b1c11",
              "IPY_MODEL_c17f97bf01ad421c880b6e3f74c46e3e",
              "IPY_MODEL_349872811f6d4d38a4e66b51f932e4bd"
            ],
            "layout": "IPY_MODEL_48ade6541aeb4000bd96e25105013b2b"
          }
        },
        "52bd10f768e6430dac5d353e5b8b1c11": {
          "model_module": "@jupyter-widgets/controls",
          "model_name": "HTMLModel",
          "model_module_version": "1.5.0",
          "state": {
            "_dom_classes": [],
            "_model_module": "@jupyter-widgets/controls",
            "_model_module_version": "1.5.0",
            "_model_name": "HTMLModel",
            "_view_count": null,
            "_view_module": "@jupyter-widgets/controls",
            "_view_module_version": "1.5.0",
            "_view_name": "HTMLView",
            "description": "",
            "description_tooltip": null,
            "layout": "IPY_MODEL_ffb7267853594be486c2db73b2697ec7",
            "placeholder": "​",
            "style": "IPY_MODEL_ba9c5769032e49d78f39266067d6c8df",
            "value": "Downloading builder script: 100%"
          }
        },
        "c17f97bf01ad421c880b6e3f74c46e3e": {
          "model_module": "@jupyter-widgets/controls",
          "model_name": "FloatProgressModel",
          "model_module_version": "1.5.0",
          "state": {
            "_dom_classes": [],
            "_model_module": "@jupyter-widgets/controls",
            "_model_module_version": "1.5.0",
            "_model_name": "FloatProgressModel",
            "_view_count": null,
            "_view_module": "@jupyter-widgets/controls",
            "_view_module_version": "1.5.0",
            "_view_name": "ProgressView",
            "bar_style": "success",
            "description": "",
            "description_tooltip": null,
            "layout": "IPY_MODEL_ced3bff86a124ae8a11097c3941800ab",
            "max": 5504,
            "min": 0,
            "orientation": "horizontal",
            "style": "IPY_MODEL_8b053883087f41479284fd6158c39a5d",
            "value": 5504
          }
        },
        "349872811f6d4d38a4e66b51f932e4bd": {
          "model_module": "@jupyter-widgets/controls",
          "model_name": "HTMLModel",
          "model_module_version": "1.5.0",
          "state": {
            "_dom_classes": [],
            "_model_module": "@jupyter-widgets/controls",
            "_model_module_version": "1.5.0",
            "_model_name": "HTMLModel",
            "_view_count": null,
            "_view_module": "@jupyter-widgets/controls",
            "_view_module_version": "1.5.0",
            "_view_name": "HTMLView",
            "description": "",
            "description_tooltip": null,
            "layout": "IPY_MODEL_41c95f0deaf54a21b0633dda52bc391c",
            "placeholder": "​",
            "style": "IPY_MODEL_8fa7afd894154079bd10e4d6601e7595",
            "value": " 5.50k/5.50k [00:00&lt;00:00, 311kB/s]"
          }
        },
        "48ade6541aeb4000bd96e25105013b2b": {
          "model_module": "@jupyter-widgets/base",
          "model_name": "LayoutModel",
          "model_module_version": "1.2.0",
          "state": {
            "_model_module": "@jupyter-widgets/base",
            "_model_module_version": "1.2.0",
            "_model_name": "LayoutModel",
            "_view_count": null,
            "_view_module": "@jupyter-widgets/base",
            "_view_module_version": "1.2.0",
            "_view_name": "LayoutView",
            "align_content": null,
            "align_items": null,
            "align_self": null,
            "border": null,
            "bottom": null,
            "display": null,
            "flex": null,
            "flex_flow": null,
            "grid_area": null,
            "grid_auto_columns": null,
            "grid_auto_flow": null,
            "grid_auto_rows": null,
            "grid_column": null,
            "grid_gap": null,
            "grid_row": null,
            "grid_template_areas": null,
            "grid_template_columns": null,
            "grid_template_rows": null,
            "height": null,
            "justify_content": null,
            "justify_items": null,
            "left": null,
            "margin": null,
            "max_height": null,
            "max_width": null,
            "min_height": null,
            "min_width": null,
            "object_fit": null,
            "object_position": null,
            "order": null,
            "overflow": null,
            "overflow_x": null,
            "overflow_y": null,
            "padding": null,
            "right": null,
            "top": null,
            "visibility": null,
            "width": null
          }
        },
        "ffb7267853594be486c2db73b2697ec7": {
          "model_module": "@jupyter-widgets/base",
          "model_name": "LayoutModel",
          "model_module_version": "1.2.0",
          "state": {
            "_model_module": "@jupyter-widgets/base",
            "_model_module_version": "1.2.0",
            "_model_name": "LayoutModel",
            "_view_count": null,
            "_view_module": "@jupyter-widgets/base",
            "_view_module_version": "1.2.0",
            "_view_name": "LayoutView",
            "align_content": null,
            "align_items": null,
            "align_self": null,
            "border": null,
            "bottom": null,
            "display": null,
            "flex": null,
            "flex_flow": null,
            "grid_area": null,
            "grid_auto_columns": null,
            "grid_auto_flow": null,
            "grid_auto_rows": null,
            "grid_column": null,
            "grid_gap": null,
            "grid_row": null,
            "grid_template_areas": null,
            "grid_template_columns": null,
            "grid_template_rows": null,
            "height": null,
            "justify_content": null,
            "justify_items": null,
            "left": null,
            "margin": null,
            "max_height": null,
            "max_width": null,
            "min_height": null,
            "min_width": null,
            "object_fit": null,
            "object_position": null,
            "order": null,
            "overflow": null,
            "overflow_x": null,
            "overflow_y": null,
            "padding": null,
            "right": null,
            "top": null,
            "visibility": null,
            "width": null
          }
        },
        "ba9c5769032e49d78f39266067d6c8df": {
          "model_module": "@jupyter-widgets/controls",
          "model_name": "DescriptionStyleModel",
          "model_module_version": "1.5.0",
          "state": {
            "_model_module": "@jupyter-widgets/controls",
            "_model_module_version": "1.5.0",
            "_model_name": "DescriptionStyleModel",
            "_view_count": null,
            "_view_module": "@jupyter-widgets/base",
            "_view_module_version": "1.2.0",
            "_view_name": "StyleView",
            "description_width": ""
          }
        },
        "ced3bff86a124ae8a11097c3941800ab": {
          "model_module": "@jupyter-widgets/base",
          "model_name": "LayoutModel",
          "model_module_version": "1.2.0",
          "state": {
            "_model_module": "@jupyter-widgets/base",
            "_model_module_version": "1.2.0",
            "_model_name": "LayoutModel",
            "_view_count": null,
            "_view_module": "@jupyter-widgets/base",
            "_view_module_version": "1.2.0",
            "_view_name": "LayoutView",
            "align_content": null,
            "align_items": null,
            "align_self": null,
            "border": null,
            "bottom": null,
            "display": null,
            "flex": null,
            "flex_flow": null,
            "grid_area": null,
            "grid_auto_columns": null,
            "grid_auto_flow": null,
            "grid_auto_rows": null,
            "grid_column": null,
            "grid_gap": null,
            "grid_row": null,
            "grid_template_areas": null,
            "grid_template_columns": null,
            "grid_template_rows": null,
            "height": null,
            "justify_content": null,
            "justify_items": null,
            "left": null,
            "margin": null,
            "max_height": null,
            "max_width": null,
            "min_height": null,
            "min_width": null,
            "object_fit": null,
            "object_position": null,
            "order": null,
            "overflow": null,
            "overflow_x": null,
            "overflow_y": null,
            "padding": null,
            "right": null,
            "top": null,
            "visibility": null,
            "width": null
          }
        },
        "8b053883087f41479284fd6158c39a5d": {
          "model_module": "@jupyter-widgets/controls",
          "model_name": "ProgressStyleModel",
          "model_module_version": "1.5.0",
          "state": {
            "_model_module": "@jupyter-widgets/controls",
            "_model_module_version": "1.5.0",
            "_model_name": "ProgressStyleModel",
            "_view_count": null,
            "_view_module": "@jupyter-widgets/base",
            "_view_module_version": "1.2.0",
            "_view_name": "StyleView",
            "bar_color": null,
            "description_width": ""
          }
        },
        "41c95f0deaf54a21b0633dda52bc391c": {
          "model_module": "@jupyter-widgets/base",
          "model_name": "LayoutModel",
          "model_module_version": "1.2.0",
          "state": {
            "_model_module": "@jupyter-widgets/base",
            "_model_module_version": "1.2.0",
            "_model_name": "LayoutModel",
            "_view_count": null,
            "_view_module": "@jupyter-widgets/base",
            "_view_module_version": "1.2.0",
            "_view_name": "LayoutView",
            "align_content": null,
            "align_items": null,
            "align_self": null,
            "border": null,
            "bottom": null,
            "display": null,
            "flex": null,
            "flex_flow": null,
            "grid_area": null,
            "grid_auto_columns": null,
            "grid_auto_flow": null,
            "grid_auto_rows": null,
            "grid_column": null,
            "grid_gap": null,
            "grid_row": null,
            "grid_template_areas": null,
            "grid_template_columns": null,
            "grid_template_rows": null,
            "height": null,
            "justify_content": null,
            "justify_items": null,
            "left": null,
            "margin": null,
            "max_height": null,
            "max_width": null,
            "min_height": null,
            "min_width": null,
            "object_fit": null,
            "object_position": null,
            "order": null,
            "overflow": null,
            "overflow_x": null,
            "overflow_y": null,
            "padding": null,
            "right": null,
            "top": null,
            "visibility": null,
            "width": null
          }
        },
        "8fa7afd894154079bd10e4d6601e7595": {
          "model_module": "@jupyter-widgets/controls",
          "model_name": "DescriptionStyleModel",
          "model_module_version": "1.5.0",
          "state": {
            "_model_module": "@jupyter-widgets/controls",
            "_model_module_version": "1.5.0",
            "_model_name": "DescriptionStyleModel",
            "_view_count": null,
            "_view_module": "@jupyter-widgets/base",
            "_view_module_version": "1.2.0",
            "_view_name": "StyleView",
            "description_width": ""
          }
        },
        "b0a73ba7ec9945ca900ed0625a65b467": {
          "model_module": "@jupyter-widgets/controls",
          "model_name": "HBoxModel",
          "model_module_version": "1.5.0",
          "state": {
            "_dom_classes": [],
            "_model_module": "@jupyter-widgets/controls",
            "_model_module_version": "1.5.0",
            "_model_name": "HBoxModel",
            "_view_count": null,
            "_view_module": "@jupyter-widgets/controls",
            "_view_module_version": "1.5.0",
            "_view_name": "HBoxView",
            "box_style": "",
            "children": [
              "IPY_MODEL_c747fb787cef4c4585260a3180121213",
              "IPY_MODEL_00e3bb0864fa478f8e53ad923d046274",
              "IPY_MODEL_8fe445e5570f4593b7f104a44eb5a49d"
            ],
            "layout": "IPY_MODEL_a06f877eb4a946359b17783cbceca130"
          }
        },
        "c747fb787cef4c4585260a3180121213": {
          "model_module": "@jupyter-widgets/controls",
          "model_name": "HTMLModel",
          "model_module_version": "1.5.0",
          "state": {
            "_dom_classes": [],
            "_model_module": "@jupyter-widgets/controls",
            "_model_module_version": "1.5.0",
            "_model_name": "HTMLModel",
            "_view_count": null,
            "_view_module": "@jupyter-widgets/controls",
            "_view_module_version": "1.5.0",
            "_view_name": "HTMLView",
            "description": "",
            "description_tooltip": null,
            "layout": "IPY_MODEL_77c1cb2d5653473d811b41a957e03166",
            "placeholder": "​",
            "style": "IPY_MODEL_c4cd62df0b114a9482de33f176c50aac",
            "value": "100%"
          }
        },
        "00e3bb0864fa478f8e53ad923d046274": {
          "model_module": "@jupyter-widgets/controls",
          "model_name": "FloatProgressModel",
          "model_module_version": "1.5.0",
          "state": {
            "_dom_classes": [],
            "_model_module": "@jupyter-widgets/controls",
            "_model_module_version": "1.5.0",
            "_model_name": "FloatProgressModel",
            "_view_count": null,
            "_view_module": "@jupyter-widgets/controls",
            "_view_module_version": "1.5.0",
            "_view_name": "ProgressView",
            "bar_style": "success",
            "description": "",
            "description_tooltip": null,
            "layout": "IPY_MODEL_17d49fb075374afb9bd99b6c174c484f",
            "max": 6034,
            "min": 0,
            "orientation": "horizontal",
            "style": "IPY_MODEL_375ca7029da347ee8c01487201399017",
            "value": 6034
          }
        },
        "8fe445e5570f4593b7f104a44eb5a49d": {
          "model_module": "@jupyter-widgets/controls",
          "model_name": "HTMLModel",
          "model_module_version": "1.5.0",
          "state": {
            "_dom_classes": [],
            "_model_module": "@jupyter-widgets/controls",
            "_model_module_version": "1.5.0",
            "_model_name": "HTMLModel",
            "_view_count": null,
            "_view_module": "@jupyter-widgets/controls",
            "_view_module_version": "1.5.0",
            "_view_name": "HTMLView",
            "description": "",
            "description_tooltip": null,
            "layout": "IPY_MODEL_2e15bb6bce344c97a76c8a29df09f73b",
            "placeholder": "​",
            "style": "IPY_MODEL_5a228dd3a4d84ffe8a07a839822a8a3b",
            "value": " 6034/6034 [00:42&lt;00:00, 167.46it/s]"
          }
        },
        "a06f877eb4a946359b17783cbceca130": {
          "model_module": "@jupyter-widgets/base",
          "model_name": "LayoutModel",
          "model_module_version": "1.2.0",
          "state": {
            "_model_module": "@jupyter-widgets/base",
            "_model_module_version": "1.2.0",
            "_model_name": "LayoutModel",
            "_view_count": null,
            "_view_module": "@jupyter-widgets/base",
            "_view_module_version": "1.2.0",
            "_view_name": "LayoutView",
            "align_content": null,
            "align_items": null,
            "align_self": null,
            "border": null,
            "bottom": null,
            "display": null,
            "flex": null,
            "flex_flow": null,
            "grid_area": null,
            "grid_auto_columns": null,
            "grid_auto_flow": null,
            "grid_auto_rows": null,
            "grid_column": null,
            "grid_gap": null,
            "grid_row": null,
            "grid_template_areas": null,
            "grid_template_columns": null,
            "grid_template_rows": null,
            "height": null,
            "justify_content": null,
            "justify_items": null,
            "left": null,
            "margin": null,
            "max_height": null,
            "max_width": null,
            "min_height": null,
            "min_width": null,
            "object_fit": null,
            "object_position": null,
            "order": null,
            "overflow": null,
            "overflow_x": null,
            "overflow_y": null,
            "padding": null,
            "right": null,
            "top": null,
            "visibility": null,
            "width": null
          }
        },
        "77c1cb2d5653473d811b41a957e03166": {
          "model_module": "@jupyter-widgets/base",
          "model_name": "LayoutModel",
          "model_module_version": "1.2.0",
          "state": {
            "_model_module": "@jupyter-widgets/base",
            "_model_module_version": "1.2.0",
            "_model_name": "LayoutModel",
            "_view_count": null,
            "_view_module": "@jupyter-widgets/base",
            "_view_module_version": "1.2.0",
            "_view_name": "LayoutView",
            "align_content": null,
            "align_items": null,
            "align_self": null,
            "border": null,
            "bottom": null,
            "display": null,
            "flex": null,
            "flex_flow": null,
            "grid_area": null,
            "grid_auto_columns": null,
            "grid_auto_flow": null,
            "grid_auto_rows": null,
            "grid_column": null,
            "grid_gap": null,
            "grid_row": null,
            "grid_template_areas": null,
            "grid_template_columns": null,
            "grid_template_rows": null,
            "height": null,
            "justify_content": null,
            "justify_items": null,
            "left": null,
            "margin": null,
            "max_height": null,
            "max_width": null,
            "min_height": null,
            "min_width": null,
            "object_fit": null,
            "object_position": null,
            "order": null,
            "overflow": null,
            "overflow_x": null,
            "overflow_y": null,
            "padding": null,
            "right": null,
            "top": null,
            "visibility": null,
            "width": null
          }
        },
        "c4cd62df0b114a9482de33f176c50aac": {
          "model_module": "@jupyter-widgets/controls",
          "model_name": "DescriptionStyleModel",
          "model_module_version": "1.5.0",
          "state": {
            "_model_module": "@jupyter-widgets/controls",
            "_model_module_version": "1.5.0",
            "_model_name": "DescriptionStyleModel",
            "_view_count": null,
            "_view_module": "@jupyter-widgets/base",
            "_view_module_version": "1.2.0",
            "_view_name": "StyleView",
            "description_width": ""
          }
        },
        "17d49fb075374afb9bd99b6c174c484f": {
          "model_module": "@jupyter-widgets/base",
          "model_name": "LayoutModel",
          "model_module_version": "1.2.0",
          "state": {
            "_model_module": "@jupyter-widgets/base",
            "_model_module_version": "1.2.0",
            "_model_name": "LayoutModel",
            "_view_count": null,
            "_view_module": "@jupyter-widgets/base",
            "_view_module_version": "1.2.0",
            "_view_name": "LayoutView",
            "align_content": null,
            "align_items": null,
            "align_self": null,
            "border": null,
            "bottom": null,
            "display": null,
            "flex": null,
            "flex_flow": null,
            "grid_area": null,
            "grid_auto_columns": null,
            "grid_auto_flow": null,
            "grid_auto_rows": null,
            "grid_column": null,
            "grid_gap": null,
            "grid_row": null,
            "grid_template_areas": null,
            "grid_template_columns": null,
            "grid_template_rows": null,
            "height": null,
            "justify_content": null,
            "justify_items": null,
            "left": null,
            "margin": null,
            "max_height": null,
            "max_width": null,
            "min_height": null,
            "min_width": null,
            "object_fit": null,
            "object_position": null,
            "order": null,
            "overflow": null,
            "overflow_x": null,
            "overflow_y": null,
            "padding": null,
            "right": null,
            "top": null,
            "visibility": null,
            "width": null
          }
        },
        "375ca7029da347ee8c01487201399017": {
          "model_module": "@jupyter-widgets/controls",
          "model_name": "ProgressStyleModel",
          "model_module_version": "1.5.0",
          "state": {
            "_model_module": "@jupyter-widgets/controls",
            "_model_module_version": "1.5.0",
            "_model_name": "ProgressStyleModel",
            "_view_count": null,
            "_view_module": "@jupyter-widgets/base",
            "_view_module_version": "1.2.0",
            "_view_name": "StyleView",
            "bar_color": null,
            "description_width": ""
          }
        },
        "2e15bb6bce344c97a76c8a29df09f73b": {
          "model_module": "@jupyter-widgets/base",
          "model_name": "LayoutModel",
          "model_module_version": "1.2.0",
          "state": {
            "_model_module": "@jupyter-widgets/base",
            "_model_module_version": "1.2.0",
            "_model_name": "LayoutModel",
            "_view_count": null,
            "_view_module": "@jupyter-widgets/base",
            "_view_module_version": "1.2.0",
            "_view_name": "LayoutView",
            "align_content": null,
            "align_items": null,
            "align_self": null,
            "border": null,
            "bottom": null,
            "display": null,
            "flex": null,
            "flex_flow": null,
            "grid_area": null,
            "grid_auto_columns": null,
            "grid_auto_flow": null,
            "grid_auto_rows": null,
            "grid_column": null,
            "grid_gap": null,
            "grid_row": null,
            "grid_template_areas": null,
            "grid_template_columns": null,
            "grid_template_rows": null,
            "height": null,
            "justify_content": null,
            "justify_items": null,
            "left": null,
            "margin": null,
            "max_height": null,
            "max_width": null,
            "min_height": null,
            "min_width": null,
            "object_fit": null,
            "object_position": null,
            "order": null,
            "overflow": null,
            "overflow_x": null,
            "overflow_y": null,
            "padding": null,
            "right": null,
            "top": null,
            "visibility": null,
            "width": null
          }
        },
        "5a228dd3a4d84ffe8a07a839822a8a3b": {
          "model_module": "@jupyter-widgets/controls",
          "model_name": "DescriptionStyleModel",
          "model_module_version": "1.5.0",
          "state": {
            "_model_module": "@jupyter-widgets/controls",
            "_model_module_version": "1.5.0",
            "_model_name": "DescriptionStyleModel",
            "_view_count": null,
            "_view_module": "@jupyter-widgets/base",
            "_view_module_version": "1.2.0",
            "_view_name": "StyleView",
            "description_width": ""
          }
        },
        "b0fe907b56b04642a83e50e90b94cbf1": {
          "model_module": "@jupyter-widgets/controls",
          "model_name": "HBoxModel",
          "model_module_version": "1.5.0",
          "state": {
            "_dom_classes": [],
            "_model_module": "@jupyter-widgets/controls",
            "_model_module_version": "1.5.0",
            "_model_name": "HBoxModel",
            "_view_count": null,
            "_view_module": "@jupyter-widgets/controls",
            "_view_module_version": "1.5.0",
            "_view_name": "HBoxView",
            "box_style": "",
            "children": [
              "IPY_MODEL_8ebaa95f8d27472d8ad91ad9104b2d3c",
              "IPY_MODEL_b1e72459516344b89ac25d14a351d253",
              "IPY_MODEL_559fa18ba27f4b35971a4e211cb1df10"
            ],
            "layout": "IPY_MODEL_71d67c0087cf428fbb813413e49ca65e"
          }
        },
        "8ebaa95f8d27472d8ad91ad9104b2d3c": {
          "model_module": "@jupyter-widgets/controls",
          "model_name": "HTMLModel",
          "model_module_version": "1.5.0",
          "state": {
            "_dom_classes": [],
            "_model_module": "@jupyter-widgets/controls",
            "_model_module_version": "1.5.0",
            "_model_name": "HTMLModel",
            "_view_count": null,
            "_view_module": "@jupyter-widgets/controls",
            "_view_module_version": "1.5.0",
            "_view_name": "HTMLView",
            "description": "",
            "description_tooltip": null,
            "layout": "IPY_MODEL_dcca53863cbc42c181c184ca59addd90",
            "placeholder": "​",
            "style": "IPY_MODEL_7adbb5bfae5048938171367c78a7df71",
            "value": "Epoch 49: "
          }
        },
        "b1e72459516344b89ac25d14a351d253": {
          "model_module": "@jupyter-widgets/controls",
          "model_name": "FloatProgressModel",
          "model_module_version": "1.5.0",
          "state": {
            "_dom_classes": [],
            "_model_module": "@jupyter-widgets/controls",
            "_model_module_version": "1.5.0",
            "_model_name": "FloatProgressModel",
            "_view_count": null,
            "_view_module": "@jupyter-widgets/controls",
            "_view_module_version": "1.5.0",
            "_view_name": "ProgressView",
            "bar_style": "success",
            "description": "",
            "description_tooltip": null,
            "layout": "IPY_MODEL_947fffb966c84bac89f1f30ea9b334db",
            "max": 1,
            "min": 0,
            "orientation": "horizontal",
            "style": "IPY_MODEL_819d653e2a0f497b807d1fc9fe3e8fb2",
            "value": 1
          }
        },
        "559fa18ba27f4b35971a4e211cb1df10": {
          "model_module": "@jupyter-widgets/controls",
          "model_name": "HTMLModel",
          "model_module_version": "1.5.0",
          "state": {
            "_dom_classes": [],
            "_model_module": "@jupyter-widgets/controls",
            "_model_module_version": "1.5.0",
            "_model_name": "HTMLModel",
            "_view_count": null,
            "_view_module": "@jupyter-widgets/controls",
            "_view_module_version": "1.5.0",
            "_view_name": "HTMLView",
            "description": "",
            "description_tooltip": null,
            "layout": "IPY_MODEL_bd164887b2ef471eabcd3d25c5f942f9",
            "placeholder": "​",
            "style": "IPY_MODEL_7e7c41032e664fe5bacd5434b3d35a52",
            "value": " 100/? [00:03&lt;00:00, 29.17it/s, v_num=0, train_loss=-2.95]"
          }
        },
        "71d67c0087cf428fbb813413e49ca65e": {
          "model_module": "@jupyter-widgets/base",
          "model_name": "LayoutModel",
          "model_module_version": "1.2.0",
          "state": {
            "_model_module": "@jupyter-widgets/base",
            "_model_module_version": "1.2.0",
            "_model_name": "LayoutModel",
            "_view_count": null,
            "_view_module": "@jupyter-widgets/base",
            "_view_module_version": "1.2.0",
            "_view_name": "LayoutView",
            "align_content": null,
            "align_items": null,
            "align_self": null,
            "border": null,
            "bottom": null,
            "display": "inline-flex",
            "flex": null,
            "flex_flow": "row wrap",
            "grid_area": null,
            "grid_auto_columns": null,
            "grid_auto_flow": null,
            "grid_auto_rows": null,
            "grid_column": null,
            "grid_gap": null,
            "grid_row": null,
            "grid_template_areas": null,
            "grid_template_columns": null,
            "grid_template_rows": null,
            "height": null,
            "justify_content": null,
            "justify_items": null,
            "left": null,
            "margin": null,
            "max_height": null,
            "max_width": null,
            "min_height": null,
            "min_width": null,
            "object_fit": null,
            "object_position": null,
            "order": null,
            "overflow": null,
            "overflow_x": null,
            "overflow_y": null,
            "padding": null,
            "right": null,
            "top": null,
            "visibility": null,
            "width": "100%"
          }
        },
        "dcca53863cbc42c181c184ca59addd90": {
          "model_module": "@jupyter-widgets/base",
          "model_name": "LayoutModel",
          "model_module_version": "1.2.0",
          "state": {
            "_model_module": "@jupyter-widgets/base",
            "_model_module_version": "1.2.0",
            "_model_name": "LayoutModel",
            "_view_count": null,
            "_view_module": "@jupyter-widgets/base",
            "_view_module_version": "1.2.0",
            "_view_name": "LayoutView",
            "align_content": null,
            "align_items": null,
            "align_self": null,
            "border": null,
            "bottom": null,
            "display": null,
            "flex": null,
            "flex_flow": null,
            "grid_area": null,
            "grid_auto_columns": null,
            "grid_auto_flow": null,
            "grid_auto_rows": null,
            "grid_column": null,
            "grid_gap": null,
            "grid_row": null,
            "grid_template_areas": null,
            "grid_template_columns": null,
            "grid_template_rows": null,
            "height": null,
            "justify_content": null,
            "justify_items": null,
            "left": null,
            "margin": null,
            "max_height": null,
            "max_width": null,
            "min_height": null,
            "min_width": null,
            "object_fit": null,
            "object_position": null,
            "order": null,
            "overflow": null,
            "overflow_x": null,
            "overflow_y": null,
            "padding": null,
            "right": null,
            "top": null,
            "visibility": null,
            "width": null
          }
        },
        "7adbb5bfae5048938171367c78a7df71": {
          "model_module": "@jupyter-widgets/controls",
          "model_name": "DescriptionStyleModel",
          "model_module_version": "1.5.0",
          "state": {
            "_model_module": "@jupyter-widgets/controls",
            "_model_module_version": "1.5.0",
            "_model_name": "DescriptionStyleModel",
            "_view_count": null,
            "_view_module": "@jupyter-widgets/base",
            "_view_module_version": "1.2.0",
            "_view_name": "StyleView",
            "description_width": ""
          }
        },
        "947fffb966c84bac89f1f30ea9b334db": {
          "model_module": "@jupyter-widgets/base",
          "model_name": "LayoutModel",
          "model_module_version": "1.2.0",
          "state": {
            "_model_module": "@jupyter-widgets/base",
            "_model_module_version": "1.2.0",
            "_model_name": "LayoutModel",
            "_view_count": null,
            "_view_module": "@jupyter-widgets/base",
            "_view_module_version": "1.2.0",
            "_view_name": "LayoutView",
            "align_content": null,
            "align_items": null,
            "align_self": null,
            "border": null,
            "bottom": null,
            "display": null,
            "flex": "2",
            "flex_flow": null,
            "grid_area": null,
            "grid_auto_columns": null,
            "grid_auto_flow": null,
            "grid_auto_rows": null,
            "grid_column": null,
            "grid_gap": null,
            "grid_row": null,
            "grid_template_areas": null,
            "grid_template_columns": null,
            "grid_template_rows": null,
            "height": null,
            "justify_content": null,
            "justify_items": null,
            "left": null,
            "margin": null,
            "max_height": null,
            "max_width": null,
            "min_height": null,
            "min_width": null,
            "object_fit": null,
            "object_position": null,
            "order": null,
            "overflow": null,
            "overflow_x": null,
            "overflow_y": null,
            "padding": null,
            "right": null,
            "top": null,
            "visibility": null,
            "width": null
          }
        },
        "819d653e2a0f497b807d1fc9fe3e8fb2": {
          "model_module": "@jupyter-widgets/controls",
          "model_name": "ProgressStyleModel",
          "model_module_version": "1.5.0",
          "state": {
            "_model_module": "@jupyter-widgets/controls",
            "_model_module_version": "1.5.0",
            "_model_name": "ProgressStyleModel",
            "_view_count": null,
            "_view_module": "@jupyter-widgets/base",
            "_view_module_version": "1.2.0",
            "_view_name": "StyleView",
            "bar_color": null,
            "description_width": ""
          }
        },
        "bd164887b2ef471eabcd3d25c5f942f9": {
          "model_module": "@jupyter-widgets/base",
          "model_name": "LayoutModel",
          "model_module_version": "1.2.0",
          "state": {
            "_model_module": "@jupyter-widgets/base",
            "_model_module_version": "1.2.0",
            "_model_name": "LayoutModel",
            "_view_count": null,
            "_view_module": "@jupyter-widgets/base",
            "_view_module_version": "1.2.0",
            "_view_name": "LayoutView",
            "align_content": null,
            "align_items": null,
            "align_self": null,
            "border": null,
            "bottom": null,
            "display": null,
            "flex": null,
            "flex_flow": null,
            "grid_area": null,
            "grid_auto_columns": null,
            "grid_auto_flow": null,
            "grid_auto_rows": null,
            "grid_column": null,
            "grid_gap": null,
            "grid_row": null,
            "grid_template_areas": null,
            "grid_template_columns": null,
            "grid_template_rows": null,
            "height": null,
            "justify_content": null,
            "justify_items": null,
            "left": null,
            "margin": null,
            "max_height": null,
            "max_width": null,
            "min_height": null,
            "min_width": null,
            "object_fit": null,
            "object_position": null,
            "order": null,
            "overflow": null,
            "overflow_x": null,
            "overflow_y": null,
            "padding": null,
            "right": null,
            "top": null,
            "visibility": null,
            "width": null
          }
        },
        "7e7c41032e664fe5bacd5434b3d35a52": {
          "model_module": "@jupyter-widgets/controls",
          "model_name": "DescriptionStyleModel",
          "model_module_version": "1.5.0",
          "state": {
            "_model_module": "@jupyter-widgets/controls",
            "_model_module_version": "1.5.0",
            "_model_name": "DescriptionStyleModel",
            "_view_count": null,
            "_view_module": "@jupyter-widgets/base",
            "_view_module_version": "1.2.0",
            "_view_name": "StyleView",
            "description_width": ""
          }
        }
      }
    }
  },
  "nbformat": 4,
  "nbformat_minor": 5
}